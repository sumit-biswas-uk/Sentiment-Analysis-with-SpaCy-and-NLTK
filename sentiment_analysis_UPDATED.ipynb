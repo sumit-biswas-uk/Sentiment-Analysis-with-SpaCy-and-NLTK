{
  "nbformat": 4,
  "nbformat_minor": 0,
  "metadata": {
    "colab": {
      "provenance": []
    },
    "kernelspec": {
      "name": "python3",
      "display_name": "Python 3"
    },
    "language_info": {
      "name": "python"
    }
  },
  "cells": [
    {
      "cell_type": "markdown",
      "source": [
        "# Important:\n",
        "\n",
        "Please note that the database is too big to be uploaded to GitHub. Therefore, please use the following link to download the \"Datafiniti_Amazon_Consumer_Reviews_of_Amazon_Products_May19\" dataset from the following link to analyse through this program.\n",
        "\n",
        "https://www.kaggle.com/datasets/datafiniti/consumer-reviews-of-amazon-products"
      ],
      "metadata": {
        "id": "ClgNjmRRhCBL"
      }
    },
    {
      "cell_type": "markdown",
      "source": [
        "# Sentiment Analysis with Spacy and TextBlob\n",
        "\n",
        "This is a program to analyse polarity of text (understanding if the sentiment of the text is positive, neutral, or negative) using Spacy and TextBlob.\n",
        "\n",
        "For this purpose, we are using Amazon consumer reviews of products for Kaggle.com.\n",
        "\n",
        "Please note that all the necessary libraries are already installed."
      ],
      "metadata": {
        "id": "yYx6oGTDRJYc"
      }
    },
    {
      "cell_type": "markdown",
      "source": [
        "### Importing libraries"
      ],
      "metadata": {
        "id": "kDpwL3BHRtOR"
      }
    },
    {
      "cell_type": "code",
      "execution_count": null,
      "metadata": {
        "id": "UXgv5lgAhDi3"
      },
      "outputs": [],
      "source": [
        "import numpy as np\n",
        "import matplotlib.pyplot as plt\n",
        "import pandas as pd\n",
        "import spacy\n",
        "from textblob import TextBlob\n",
        "from wordcloud import WordCloud\n",
        "from collections import defaultdict\n",
        "from sklearn.metrics import accuracy_score,classification_report,confusion_matrix, ConfusionMatrixDisplay"
      ]
    },
    {
      "cell_type": "markdown",
      "source": [
        "### Mounting our drive and mapping to our dataset."
      ],
      "metadata": {
        "id": "3Bu0kUrmRyUz"
      }
    },
    {
      "cell_type": "code",
      "source": [
        "from google.colab import drive\n",
        "drive.mount('/content/drive')\n",
        "file_path = '/content/drive/MyDrive/Colab Notebooks/CoGrammer/Datafiniti_Amazon_Consumer_Reviews_of_Amazon_Products_May19.csv'\n",
        "\n",
        "amazon_reviews_dataframe_raw = pd.read_csv(file_path)\n",
        "\n",
        "# Reviewing a subset of our Dataframe.\n",
        "amazon_reviews_dataframe_raw.head()"
      ],
      "metadata": {
        "id": "j85GhVYohgrs",
        "colab": {
          "base_uri": "https://localhost:8080/",
          "height": 620
        },
        "outputId": "7846c5b9-192b-45fa-f93d-ba384e1fbca4"
      },
      "execution_count": null,
      "outputs": [
        {
          "output_type": "stream",
          "name": "stdout",
          "text": [
            "Drive already mounted at /content/drive; to attempt to forcibly remount, call drive.mount(\"/content/drive\", force_remount=True).\n"
          ]
        },
        {
          "output_type": "execute_result",
          "data": {
            "text/plain": [
              "                     id             dateAdded           dateUpdated  \\\n",
              "0  AVpgNzjwLJeJML43Kpxn  2015-10-30T08:59:32Z  2019-04-25T09:08:16Z   \n",
              "1  AVpgNzjwLJeJML43Kpxn  2015-10-30T08:59:32Z  2019-04-25T09:08:16Z   \n",
              "2  AVpgNzjwLJeJML43Kpxn  2015-10-30T08:59:32Z  2019-04-25T09:08:16Z   \n",
              "3  AVpgNzjwLJeJML43Kpxn  2015-10-30T08:59:32Z  2019-04-25T09:08:16Z   \n",
              "4  AVpgNzjwLJeJML43Kpxn  2015-10-30T08:59:32Z  2019-04-25T09:08:16Z   \n",
              "\n",
              "                                                name                  asins  \\\n",
              "0  AmazonBasics AAA Performance Alkaline Batterie...  B00QWO9P0O,B00LH3DMUO   \n",
              "1  AmazonBasics AAA Performance Alkaline Batterie...  B00QWO9P0O,B00LH3DMUO   \n",
              "2  AmazonBasics AAA Performance Alkaline Batterie...  B00QWO9P0O,B00LH3DMUO   \n",
              "3  AmazonBasics AAA Performance Alkaline Batterie...  B00QWO9P0O,B00LH3DMUO   \n",
              "4  AmazonBasics AAA Performance Alkaline Batterie...  B00QWO9P0O,B00LH3DMUO   \n",
              "\n",
              "          brand                                         categories  \\\n",
              "0  Amazonbasics  AA,AAA,Health,Electronics,Health & Household,C...   \n",
              "1  Amazonbasics  AA,AAA,Health,Electronics,Health & Household,C...   \n",
              "2  Amazonbasics  AA,AAA,Health,Electronics,Health & Household,C...   \n",
              "3  Amazonbasics  AA,AAA,Health,Electronics,Health & Household,C...   \n",
              "4  Amazonbasics  AA,AAA,Health,Electronics,Health & Household,C...   \n",
              "\n",
              "  primaryCategories                                          imageURLs  \\\n",
              "0   Health & Beauty  https://images-na.ssl-images-amazon.com/images...   \n",
              "1   Health & Beauty  https://images-na.ssl-images-amazon.com/images...   \n",
              "2   Health & Beauty  https://images-na.ssl-images-amazon.com/images...   \n",
              "3   Health & Beauty  https://images-na.ssl-images-amazon.com/images...   \n",
              "4   Health & Beauty  https://images-na.ssl-images-amazon.com/images...   \n",
              "\n",
              "                                                keys  ... reviews.didPurchase  \\\n",
              "0  amazonbasics/hl002619,amazonbasicsaaaperforman...  ...                 NaN   \n",
              "1  amazonbasics/hl002619,amazonbasicsaaaperforman...  ...                 NaN   \n",
              "2  amazonbasics/hl002619,amazonbasicsaaaperforman...  ...                 NaN   \n",
              "3  amazonbasics/hl002619,amazonbasicsaaaperforman...  ...                 NaN   \n",
              "4  amazonbasics/hl002619,amazonbasicsaaaperforman...  ...                 NaN   \n",
              "\n",
              "  reviews.doRecommend reviews.id reviews.numHelpful reviews.rating  \\\n",
              "0                 NaN        NaN                NaN              3   \n",
              "1                 NaN        NaN                NaN              4   \n",
              "2                 NaN        NaN                NaN              5   \n",
              "3                 NaN        NaN                NaN              5   \n",
              "4                 NaN        NaN                NaN              5   \n",
              "\n",
              "                                  reviews.sourceURLs  \\\n",
              "0  https://www.amazon.com/product-reviews/B00QWO9...   \n",
              "1  https://www.amazon.com/product-reviews/B00QWO9...   \n",
              "2  https://www.amazon.com/product-reviews/B00QWO9...   \n",
              "3  https://www.amazon.com/product-reviews/B00QWO9...   \n",
              "4  https://www.amazon.com/product-reviews/B00QWO9...   \n",
              "\n",
              "                                        reviews.text  \\\n",
              "0  I order 3 of them and one of the item is bad q...   \n",
              "1  Bulk is always the less expensive way to go fo...   \n",
              "2  Well they are not Duracell but for the price i...   \n",
              "3  Seem to work as well as name brand batteries a...   \n",
              "4  These batteries are very long lasting the pric...   \n",
              "\n",
              "                                       reviews.title  reviews.username  \\\n",
              "0  ... 3 of them and one of the item is bad quali...        Byger yang   \n",
              "1  ... always the less expensive way to go for pr...              ByMG   \n",
              "2  ... are not Duracell but for the price i am ha...  BySharon Lambert   \n",
              "3  ... as well as name brand batteries at a much ...     Bymark sexson   \n",
              "4  ... batteries are very long lasting the price ...           Bylinda   \n",
              "\n",
              "                                          sourceURLs  \n",
              "0  https://www.barcodable.com/upc/841710106442,ht...  \n",
              "1  https://www.barcodable.com/upc/841710106442,ht...  \n",
              "2  https://www.barcodable.com/upc/841710106442,ht...  \n",
              "3  https://www.barcodable.com/upc/841710106442,ht...  \n",
              "4  https://www.barcodable.com/upc/841710106442,ht...  \n",
              "\n",
              "[5 rows x 24 columns]"
            ],
            "text/html": [
              "\n",
              "  <div id=\"df-08bf78ac-83cc-47ee-998e-7131d2cf7b2f\" class=\"colab-df-container\">\n",
              "    <div>\n",
              "<style scoped>\n",
              "    .dataframe tbody tr th:only-of-type {\n",
              "        vertical-align: middle;\n",
              "    }\n",
              "\n",
              "    .dataframe tbody tr th {\n",
              "        vertical-align: top;\n",
              "    }\n",
              "\n",
              "    .dataframe thead th {\n",
              "        text-align: right;\n",
              "    }\n",
              "</style>\n",
              "<table border=\"1\" class=\"dataframe\">\n",
              "  <thead>\n",
              "    <tr style=\"text-align: right;\">\n",
              "      <th></th>\n",
              "      <th>id</th>\n",
              "      <th>dateAdded</th>\n",
              "      <th>dateUpdated</th>\n",
              "      <th>name</th>\n",
              "      <th>asins</th>\n",
              "      <th>brand</th>\n",
              "      <th>categories</th>\n",
              "      <th>primaryCategories</th>\n",
              "      <th>imageURLs</th>\n",
              "      <th>keys</th>\n",
              "      <th>...</th>\n",
              "      <th>reviews.didPurchase</th>\n",
              "      <th>reviews.doRecommend</th>\n",
              "      <th>reviews.id</th>\n",
              "      <th>reviews.numHelpful</th>\n",
              "      <th>reviews.rating</th>\n",
              "      <th>reviews.sourceURLs</th>\n",
              "      <th>reviews.text</th>\n",
              "      <th>reviews.title</th>\n",
              "      <th>reviews.username</th>\n",
              "      <th>sourceURLs</th>\n",
              "    </tr>\n",
              "  </thead>\n",
              "  <tbody>\n",
              "    <tr>\n",
              "      <th>0</th>\n",
              "      <td>AVpgNzjwLJeJML43Kpxn</td>\n",
              "      <td>2015-10-30T08:59:32Z</td>\n",
              "      <td>2019-04-25T09:08:16Z</td>\n",
              "      <td>AmazonBasics AAA Performance Alkaline Batterie...</td>\n",
              "      <td>B00QWO9P0O,B00LH3DMUO</td>\n",
              "      <td>Amazonbasics</td>\n",
              "      <td>AA,AAA,Health,Electronics,Health &amp; Household,C...</td>\n",
              "      <td>Health &amp; Beauty</td>\n",
              "      <td>https://images-na.ssl-images-amazon.com/images...</td>\n",
              "      <td>amazonbasics/hl002619,amazonbasicsaaaperforman...</td>\n",
              "      <td>...</td>\n",
              "      <td>NaN</td>\n",
              "      <td>NaN</td>\n",
              "      <td>NaN</td>\n",
              "      <td>NaN</td>\n",
              "      <td>3</td>\n",
              "      <td>https://www.amazon.com/product-reviews/B00QWO9...</td>\n",
              "      <td>I order 3 of them and one of the item is bad q...</td>\n",
              "      <td>... 3 of them and one of the item is bad quali...</td>\n",
              "      <td>Byger yang</td>\n",
              "      <td>https://www.barcodable.com/upc/841710106442,ht...</td>\n",
              "    </tr>\n",
              "    <tr>\n",
              "      <th>1</th>\n",
              "      <td>AVpgNzjwLJeJML43Kpxn</td>\n",
              "      <td>2015-10-30T08:59:32Z</td>\n",
              "      <td>2019-04-25T09:08:16Z</td>\n",
              "      <td>AmazonBasics AAA Performance Alkaline Batterie...</td>\n",
              "      <td>B00QWO9P0O,B00LH3DMUO</td>\n",
              "      <td>Amazonbasics</td>\n",
              "      <td>AA,AAA,Health,Electronics,Health &amp; Household,C...</td>\n",
              "      <td>Health &amp; Beauty</td>\n",
              "      <td>https://images-na.ssl-images-amazon.com/images...</td>\n",
              "      <td>amazonbasics/hl002619,amazonbasicsaaaperforman...</td>\n",
              "      <td>...</td>\n",
              "      <td>NaN</td>\n",
              "      <td>NaN</td>\n",
              "      <td>NaN</td>\n",
              "      <td>NaN</td>\n",
              "      <td>4</td>\n",
              "      <td>https://www.amazon.com/product-reviews/B00QWO9...</td>\n",
              "      <td>Bulk is always the less expensive way to go fo...</td>\n",
              "      <td>... always the less expensive way to go for pr...</td>\n",
              "      <td>ByMG</td>\n",
              "      <td>https://www.barcodable.com/upc/841710106442,ht...</td>\n",
              "    </tr>\n",
              "    <tr>\n",
              "      <th>2</th>\n",
              "      <td>AVpgNzjwLJeJML43Kpxn</td>\n",
              "      <td>2015-10-30T08:59:32Z</td>\n",
              "      <td>2019-04-25T09:08:16Z</td>\n",
              "      <td>AmazonBasics AAA Performance Alkaline Batterie...</td>\n",
              "      <td>B00QWO9P0O,B00LH3DMUO</td>\n",
              "      <td>Amazonbasics</td>\n",
              "      <td>AA,AAA,Health,Electronics,Health &amp; Household,C...</td>\n",
              "      <td>Health &amp; Beauty</td>\n",
              "      <td>https://images-na.ssl-images-amazon.com/images...</td>\n",
              "      <td>amazonbasics/hl002619,amazonbasicsaaaperforman...</td>\n",
              "      <td>...</td>\n",
              "      <td>NaN</td>\n",
              "      <td>NaN</td>\n",
              "      <td>NaN</td>\n",
              "      <td>NaN</td>\n",
              "      <td>5</td>\n",
              "      <td>https://www.amazon.com/product-reviews/B00QWO9...</td>\n",
              "      <td>Well they are not Duracell but for the price i...</td>\n",
              "      <td>... are not Duracell but for the price i am ha...</td>\n",
              "      <td>BySharon Lambert</td>\n",
              "      <td>https://www.barcodable.com/upc/841710106442,ht...</td>\n",
              "    </tr>\n",
              "    <tr>\n",
              "      <th>3</th>\n",
              "      <td>AVpgNzjwLJeJML43Kpxn</td>\n",
              "      <td>2015-10-30T08:59:32Z</td>\n",
              "      <td>2019-04-25T09:08:16Z</td>\n",
              "      <td>AmazonBasics AAA Performance Alkaline Batterie...</td>\n",
              "      <td>B00QWO9P0O,B00LH3DMUO</td>\n",
              "      <td>Amazonbasics</td>\n",
              "      <td>AA,AAA,Health,Electronics,Health &amp; Household,C...</td>\n",
              "      <td>Health &amp; Beauty</td>\n",
              "      <td>https://images-na.ssl-images-amazon.com/images...</td>\n",
              "      <td>amazonbasics/hl002619,amazonbasicsaaaperforman...</td>\n",
              "      <td>...</td>\n",
              "      <td>NaN</td>\n",
              "      <td>NaN</td>\n",
              "      <td>NaN</td>\n",
              "      <td>NaN</td>\n",
              "      <td>5</td>\n",
              "      <td>https://www.amazon.com/product-reviews/B00QWO9...</td>\n",
              "      <td>Seem to work as well as name brand batteries a...</td>\n",
              "      <td>... as well as name brand batteries at a much ...</td>\n",
              "      <td>Bymark sexson</td>\n",
              "      <td>https://www.barcodable.com/upc/841710106442,ht...</td>\n",
              "    </tr>\n",
              "    <tr>\n",
              "      <th>4</th>\n",
              "      <td>AVpgNzjwLJeJML43Kpxn</td>\n",
              "      <td>2015-10-30T08:59:32Z</td>\n",
              "      <td>2019-04-25T09:08:16Z</td>\n",
              "      <td>AmazonBasics AAA Performance Alkaline Batterie...</td>\n",
              "      <td>B00QWO9P0O,B00LH3DMUO</td>\n",
              "      <td>Amazonbasics</td>\n",
              "      <td>AA,AAA,Health,Electronics,Health &amp; Household,C...</td>\n",
              "      <td>Health &amp; Beauty</td>\n",
              "      <td>https://images-na.ssl-images-amazon.com/images...</td>\n",
              "      <td>amazonbasics/hl002619,amazonbasicsaaaperforman...</td>\n",
              "      <td>...</td>\n",
              "      <td>NaN</td>\n",
              "      <td>NaN</td>\n",
              "      <td>NaN</td>\n",
              "      <td>NaN</td>\n",
              "      <td>5</td>\n",
              "      <td>https://www.amazon.com/product-reviews/B00QWO9...</td>\n",
              "      <td>These batteries are very long lasting the pric...</td>\n",
              "      <td>... batteries are very long lasting the price ...</td>\n",
              "      <td>Bylinda</td>\n",
              "      <td>https://www.barcodable.com/upc/841710106442,ht...</td>\n",
              "    </tr>\n",
              "  </tbody>\n",
              "</table>\n",
              "<p>5 rows × 24 columns</p>\n",
              "</div>\n",
              "    <div class=\"colab-df-buttons\">\n",
              "\n",
              "  <div class=\"colab-df-container\">\n",
              "    <button class=\"colab-df-convert\" onclick=\"convertToInteractive('df-08bf78ac-83cc-47ee-998e-7131d2cf7b2f')\"\n",
              "            title=\"Convert this dataframe to an interactive table.\"\n",
              "            style=\"display:none;\">\n",
              "\n",
              "  <svg xmlns=\"http://www.w3.org/2000/svg\" height=\"24px\" viewBox=\"0 -960 960 960\">\n",
              "    <path d=\"M120-120v-720h720v720H120Zm60-500h600v-160H180v160Zm220 220h160v-160H400v160Zm0 220h160v-160H400v160ZM180-400h160v-160H180v160Zm440 0h160v-160H620v160ZM180-180h160v-160H180v160Zm440 0h160v-160H620v160Z\"/>\n",
              "  </svg>\n",
              "    </button>\n",
              "\n",
              "  <style>\n",
              "    .colab-df-container {\n",
              "      display:flex;\n",
              "      gap: 12px;\n",
              "    }\n",
              "\n",
              "    .colab-df-convert {\n",
              "      background-color: #E8F0FE;\n",
              "      border: none;\n",
              "      border-radius: 50%;\n",
              "      cursor: pointer;\n",
              "      display: none;\n",
              "      fill: #1967D2;\n",
              "      height: 32px;\n",
              "      padding: 0 0 0 0;\n",
              "      width: 32px;\n",
              "    }\n",
              "\n",
              "    .colab-df-convert:hover {\n",
              "      background-color: #E2EBFA;\n",
              "      box-shadow: 0px 1px 2px rgba(60, 64, 67, 0.3), 0px 1px 3px 1px rgba(60, 64, 67, 0.15);\n",
              "      fill: #174EA6;\n",
              "    }\n",
              "\n",
              "    .colab-df-buttons div {\n",
              "      margin-bottom: 4px;\n",
              "    }\n",
              "\n",
              "    [theme=dark] .colab-df-convert {\n",
              "      background-color: #3B4455;\n",
              "      fill: #D2E3FC;\n",
              "    }\n",
              "\n",
              "    [theme=dark] .colab-df-convert:hover {\n",
              "      background-color: #434B5C;\n",
              "      box-shadow: 0px 1px 3px 1px rgba(0, 0, 0, 0.15);\n",
              "      filter: drop-shadow(0px 1px 2px rgba(0, 0, 0, 0.3));\n",
              "      fill: #FFFFFF;\n",
              "    }\n",
              "  </style>\n",
              "\n",
              "    <script>\n",
              "      const buttonEl =\n",
              "        document.querySelector('#df-08bf78ac-83cc-47ee-998e-7131d2cf7b2f button.colab-df-convert');\n",
              "      buttonEl.style.display =\n",
              "        google.colab.kernel.accessAllowed ? 'block' : 'none';\n",
              "\n",
              "      async function convertToInteractive(key) {\n",
              "        const element = document.querySelector('#df-08bf78ac-83cc-47ee-998e-7131d2cf7b2f');\n",
              "        const dataTable =\n",
              "          await google.colab.kernel.invokeFunction('convertToInteractive',\n",
              "                                                    [key], {});\n",
              "        if (!dataTable) return;\n",
              "\n",
              "        const docLinkHtml = 'Like what you see? Visit the ' +\n",
              "          '<a target=\"_blank\" href=https://colab.research.google.com/notebooks/data_table.ipynb>data table notebook</a>'\n",
              "          + ' to learn more about interactive tables.';\n",
              "        element.innerHTML = '';\n",
              "        dataTable['output_type'] = 'display_data';\n",
              "        await google.colab.output.renderOutput(dataTable, element);\n",
              "        const docLink = document.createElement('div');\n",
              "        docLink.innerHTML = docLinkHtml;\n",
              "        element.appendChild(docLink);\n",
              "      }\n",
              "    </script>\n",
              "  </div>\n",
              "\n",
              "\n",
              "<div id=\"df-bf6e0741-332f-4fda-90f0-88a1559b434f\">\n",
              "  <button class=\"colab-df-quickchart\" onclick=\"quickchart('df-bf6e0741-332f-4fda-90f0-88a1559b434f')\"\n",
              "            title=\"Suggest charts\"\n",
              "            style=\"display:none;\">\n",
              "\n",
              "<svg xmlns=\"http://www.w3.org/2000/svg\" height=\"24px\"viewBox=\"0 0 24 24\"\n",
              "     width=\"24px\">\n",
              "    <g>\n",
              "        <path d=\"M19 3H5c-1.1 0-2 .9-2 2v14c0 1.1.9 2 2 2h14c1.1 0 2-.9 2-2V5c0-1.1-.9-2-2-2zM9 17H7v-7h2v7zm4 0h-2V7h2v10zm4 0h-2v-4h2v4z\"/>\n",
              "    </g>\n",
              "</svg>\n",
              "  </button>\n",
              "\n",
              "<style>\n",
              "  .colab-df-quickchart {\n",
              "      --bg-color: #E8F0FE;\n",
              "      --fill-color: #1967D2;\n",
              "      --hover-bg-color: #E2EBFA;\n",
              "      --hover-fill-color: #174EA6;\n",
              "      --disabled-fill-color: #AAA;\n",
              "      --disabled-bg-color: #DDD;\n",
              "  }\n",
              "\n",
              "  [theme=dark] .colab-df-quickchart {\n",
              "      --bg-color: #3B4455;\n",
              "      --fill-color: #D2E3FC;\n",
              "      --hover-bg-color: #434B5C;\n",
              "      --hover-fill-color: #FFFFFF;\n",
              "      --disabled-bg-color: #3B4455;\n",
              "      --disabled-fill-color: #666;\n",
              "  }\n",
              "\n",
              "  .colab-df-quickchart {\n",
              "    background-color: var(--bg-color);\n",
              "    border: none;\n",
              "    border-radius: 50%;\n",
              "    cursor: pointer;\n",
              "    display: none;\n",
              "    fill: var(--fill-color);\n",
              "    height: 32px;\n",
              "    padding: 0;\n",
              "    width: 32px;\n",
              "  }\n",
              "\n",
              "  .colab-df-quickchart:hover {\n",
              "    background-color: var(--hover-bg-color);\n",
              "    box-shadow: 0 1px 2px rgba(60, 64, 67, 0.3), 0 1px 3px 1px rgba(60, 64, 67, 0.15);\n",
              "    fill: var(--button-hover-fill-color);\n",
              "  }\n",
              "\n",
              "  .colab-df-quickchart-complete:disabled,\n",
              "  .colab-df-quickchart-complete:disabled:hover {\n",
              "    background-color: var(--disabled-bg-color);\n",
              "    fill: var(--disabled-fill-color);\n",
              "    box-shadow: none;\n",
              "  }\n",
              "\n",
              "  .colab-df-spinner {\n",
              "    border: 2px solid var(--fill-color);\n",
              "    border-color: transparent;\n",
              "    border-bottom-color: var(--fill-color);\n",
              "    animation:\n",
              "      spin 1s steps(1) infinite;\n",
              "  }\n",
              "\n",
              "  @keyframes spin {\n",
              "    0% {\n",
              "      border-color: transparent;\n",
              "      border-bottom-color: var(--fill-color);\n",
              "      border-left-color: var(--fill-color);\n",
              "    }\n",
              "    20% {\n",
              "      border-color: transparent;\n",
              "      border-left-color: var(--fill-color);\n",
              "      border-top-color: var(--fill-color);\n",
              "    }\n",
              "    30% {\n",
              "      border-color: transparent;\n",
              "      border-left-color: var(--fill-color);\n",
              "      border-top-color: var(--fill-color);\n",
              "      border-right-color: var(--fill-color);\n",
              "    }\n",
              "    40% {\n",
              "      border-color: transparent;\n",
              "      border-right-color: var(--fill-color);\n",
              "      border-top-color: var(--fill-color);\n",
              "    }\n",
              "    60% {\n",
              "      border-color: transparent;\n",
              "      border-right-color: var(--fill-color);\n",
              "    }\n",
              "    80% {\n",
              "      border-color: transparent;\n",
              "      border-right-color: var(--fill-color);\n",
              "      border-bottom-color: var(--fill-color);\n",
              "    }\n",
              "    90% {\n",
              "      border-color: transparent;\n",
              "      border-bottom-color: var(--fill-color);\n",
              "    }\n",
              "  }\n",
              "</style>\n",
              "\n",
              "  <script>\n",
              "    async function quickchart(key) {\n",
              "      const quickchartButtonEl =\n",
              "        document.querySelector('#' + key + ' button');\n",
              "      quickchartButtonEl.disabled = true;  // To prevent multiple clicks.\n",
              "      quickchartButtonEl.classList.add('colab-df-spinner');\n",
              "      try {\n",
              "        const charts = await google.colab.kernel.invokeFunction(\n",
              "            'suggestCharts', [key], {});\n",
              "      } catch (error) {\n",
              "        console.error('Error during call to suggestCharts:', error);\n",
              "      }\n",
              "      quickchartButtonEl.classList.remove('colab-df-spinner');\n",
              "      quickchartButtonEl.classList.add('colab-df-quickchart-complete');\n",
              "    }\n",
              "    (() => {\n",
              "      let quickchartButtonEl =\n",
              "        document.querySelector('#df-bf6e0741-332f-4fda-90f0-88a1559b434f button');\n",
              "      quickchartButtonEl.style.display =\n",
              "        google.colab.kernel.accessAllowed ? 'block' : 'none';\n",
              "    })();\n",
              "  </script>\n",
              "</div>\n",
              "    </div>\n",
              "  </div>\n"
            ],
            "application/vnd.google.colaboratory.intrinsic+json": {
              "type": "dataframe",
              "variable_name": "amazon_reviews_dataframe_raw"
            }
          },
          "metadata": {},
          "execution_count": 85
        }
      ]
    },
    {
      "cell_type": "code",
      "source": [
        "# Reviewing another subset of the Dataframe.\n",
        "amazon_reviews_dataframe_raw.tail()"
      ],
      "metadata": {
        "colab": {
          "base_uri": "https://localhost:8080/",
          "height": 776
        },
        "id": "EfUWA4QBlpjZ",
        "outputId": "7f381a12-a65f-4948-f617-aca06683dfe1"
      },
      "execution_count": null,
      "outputs": [
        {
          "output_type": "execute_result",
          "data": {
            "text/plain": [
              "                         id             dateAdded           dateUpdated  \\\n",
              "28327  AVqkIhxunnc1JgDc3kg_  2017-03-06T14:59:43Z  2019-02-23T02:49:38Z   \n",
              "28328  AVqkIhxunnc1JgDc3kg_  2017-03-06T14:59:43Z  2019-02-23T02:49:38Z   \n",
              "28329  AVqkIhxunnc1JgDc3kg_  2017-03-06T14:59:43Z  2019-02-23T02:49:38Z   \n",
              "28330  AVqkIhxunnc1JgDc3kg_  2017-03-06T14:59:43Z  2019-02-23T02:49:38Z   \n",
              "28331  AVqkIhxunnc1JgDc3kg_  2017-03-06T14:59:43Z  2019-02-23T02:49:38Z   \n",
              "\n",
              "                                                    name       asins   brand  \\\n",
              "28327  Fire HD 8 Tablet with Alexa, 8 HD Display, 16 ...  B018T075DC  Amazon   \n",
              "28328  Fire HD 8 Tablet with Alexa, 8 HD Display, 16 ...  B018T075DC  Amazon   \n",
              "28329  Fire HD 8 Tablet with Alexa, 8 HD Display, 16 ...  B018T075DC  Amazon   \n",
              "28330  Fire HD 8 Tablet with Alexa, 8 HD Display, 16 ...  B018T075DC  Amazon   \n",
              "28331  Fire HD 8 Tablet with Alexa, 8 HD Display, 16 ...  B018T075DC  Amazon   \n",
              "\n",
              "                                              categories primaryCategories  \\\n",
              "28327  Fire Tablets,Tablets,All Tablets,Amazon Tablet...       Electronics   \n",
              "28328  Fire Tablets,Tablets,All Tablets,Amazon Tablet...       Electronics   \n",
              "28329  Fire Tablets,Tablets,All Tablets,Amazon Tablet...       Electronics   \n",
              "28330  Fire Tablets,Tablets,All Tablets,Amazon Tablet...       Electronics   \n",
              "28331  Fire Tablets,Tablets,All Tablets,Amazon Tablet...       Electronics   \n",
              "\n",
              "                                               imageURLs  \\\n",
              "28327  https://www.upccodesearch.com/images/barcode/0...   \n",
              "28328  https://www.upccodesearch.com/images/barcode/0...   \n",
              "28329  https://www.upccodesearch.com/images/barcode/0...   \n",
              "28330  https://www.upccodesearch.com/images/barcode/0...   \n",
              "28331  https://www.upccodesearch.com/images/barcode/0...   \n",
              "\n",
              "                                                    keys  ...  \\\n",
              "28327  amazon/b018t075dc,firehd8tabletwithalexa8hddis...  ...   \n",
              "28328  amazon/b018t075dc,firehd8tabletwithalexa8hddis...  ...   \n",
              "28329  amazon/b018t075dc,firehd8tabletwithalexa8hddis...  ...   \n",
              "28330  amazon/b018t075dc,firehd8tabletwithalexa8hddis...  ...   \n",
              "28331  amazon/b018t075dc,firehd8tabletwithalexa8hddis...  ...   \n",
              "\n",
              "      reviews.didPurchase reviews.doRecommend reviews.id reviews.numHelpful  \\\n",
              "28327                 NaN                True        NaN                0.0   \n",
              "28328                 NaN                True        NaN                0.0   \n",
              "28329                 NaN                True        NaN                0.0   \n",
              "28330                 NaN                True        NaN                0.0   \n",
              "28331                 NaN                True        NaN                0.0   \n",
              "\n",
              "      reviews.rating                                 reviews.sourceURLs  \\\n",
              "28327              5  http://reviews.bestbuy.com/3545/5620410/review...   \n",
              "28328              4  http://reviews.bestbuy.com/3545/5620410/review...   \n",
              "28329              5  http://reviews.bestbuy.com/3545/5620410/review...   \n",
              "28330              5  http://reviews.bestbuy.com/3545/5620410/review...   \n",
              "28331              4  http://reviews.bestbuy.com/3545/5620410/review...   \n",
              "\n",
              "                                            reviews.text  \\\n",
              "28327  I got 2 of these for my 8 yr old twins. My 11 ...   \n",
              "28328  I bought this for my niece for a Christmas gif...   \n",
              "28329  Very nice for light internet browsing, keeping...   \n",
              "28330  This Tablet does absolutely everything I want!...   \n",
              "28331  At ninety dollars, the expectionations are low...   \n",
              "\n",
              "                                      reviews.title  reviews.username  \\\n",
              "28327                                     Xmas gift    Mom2twinsplus1   \n",
              "28328                     yes it is a great tablet.         fireman21   \n",
              "28329                  You get a lot for the price!    suzannalicious   \n",
              "28330  You get the entire World for less than $100!            SandyJ   \n",
              "28331                  You get what your paying for              Hung   \n",
              "\n",
              "                                              sourceURLs  \n",
              "28327  http://reviews.bestbuy.com/3545/5620410/review...  \n",
              "28328  http://reviews.bestbuy.com/3545/5620410/review...  \n",
              "28329  http://reviews.bestbuy.com/3545/5620410/review...  \n",
              "28330  http://reviews.bestbuy.com/3545/5620410/review...  \n",
              "28331  http://reviews.bestbuy.com/3545/5620410/review...  \n",
              "\n",
              "[5 rows x 24 columns]"
            ],
            "text/html": [
              "\n",
              "  <div id=\"df-e52f4e42-0c6d-4ce1-a4eb-9a27eaa190ae\" class=\"colab-df-container\">\n",
              "    <div>\n",
              "<style scoped>\n",
              "    .dataframe tbody tr th:only-of-type {\n",
              "        vertical-align: middle;\n",
              "    }\n",
              "\n",
              "    .dataframe tbody tr th {\n",
              "        vertical-align: top;\n",
              "    }\n",
              "\n",
              "    .dataframe thead th {\n",
              "        text-align: right;\n",
              "    }\n",
              "</style>\n",
              "<table border=\"1\" class=\"dataframe\">\n",
              "  <thead>\n",
              "    <tr style=\"text-align: right;\">\n",
              "      <th></th>\n",
              "      <th>id</th>\n",
              "      <th>dateAdded</th>\n",
              "      <th>dateUpdated</th>\n",
              "      <th>name</th>\n",
              "      <th>asins</th>\n",
              "      <th>brand</th>\n",
              "      <th>categories</th>\n",
              "      <th>primaryCategories</th>\n",
              "      <th>imageURLs</th>\n",
              "      <th>keys</th>\n",
              "      <th>...</th>\n",
              "      <th>reviews.didPurchase</th>\n",
              "      <th>reviews.doRecommend</th>\n",
              "      <th>reviews.id</th>\n",
              "      <th>reviews.numHelpful</th>\n",
              "      <th>reviews.rating</th>\n",
              "      <th>reviews.sourceURLs</th>\n",
              "      <th>reviews.text</th>\n",
              "      <th>reviews.title</th>\n",
              "      <th>reviews.username</th>\n",
              "      <th>sourceURLs</th>\n",
              "    </tr>\n",
              "  </thead>\n",
              "  <tbody>\n",
              "    <tr>\n",
              "      <th>28327</th>\n",
              "      <td>AVqkIhxunnc1JgDc3kg_</td>\n",
              "      <td>2017-03-06T14:59:43Z</td>\n",
              "      <td>2019-02-23T02:49:38Z</td>\n",
              "      <td>Fire HD 8 Tablet with Alexa, 8 HD Display, 16 ...</td>\n",
              "      <td>B018T075DC</td>\n",
              "      <td>Amazon</td>\n",
              "      <td>Fire Tablets,Tablets,All Tablets,Amazon Tablet...</td>\n",
              "      <td>Electronics</td>\n",
              "      <td>https://www.upccodesearch.com/images/barcode/0...</td>\n",
              "      <td>amazon/b018t075dc,firehd8tabletwithalexa8hddis...</td>\n",
              "      <td>...</td>\n",
              "      <td>NaN</td>\n",
              "      <td>True</td>\n",
              "      <td>NaN</td>\n",
              "      <td>0.0</td>\n",
              "      <td>5</td>\n",
              "      <td>http://reviews.bestbuy.com/3545/5620410/review...</td>\n",
              "      <td>I got 2 of these for my 8 yr old twins. My 11 ...</td>\n",
              "      <td>Xmas gift</td>\n",
              "      <td>Mom2twinsplus1</td>\n",
              "      <td>http://reviews.bestbuy.com/3545/5620410/review...</td>\n",
              "    </tr>\n",
              "    <tr>\n",
              "      <th>28328</th>\n",
              "      <td>AVqkIhxunnc1JgDc3kg_</td>\n",
              "      <td>2017-03-06T14:59:43Z</td>\n",
              "      <td>2019-02-23T02:49:38Z</td>\n",
              "      <td>Fire HD 8 Tablet with Alexa, 8 HD Display, 16 ...</td>\n",
              "      <td>B018T075DC</td>\n",
              "      <td>Amazon</td>\n",
              "      <td>Fire Tablets,Tablets,All Tablets,Amazon Tablet...</td>\n",
              "      <td>Electronics</td>\n",
              "      <td>https://www.upccodesearch.com/images/barcode/0...</td>\n",
              "      <td>amazon/b018t075dc,firehd8tabletwithalexa8hddis...</td>\n",
              "      <td>...</td>\n",
              "      <td>NaN</td>\n",
              "      <td>True</td>\n",
              "      <td>NaN</td>\n",
              "      <td>0.0</td>\n",
              "      <td>4</td>\n",
              "      <td>http://reviews.bestbuy.com/3545/5620410/review...</td>\n",
              "      <td>I bought this for my niece for a Christmas gif...</td>\n",
              "      <td>yes it is a great tablet.</td>\n",
              "      <td>fireman21</td>\n",
              "      <td>http://reviews.bestbuy.com/3545/5620410/review...</td>\n",
              "    </tr>\n",
              "    <tr>\n",
              "      <th>28329</th>\n",
              "      <td>AVqkIhxunnc1JgDc3kg_</td>\n",
              "      <td>2017-03-06T14:59:43Z</td>\n",
              "      <td>2019-02-23T02:49:38Z</td>\n",
              "      <td>Fire HD 8 Tablet with Alexa, 8 HD Display, 16 ...</td>\n",
              "      <td>B018T075DC</td>\n",
              "      <td>Amazon</td>\n",
              "      <td>Fire Tablets,Tablets,All Tablets,Amazon Tablet...</td>\n",
              "      <td>Electronics</td>\n",
              "      <td>https://www.upccodesearch.com/images/barcode/0...</td>\n",
              "      <td>amazon/b018t075dc,firehd8tabletwithalexa8hddis...</td>\n",
              "      <td>...</td>\n",
              "      <td>NaN</td>\n",
              "      <td>True</td>\n",
              "      <td>NaN</td>\n",
              "      <td>0.0</td>\n",
              "      <td>5</td>\n",
              "      <td>http://reviews.bestbuy.com/3545/5620410/review...</td>\n",
              "      <td>Very nice for light internet browsing, keeping...</td>\n",
              "      <td>You get a lot for the price!</td>\n",
              "      <td>suzannalicious</td>\n",
              "      <td>http://reviews.bestbuy.com/3545/5620410/review...</td>\n",
              "    </tr>\n",
              "    <tr>\n",
              "      <th>28330</th>\n",
              "      <td>AVqkIhxunnc1JgDc3kg_</td>\n",
              "      <td>2017-03-06T14:59:43Z</td>\n",
              "      <td>2019-02-23T02:49:38Z</td>\n",
              "      <td>Fire HD 8 Tablet with Alexa, 8 HD Display, 16 ...</td>\n",
              "      <td>B018T075DC</td>\n",
              "      <td>Amazon</td>\n",
              "      <td>Fire Tablets,Tablets,All Tablets,Amazon Tablet...</td>\n",
              "      <td>Electronics</td>\n",
              "      <td>https://www.upccodesearch.com/images/barcode/0...</td>\n",
              "      <td>amazon/b018t075dc,firehd8tabletwithalexa8hddis...</td>\n",
              "      <td>...</td>\n",
              "      <td>NaN</td>\n",
              "      <td>True</td>\n",
              "      <td>NaN</td>\n",
              "      <td>0.0</td>\n",
              "      <td>5</td>\n",
              "      <td>http://reviews.bestbuy.com/3545/5620410/review...</td>\n",
              "      <td>This Tablet does absolutely everything I want!...</td>\n",
              "      <td>You get the entire World for less than $100!</td>\n",
              "      <td>SandyJ</td>\n",
              "      <td>http://reviews.bestbuy.com/3545/5620410/review...</td>\n",
              "    </tr>\n",
              "    <tr>\n",
              "      <th>28331</th>\n",
              "      <td>AVqkIhxunnc1JgDc3kg_</td>\n",
              "      <td>2017-03-06T14:59:43Z</td>\n",
              "      <td>2019-02-23T02:49:38Z</td>\n",
              "      <td>Fire HD 8 Tablet with Alexa, 8 HD Display, 16 ...</td>\n",
              "      <td>B018T075DC</td>\n",
              "      <td>Amazon</td>\n",
              "      <td>Fire Tablets,Tablets,All Tablets,Amazon Tablet...</td>\n",
              "      <td>Electronics</td>\n",
              "      <td>https://www.upccodesearch.com/images/barcode/0...</td>\n",
              "      <td>amazon/b018t075dc,firehd8tabletwithalexa8hddis...</td>\n",
              "      <td>...</td>\n",
              "      <td>NaN</td>\n",
              "      <td>True</td>\n",
              "      <td>NaN</td>\n",
              "      <td>0.0</td>\n",
              "      <td>4</td>\n",
              "      <td>http://reviews.bestbuy.com/3545/5620410/review...</td>\n",
              "      <td>At ninety dollars, the expectionations are low...</td>\n",
              "      <td>You get what your paying for</td>\n",
              "      <td>Hung</td>\n",
              "      <td>http://reviews.bestbuy.com/3545/5620410/review...</td>\n",
              "    </tr>\n",
              "  </tbody>\n",
              "</table>\n",
              "<p>5 rows × 24 columns</p>\n",
              "</div>\n",
              "    <div class=\"colab-df-buttons\">\n",
              "\n",
              "  <div class=\"colab-df-container\">\n",
              "    <button class=\"colab-df-convert\" onclick=\"convertToInteractive('df-e52f4e42-0c6d-4ce1-a4eb-9a27eaa190ae')\"\n",
              "            title=\"Convert this dataframe to an interactive table.\"\n",
              "            style=\"display:none;\">\n",
              "\n",
              "  <svg xmlns=\"http://www.w3.org/2000/svg\" height=\"24px\" viewBox=\"0 -960 960 960\">\n",
              "    <path d=\"M120-120v-720h720v720H120Zm60-500h600v-160H180v160Zm220 220h160v-160H400v160Zm0 220h160v-160H400v160ZM180-400h160v-160H180v160Zm440 0h160v-160H620v160ZM180-180h160v-160H180v160Zm440 0h160v-160H620v160Z\"/>\n",
              "  </svg>\n",
              "    </button>\n",
              "\n",
              "  <style>\n",
              "    .colab-df-container {\n",
              "      display:flex;\n",
              "      gap: 12px;\n",
              "    }\n",
              "\n",
              "    .colab-df-convert {\n",
              "      background-color: #E8F0FE;\n",
              "      border: none;\n",
              "      border-radius: 50%;\n",
              "      cursor: pointer;\n",
              "      display: none;\n",
              "      fill: #1967D2;\n",
              "      height: 32px;\n",
              "      padding: 0 0 0 0;\n",
              "      width: 32px;\n",
              "    }\n",
              "\n",
              "    .colab-df-convert:hover {\n",
              "      background-color: #E2EBFA;\n",
              "      box-shadow: 0px 1px 2px rgba(60, 64, 67, 0.3), 0px 1px 3px 1px rgba(60, 64, 67, 0.15);\n",
              "      fill: #174EA6;\n",
              "    }\n",
              "\n",
              "    .colab-df-buttons div {\n",
              "      margin-bottom: 4px;\n",
              "    }\n",
              "\n",
              "    [theme=dark] .colab-df-convert {\n",
              "      background-color: #3B4455;\n",
              "      fill: #D2E3FC;\n",
              "    }\n",
              "\n",
              "    [theme=dark] .colab-df-convert:hover {\n",
              "      background-color: #434B5C;\n",
              "      box-shadow: 0px 1px 3px 1px rgba(0, 0, 0, 0.15);\n",
              "      filter: drop-shadow(0px 1px 2px rgba(0, 0, 0, 0.3));\n",
              "      fill: #FFFFFF;\n",
              "    }\n",
              "  </style>\n",
              "\n",
              "    <script>\n",
              "      const buttonEl =\n",
              "        document.querySelector('#df-e52f4e42-0c6d-4ce1-a4eb-9a27eaa190ae button.colab-df-convert');\n",
              "      buttonEl.style.display =\n",
              "        google.colab.kernel.accessAllowed ? 'block' : 'none';\n",
              "\n",
              "      async function convertToInteractive(key) {\n",
              "        const element = document.querySelector('#df-e52f4e42-0c6d-4ce1-a4eb-9a27eaa190ae');\n",
              "        const dataTable =\n",
              "          await google.colab.kernel.invokeFunction('convertToInteractive',\n",
              "                                                    [key], {});\n",
              "        if (!dataTable) return;\n",
              "\n",
              "        const docLinkHtml = 'Like what you see? Visit the ' +\n",
              "          '<a target=\"_blank\" href=https://colab.research.google.com/notebooks/data_table.ipynb>data table notebook</a>'\n",
              "          + ' to learn more about interactive tables.';\n",
              "        element.innerHTML = '';\n",
              "        dataTable['output_type'] = 'display_data';\n",
              "        await google.colab.output.renderOutput(dataTable, element);\n",
              "        const docLink = document.createElement('div');\n",
              "        docLink.innerHTML = docLinkHtml;\n",
              "        element.appendChild(docLink);\n",
              "      }\n",
              "    </script>\n",
              "  </div>\n",
              "\n",
              "\n",
              "<div id=\"df-1da9420a-9d76-4732-b63e-44c69b2c9bad\">\n",
              "  <button class=\"colab-df-quickchart\" onclick=\"quickchart('df-1da9420a-9d76-4732-b63e-44c69b2c9bad')\"\n",
              "            title=\"Suggest charts\"\n",
              "            style=\"display:none;\">\n",
              "\n",
              "<svg xmlns=\"http://www.w3.org/2000/svg\" height=\"24px\"viewBox=\"0 0 24 24\"\n",
              "     width=\"24px\">\n",
              "    <g>\n",
              "        <path d=\"M19 3H5c-1.1 0-2 .9-2 2v14c0 1.1.9 2 2 2h14c1.1 0 2-.9 2-2V5c0-1.1-.9-2-2-2zM9 17H7v-7h2v7zm4 0h-2V7h2v10zm4 0h-2v-4h2v4z\"/>\n",
              "    </g>\n",
              "</svg>\n",
              "  </button>\n",
              "\n",
              "<style>\n",
              "  .colab-df-quickchart {\n",
              "      --bg-color: #E8F0FE;\n",
              "      --fill-color: #1967D2;\n",
              "      --hover-bg-color: #E2EBFA;\n",
              "      --hover-fill-color: #174EA6;\n",
              "      --disabled-fill-color: #AAA;\n",
              "      --disabled-bg-color: #DDD;\n",
              "  }\n",
              "\n",
              "  [theme=dark] .colab-df-quickchart {\n",
              "      --bg-color: #3B4455;\n",
              "      --fill-color: #D2E3FC;\n",
              "      --hover-bg-color: #434B5C;\n",
              "      --hover-fill-color: #FFFFFF;\n",
              "      --disabled-bg-color: #3B4455;\n",
              "      --disabled-fill-color: #666;\n",
              "  }\n",
              "\n",
              "  .colab-df-quickchart {\n",
              "    background-color: var(--bg-color);\n",
              "    border: none;\n",
              "    border-radius: 50%;\n",
              "    cursor: pointer;\n",
              "    display: none;\n",
              "    fill: var(--fill-color);\n",
              "    height: 32px;\n",
              "    padding: 0;\n",
              "    width: 32px;\n",
              "  }\n",
              "\n",
              "  .colab-df-quickchart:hover {\n",
              "    background-color: var(--hover-bg-color);\n",
              "    box-shadow: 0 1px 2px rgba(60, 64, 67, 0.3), 0 1px 3px 1px rgba(60, 64, 67, 0.15);\n",
              "    fill: var(--button-hover-fill-color);\n",
              "  }\n",
              "\n",
              "  .colab-df-quickchart-complete:disabled,\n",
              "  .colab-df-quickchart-complete:disabled:hover {\n",
              "    background-color: var(--disabled-bg-color);\n",
              "    fill: var(--disabled-fill-color);\n",
              "    box-shadow: none;\n",
              "  }\n",
              "\n",
              "  .colab-df-spinner {\n",
              "    border: 2px solid var(--fill-color);\n",
              "    border-color: transparent;\n",
              "    border-bottom-color: var(--fill-color);\n",
              "    animation:\n",
              "      spin 1s steps(1) infinite;\n",
              "  }\n",
              "\n",
              "  @keyframes spin {\n",
              "    0% {\n",
              "      border-color: transparent;\n",
              "      border-bottom-color: var(--fill-color);\n",
              "      border-left-color: var(--fill-color);\n",
              "    }\n",
              "    20% {\n",
              "      border-color: transparent;\n",
              "      border-left-color: var(--fill-color);\n",
              "      border-top-color: var(--fill-color);\n",
              "    }\n",
              "    30% {\n",
              "      border-color: transparent;\n",
              "      border-left-color: var(--fill-color);\n",
              "      border-top-color: var(--fill-color);\n",
              "      border-right-color: var(--fill-color);\n",
              "    }\n",
              "    40% {\n",
              "      border-color: transparent;\n",
              "      border-right-color: var(--fill-color);\n",
              "      border-top-color: var(--fill-color);\n",
              "    }\n",
              "    60% {\n",
              "      border-color: transparent;\n",
              "      border-right-color: var(--fill-color);\n",
              "    }\n",
              "    80% {\n",
              "      border-color: transparent;\n",
              "      border-right-color: var(--fill-color);\n",
              "      border-bottom-color: var(--fill-color);\n",
              "    }\n",
              "    90% {\n",
              "      border-color: transparent;\n",
              "      border-bottom-color: var(--fill-color);\n",
              "    }\n",
              "  }\n",
              "</style>\n",
              "\n",
              "  <script>\n",
              "    async function quickchart(key) {\n",
              "      const quickchartButtonEl =\n",
              "        document.querySelector('#' + key + ' button');\n",
              "      quickchartButtonEl.disabled = true;  // To prevent multiple clicks.\n",
              "      quickchartButtonEl.classList.add('colab-df-spinner');\n",
              "      try {\n",
              "        const charts = await google.colab.kernel.invokeFunction(\n",
              "            'suggestCharts', [key], {});\n",
              "      } catch (error) {\n",
              "        console.error('Error during call to suggestCharts:', error);\n",
              "      }\n",
              "      quickchartButtonEl.classList.remove('colab-df-spinner');\n",
              "      quickchartButtonEl.classList.add('colab-df-quickchart-complete');\n",
              "    }\n",
              "    (() => {\n",
              "      let quickchartButtonEl =\n",
              "        document.querySelector('#df-1da9420a-9d76-4732-b63e-44c69b2c9bad button');\n",
              "      quickchartButtonEl.style.display =\n",
              "        google.colab.kernel.accessAllowed ? 'block' : 'none';\n",
              "    })();\n",
              "  </script>\n",
              "</div>\n",
              "    </div>\n",
              "  </div>\n"
            ],
            "application/vnd.google.colaboratory.intrinsic+json": {
              "type": "dataframe"
            }
          },
          "metadata": {},
          "execution_count": 86
        }
      ]
    },
    {
      "cell_type": "markdown",
      "source": [
        "## Overview of our Dataset (Description)"
      ],
      "metadata": {
        "id": "fNnG-xKK3BHb"
      }
    },
    {
      "cell_type": "markdown",
      "source": [
        "From our Dataframe we see that this Dataframe is all about what products was sold, sales date and time, ratings, reviews, will recommend, review titles etc."
      ],
      "metadata": {
        "id": "t9nlSdXXSLon"
      }
    },
    {
      "cell_type": "markdown",
      "source": [
        "Understanding the shape of our Dataframe.\n",
        "\n"
      ],
      "metadata": {
        "id": "R3RTMMAbScu7"
      }
    },
    {
      "cell_type": "code",
      "source": [
        "amazon_reviews_dataframe_raw.shape"
      ],
      "metadata": {
        "colab": {
          "base_uri": "https://localhost:8080/"
        },
        "id": "oBNm7zw3mTU8",
        "outputId": "7fd63019-8a2f-4714-a5f6-714ac795a209"
      },
      "execution_count": null,
      "outputs": [
        {
          "output_type": "execute_result",
          "data": {
            "text/plain": [
              "(28332, 24)"
            ]
          },
          "metadata": {},
          "execution_count": 87
        }
      ]
    },
    {
      "cell_type": "markdown",
      "source": [
        "We see that we have 28332 rows and 24 columns.\n",
        "\n"
      ],
      "metadata": {
        "id": "40_pPPSQSh_K"
      }
    },
    {
      "cell_type": "markdown",
      "source": [
        "Understanding the columns we have, to determine what is necessary for our analysis."
      ],
      "metadata": {
        "id": "tHKhpa8ZSqlW"
      }
    },
    {
      "cell_type": "code",
      "source": [
        "amazon_reviews_dataframe_raw.columns"
      ],
      "metadata": {
        "colab": {
          "base_uri": "https://localhost:8080/"
        },
        "id": "ocfO7yAOmEmD",
        "outputId": "53223589-de19-4ba7-9879-97daa5664206"
      },
      "execution_count": null,
      "outputs": [
        {
          "output_type": "execute_result",
          "data": {
            "text/plain": [
              "Index(['id', 'dateAdded', 'dateUpdated', 'name', 'asins', 'brand',\n",
              "       'categories', 'primaryCategories', 'imageURLs', 'keys', 'manufacturer',\n",
              "       'manufacturerNumber', 'reviews.date', 'reviews.dateSeen',\n",
              "       'reviews.didPurchase', 'reviews.doRecommend', 'reviews.id',\n",
              "       'reviews.numHelpful', 'reviews.rating', 'reviews.sourceURLs',\n",
              "       'reviews.text', 'reviews.title', 'reviews.username', 'sourceURLs'],\n",
              "      dtype='object')"
            ]
          },
          "metadata": {},
          "execution_count": 88
        }
      ]
    },
    {
      "cell_type": "markdown",
      "source": [
        "We see that there are many columns in our Dataframe but we will probably use only few for our analysis. Namely:\n",
        "\n",
        "* reviews.doRecommend\n",
        "\n",
        "* reviews.rating\n",
        "\n",
        "* reviews.text\n",
        "\n",
        "* reviews.title"
      ],
      "metadata": {
        "id": "YyvYyH3sS1jn"
      }
    },
    {
      "cell_type": "code",
      "source": [
        "# Looking at reviews.doRecommend column to find out more information.\n",
        "# Please note that this column is only taken into consideration to see if we can\n",
        "# compare the results of our model to something so that we can create a confusion\n",
        "# matrix.\n",
        "amazon_reviews_dataframe_raw[['reviews.doRecommend']].info()"
      ],
      "metadata": {
        "colab": {
          "base_uri": "https://localhost:8080/"
        },
        "id": "tQxlxcbjw4lH",
        "outputId": "26688ead-ac4e-413c-d4c9-f57384820880"
      },
      "execution_count": null,
      "outputs": [
        {
          "output_type": "stream",
          "name": "stdout",
          "text": [
            "<class 'pandas.core.frame.DataFrame'>\n",
            "RangeIndex: 28332 entries, 0 to 28331\n",
            "Data columns (total 1 columns):\n",
            " #   Column               Non-Null Count  Dtype \n",
            "---  ------               --------------  ----- \n",
            " 0   reviews.doRecommend  16086 non-null  object\n",
            "dtypes: object(1)\n",
            "memory usage: 221.5+ KB\n"
          ]
        }
      ]
    },
    {
      "cell_type": "markdown",
      "source": [
        "We see that there are only 16086 no-null values in this column therefore a large part of the data from this column should be missing.\n",
        "\n",
        "Below we will find out what percentage of data is missing from this column."
      ],
      "metadata": {
        "id": "P7ZPFrWqTw91"
      }
    },
    {
      "cell_type": "code",
      "source": [
        "total_cells = np.product(amazon_reviews_dataframe_raw['reviews.doRecommend'].shape)\n",
        "missing_value_count_do_recommend = amazon_reviews_dataframe_raw[['reviews.doRecommend']].isnull().sum()\n",
        "\n",
        "missing_percentage_do_recommend = (missing_value_count_do_recommend / total_cells) * 100\n",
        "\n",
        "missing_percentage_do_recommend\n"
      ],
      "metadata": {
        "colab": {
          "base_uri": "https://localhost:8080/"
        },
        "id": "adF1-IhTxD7y",
        "outputId": "5d5814d8-19ae-4848-9328-04635000025e"
      },
      "execution_count": null,
      "outputs": [
        {
          "output_type": "execute_result",
          "data": {
            "text/plain": [
              "reviews.doRecommend    43.223211\n",
              "dtype: float64"
            ]
          },
          "metadata": {},
          "execution_count": 90
        }
      ]
    },
    {
      "cell_type": "markdown",
      "source": [
        "We see from above that more than 43% of data in this column is missing. Therefore, there won't be any sense to use this column."
      ],
      "metadata": {
        "id": "fP1G3Wn6UF-G"
      }
    },
    {
      "cell_type": "code",
      "source": [
        "# Checking other relevant columns to see if they have any missing values.\n",
        "amazon_reviews_dataframe_raw[['reviews.rating', 'reviews.text', 'reviews.title']].info()"
      ],
      "metadata": {
        "colab": {
          "base_uri": "https://localhost:8080/"
        },
        "id": "EYptI_4DwRwJ",
        "outputId": "6b2d5e74-7b7b-4f96-b606-43a642052599"
      },
      "execution_count": null,
      "outputs": [
        {
          "output_type": "stream",
          "name": "stdout",
          "text": [
            "<class 'pandas.core.frame.DataFrame'>\n",
            "RangeIndex: 28332 entries, 0 to 28331\n",
            "Data columns (total 3 columns):\n",
            " #   Column          Non-Null Count  Dtype \n",
            "---  ------          --------------  ----- \n",
            " 0   reviews.rating  28332 non-null  int64 \n",
            " 1   reviews.text    28332 non-null  object\n",
            " 2   reviews.title   28332 non-null  object\n",
            "dtypes: int64(1), object(2)\n",
            "memory usage: 664.2+ KB\n"
          ]
        }
      ]
    },
    {
      "cell_type": "markdown",
      "source": [
        "### Selecting Columns\n",
        "\n",
        "We will only select three columns for our review:\n",
        "\n",
        "**reviews.rating:** This column is selected to see if we can use these ratings to build a confusion matrix. Please note that following assumptions will be taken when building a confusion matrix using this column:\n",
        "\n",
        "\n",
        "\n",
        "1.   There might not be a direct relation to the polarity we find from the review text and how the customer has rated the product. For example: the customer might have rated the product 4 or 5 but have only written a small sentence in review on how satisfied they were, resulting a neutral polarity.\n",
        "\n",
        "2.   This is not a structured way of finding the accuracy of the model. Normally, one would have a dataset with a manual entry determining if a review is positive or negative, on which the model can train and then we can test the prediction against the test data. This is just a trial to see if we can build a model which can compare accuracy on the basis of the ratings (category 1 to 5)\n",
        "\n",
        "Ultimately, we will have to decide if building a model like this is worth it or not, by analysing the confusion matrix and accuracy score.\n",
        "\n",
        "\n",
        "***reviews.text:** This is the main column where we will perform our sentiment analysis based on polarity of the text of each cell.\n",
        "\n",
        "**reviews.title:** I have chosen the review title column as well to see if it gives better prediction based on the title text. However, the chances of this are bleak as polarity of the text is measure by TextBlob by aggregating the positive and negative scores of each word, therefore as there are less number of words, we are working with a smaller set and thus the results might not be specific. We will only decide if we use this column or not, after we see how the model has performed with review.text column first."
      ],
      "metadata": {
        "id": "T2UxAVqeUVPI"
      }
    },
    {
      "cell_type": "code",
      "source": [
        "# Selecting relevant columns\n",
        "amazon_reviews_rel_columns = amazon_reviews_dataframe_raw[['reviews.rating', 'reviews.text', 'reviews.title']]\n",
        "amazon_reviews_rel_columns"
      ],
      "metadata": {
        "colab": {
          "base_uri": "https://localhost:8080/",
          "height": 424
        },
        "id": "1ce2_zLKrErT",
        "outputId": "16c7de03-c2fa-4a5c-f3c3-993477a97039"
      },
      "execution_count": null,
      "outputs": [
        {
          "output_type": "execute_result",
          "data": {
            "text/plain": [
              "       reviews.rating                                       reviews.text  \\\n",
              "0                   3  I order 3 of them and one of the item is bad q...   \n",
              "1                   4  Bulk is always the less expensive way to go fo...   \n",
              "2                   5  Well they are not Duracell but for the price i...   \n",
              "3                   5  Seem to work as well as name brand batteries a...   \n",
              "4                   5  These batteries are very long lasting the pric...   \n",
              "...               ...                                                ...   \n",
              "28327               5  I got 2 of these for my 8 yr old twins. My 11 ...   \n",
              "28328               4  I bought this for my niece for a Christmas gif...   \n",
              "28329               5  Very nice for light internet browsing, keeping...   \n",
              "28330               5  This Tablet does absolutely everything I want!...   \n",
              "28331               4  At ninety dollars, the expectionations are low...   \n",
              "\n",
              "                                           reviews.title  \n",
              "0      ... 3 of them and one of the item is bad quali...  \n",
              "1      ... always the less expensive way to go for pr...  \n",
              "2      ... are not Duracell but for the price i am ha...  \n",
              "3      ... as well as name brand batteries at a much ...  \n",
              "4      ... batteries are very long lasting the price ...  \n",
              "...                                                  ...  \n",
              "28327                                          Xmas gift  \n",
              "28328                          yes it is a great tablet.  \n",
              "28329                       You get a lot for the price!  \n",
              "28330       You get the entire World for less than $100!  \n",
              "28331                       You get what your paying for  \n",
              "\n",
              "[28332 rows x 3 columns]"
            ],
            "text/html": [
              "\n",
              "  <div id=\"df-172d9650-1f05-48ae-ba10-0b48b04bc469\" class=\"colab-df-container\">\n",
              "    <div>\n",
              "<style scoped>\n",
              "    .dataframe tbody tr th:only-of-type {\n",
              "        vertical-align: middle;\n",
              "    }\n",
              "\n",
              "    .dataframe tbody tr th {\n",
              "        vertical-align: top;\n",
              "    }\n",
              "\n",
              "    .dataframe thead th {\n",
              "        text-align: right;\n",
              "    }\n",
              "</style>\n",
              "<table border=\"1\" class=\"dataframe\">\n",
              "  <thead>\n",
              "    <tr style=\"text-align: right;\">\n",
              "      <th></th>\n",
              "      <th>reviews.rating</th>\n",
              "      <th>reviews.text</th>\n",
              "      <th>reviews.title</th>\n",
              "    </tr>\n",
              "  </thead>\n",
              "  <tbody>\n",
              "    <tr>\n",
              "      <th>0</th>\n",
              "      <td>3</td>\n",
              "      <td>I order 3 of them and one of the item is bad q...</td>\n",
              "      <td>... 3 of them and one of the item is bad quali...</td>\n",
              "    </tr>\n",
              "    <tr>\n",
              "      <th>1</th>\n",
              "      <td>4</td>\n",
              "      <td>Bulk is always the less expensive way to go fo...</td>\n",
              "      <td>... always the less expensive way to go for pr...</td>\n",
              "    </tr>\n",
              "    <tr>\n",
              "      <th>2</th>\n",
              "      <td>5</td>\n",
              "      <td>Well they are not Duracell but for the price i...</td>\n",
              "      <td>... are not Duracell but for the price i am ha...</td>\n",
              "    </tr>\n",
              "    <tr>\n",
              "      <th>3</th>\n",
              "      <td>5</td>\n",
              "      <td>Seem to work as well as name brand batteries a...</td>\n",
              "      <td>... as well as name brand batteries at a much ...</td>\n",
              "    </tr>\n",
              "    <tr>\n",
              "      <th>4</th>\n",
              "      <td>5</td>\n",
              "      <td>These batteries are very long lasting the pric...</td>\n",
              "      <td>... batteries are very long lasting the price ...</td>\n",
              "    </tr>\n",
              "    <tr>\n",
              "      <th>...</th>\n",
              "      <td>...</td>\n",
              "      <td>...</td>\n",
              "      <td>...</td>\n",
              "    </tr>\n",
              "    <tr>\n",
              "      <th>28327</th>\n",
              "      <td>5</td>\n",
              "      <td>I got 2 of these for my 8 yr old twins. My 11 ...</td>\n",
              "      <td>Xmas gift</td>\n",
              "    </tr>\n",
              "    <tr>\n",
              "      <th>28328</th>\n",
              "      <td>4</td>\n",
              "      <td>I bought this for my niece for a Christmas gif...</td>\n",
              "      <td>yes it is a great tablet.</td>\n",
              "    </tr>\n",
              "    <tr>\n",
              "      <th>28329</th>\n",
              "      <td>5</td>\n",
              "      <td>Very nice for light internet browsing, keeping...</td>\n",
              "      <td>You get a lot for the price!</td>\n",
              "    </tr>\n",
              "    <tr>\n",
              "      <th>28330</th>\n",
              "      <td>5</td>\n",
              "      <td>This Tablet does absolutely everything I want!...</td>\n",
              "      <td>You get the entire World for less than $100!</td>\n",
              "    </tr>\n",
              "    <tr>\n",
              "      <th>28331</th>\n",
              "      <td>4</td>\n",
              "      <td>At ninety dollars, the expectionations are low...</td>\n",
              "      <td>You get what your paying for</td>\n",
              "    </tr>\n",
              "  </tbody>\n",
              "</table>\n",
              "<p>28332 rows × 3 columns</p>\n",
              "</div>\n",
              "    <div class=\"colab-df-buttons\">\n",
              "\n",
              "  <div class=\"colab-df-container\">\n",
              "    <button class=\"colab-df-convert\" onclick=\"convertToInteractive('df-172d9650-1f05-48ae-ba10-0b48b04bc469')\"\n",
              "            title=\"Convert this dataframe to an interactive table.\"\n",
              "            style=\"display:none;\">\n",
              "\n",
              "  <svg xmlns=\"http://www.w3.org/2000/svg\" height=\"24px\" viewBox=\"0 -960 960 960\">\n",
              "    <path d=\"M120-120v-720h720v720H120Zm60-500h600v-160H180v160Zm220 220h160v-160H400v160Zm0 220h160v-160H400v160ZM180-400h160v-160H180v160Zm440 0h160v-160H620v160ZM180-180h160v-160H180v160Zm440 0h160v-160H620v160Z\"/>\n",
              "  </svg>\n",
              "    </button>\n",
              "\n",
              "  <style>\n",
              "    .colab-df-container {\n",
              "      display:flex;\n",
              "      gap: 12px;\n",
              "    }\n",
              "\n",
              "    .colab-df-convert {\n",
              "      background-color: #E8F0FE;\n",
              "      border: none;\n",
              "      border-radius: 50%;\n",
              "      cursor: pointer;\n",
              "      display: none;\n",
              "      fill: #1967D2;\n",
              "      height: 32px;\n",
              "      padding: 0 0 0 0;\n",
              "      width: 32px;\n",
              "    }\n",
              "\n",
              "    .colab-df-convert:hover {\n",
              "      background-color: #E2EBFA;\n",
              "      box-shadow: 0px 1px 2px rgba(60, 64, 67, 0.3), 0px 1px 3px 1px rgba(60, 64, 67, 0.15);\n",
              "      fill: #174EA6;\n",
              "    }\n",
              "\n",
              "    .colab-df-buttons div {\n",
              "      margin-bottom: 4px;\n",
              "    }\n",
              "\n",
              "    [theme=dark] .colab-df-convert {\n",
              "      background-color: #3B4455;\n",
              "      fill: #D2E3FC;\n",
              "    }\n",
              "\n",
              "    [theme=dark] .colab-df-convert:hover {\n",
              "      background-color: #434B5C;\n",
              "      box-shadow: 0px 1px 3px 1px rgba(0, 0, 0, 0.15);\n",
              "      filter: drop-shadow(0px 1px 2px rgba(0, 0, 0, 0.3));\n",
              "      fill: #FFFFFF;\n",
              "    }\n",
              "  </style>\n",
              "\n",
              "    <script>\n",
              "      const buttonEl =\n",
              "        document.querySelector('#df-172d9650-1f05-48ae-ba10-0b48b04bc469 button.colab-df-convert');\n",
              "      buttonEl.style.display =\n",
              "        google.colab.kernel.accessAllowed ? 'block' : 'none';\n",
              "\n",
              "      async function convertToInteractive(key) {\n",
              "        const element = document.querySelector('#df-172d9650-1f05-48ae-ba10-0b48b04bc469');\n",
              "        const dataTable =\n",
              "          await google.colab.kernel.invokeFunction('convertToInteractive',\n",
              "                                                    [key], {});\n",
              "        if (!dataTable) return;\n",
              "\n",
              "        const docLinkHtml = 'Like what you see? Visit the ' +\n",
              "          '<a target=\"_blank\" href=https://colab.research.google.com/notebooks/data_table.ipynb>data table notebook</a>'\n",
              "          + ' to learn more about interactive tables.';\n",
              "        element.innerHTML = '';\n",
              "        dataTable['output_type'] = 'display_data';\n",
              "        await google.colab.output.renderOutput(dataTable, element);\n",
              "        const docLink = document.createElement('div');\n",
              "        docLink.innerHTML = docLinkHtml;\n",
              "        element.appendChild(docLink);\n",
              "      }\n",
              "    </script>\n",
              "  </div>\n",
              "\n",
              "\n",
              "<div id=\"df-c6ec8003-7837-4326-b7f6-f50a7ec1f8e9\">\n",
              "  <button class=\"colab-df-quickchart\" onclick=\"quickchart('df-c6ec8003-7837-4326-b7f6-f50a7ec1f8e9')\"\n",
              "            title=\"Suggest charts\"\n",
              "            style=\"display:none;\">\n",
              "\n",
              "<svg xmlns=\"http://www.w3.org/2000/svg\" height=\"24px\"viewBox=\"0 0 24 24\"\n",
              "     width=\"24px\">\n",
              "    <g>\n",
              "        <path d=\"M19 3H5c-1.1 0-2 .9-2 2v14c0 1.1.9 2 2 2h14c1.1 0 2-.9 2-2V5c0-1.1-.9-2-2-2zM9 17H7v-7h2v7zm4 0h-2V7h2v10zm4 0h-2v-4h2v4z\"/>\n",
              "    </g>\n",
              "</svg>\n",
              "  </button>\n",
              "\n",
              "<style>\n",
              "  .colab-df-quickchart {\n",
              "      --bg-color: #E8F0FE;\n",
              "      --fill-color: #1967D2;\n",
              "      --hover-bg-color: #E2EBFA;\n",
              "      --hover-fill-color: #174EA6;\n",
              "      --disabled-fill-color: #AAA;\n",
              "      --disabled-bg-color: #DDD;\n",
              "  }\n",
              "\n",
              "  [theme=dark] .colab-df-quickchart {\n",
              "      --bg-color: #3B4455;\n",
              "      --fill-color: #D2E3FC;\n",
              "      --hover-bg-color: #434B5C;\n",
              "      --hover-fill-color: #FFFFFF;\n",
              "      --disabled-bg-color: #3B4455;\n",
              "      --disabled-fill-color: #666;\n",
              "  }\n",
              "\n",
              "  .colab-df-quickchart {\n",
              "    background-color: var(--bg-color);\n",
              "    border: none;\n",
              "    border-radius: 50%;\n",
              "    cursor: pointer;\n",
              "    display: none;\n",
              "    fill: var(--fill-color);\n",
              "    height: 32px;\n",
              "    padding: 0;\n",
              "    width: 32px;\n",
              "  }\n",
              "\n",
              "  .colab-df-quickchart:hover {\n",
              "    background-color: var(--hover-bg-color);\n",
              "    box-shadow: 0 1px 2px rgba(60, 64, 67, 0.3), 0 1px 3px 1px rgba(60, 64, 67, 0.15);\n",
              "    fill: var(--button-hover-fill-color);\n",
              "  }\n",
              "\n",
              "  .colab-df-quickchart-complete:disabled,\n",
              "  .colab-df-quickchart-complete:disabled:hover {\n",
              "    background-color: var(--disabled-bg-color);\n",
              "    fill: var(--disabled-fill-color);\n",
              "    box-shadow: none;\n",
              "  }\n",
              "\n",
              "  .colab-df-spinner {\n",
              "    border: 2px solid var(--fill-color);\n",
              "    border-color: transparent;\n",
              "    border-bottom-color: var(--fill-color);\n",
              "    animation:\n",
              "      spin 1s steps(1) infinite;\n",
              "  }\n",
              "\n",
              "  @keyframes spin {\n",
              "    0% {\n",
              "      border-color: transparent;\n",
              "      border-bottom-color: var(--fill-color);\n",
              "      border-left-color: var(--fill-color);\n",
              "    }\n",
              "    20% {\n",
              "      border-color: transparent;\n",
              "      border-left-color: var(--fill-color);\n",
              "      border-top-color: var(--fill-color);\n",
              "    }\n",
              "    30% {\n",
              "      border-color: transparent;\n",
              "      border-left-color: var(--fill-color);\n",
              "      border-top-color: var(--fill-color);\n",
              "      border-right-color: var(--fill-color);\n",
              "    }\n",
              "    40% {\n",
              "      border-color: transparent;\n",
              "      border-right-color: var(--fill-color);\n",
              "      border-top-color: var(--fill-color);\n",
              "    }\n",
              "    60% {\n",
              "      border-color: transparent;\n",
              "      border-right-color: var(--fill-color);\n",
              "    }\n",
              "    80% {\n",
              "      border-color: transparent;\n",
              "      border-right-color: var(--fill-color);\n",
              "      border-bottom-color: var(--fill-color);\n",
              "    }\n",
              "    90% {\n",
              "      border-color: transparent;\n",
              "      border-bottom-color: var(--fill-color);\n",
              "    }\n",
              "  }\n",
              "</style>\n",
              "\n",
              "  <script>\n",
              "    async function quickchart(key) {\n",
              "      const quickchartButtonEl =\n",
              "        document.querySelector('#' + key + ' button');\n",
              "      quickchartButtonEl.disabled = true;  // To prevent multiple clicks.\n",
              "      quickchartButtonEl.classList.add('colab-df-spinner');\n",
              "      try {\n",
              "        const charts = await google.colab.kernel.invokeFunction(\n",
              "            'suggestCharts', [key], {});\n",
              "      } catch (error) {\n",
              "        console.error('Error during call to suggestCharts:', error);\n",
              "      }\n",
              "      quickchartButtonEl.classList.remove('colab-df-spinner');\n",
              "      quickchartButtonEl.classList.add('colab-df-quickchart-complete');\n",
              "    }\n",
              "    (() => {\n",
              "      let quickchartButtonEl =\n",
              "        document.querySelector('#df-c6ec8003-7837-4326-b7f6-f50a7ec1f8e9 button');\n",
              "      quickchartButtonEl.style.display =\n",
              "        google.colab.kernel.accessAllowed ? 'block' : 'none';\n",
              "    })();\n",
              "  </script>\n",
              "</div>\n",
              "    </div>\n",
              "  </div>\n"
            ],
            "application/vnd.google.colaboratory.intrinsic+json": {
              "type": "dataframe",
              "variable_name": "amazon_reviews_rel_columns",
              "summary": "{\n  \"name\": \"amazon_reviews_rel_columns\",\n  \"rows\": 28332,\n  \"fields\": [\n    {\n      \"column\": \"reviews.rating\",\n      \"properties\": {\n        \"dtype\": \"number\",\n        \"std\": 0,\n        \"min\": 1,\n        \"max\": 5,\n        \"num_unique_values\": 5,\n        \"samples\": [\n          4,\n          2,\n          5\n        ],\n        \"semantic_type\": \"\",\n        \"description\": \"\"\n      }\n    },\n    {\n      \"column\": \"reviews.text\",\n      \"properties\": {\n        \"dtype\": \"string\",\n        \"num_unique_values\": 18168,\n        \"samples\": [\n          \"Lets see how long the last. If they don't last long, I will lower the rating.\",\n          \"I am never buying brand name batteries again.\",\n          \"My second amazon fire 8 collection and I love it. Always wait for black Friday on this deals.\"\n        ],\n        \"semantic_type\": \"\",\n        \"description\": \"\"\n      }\n    },\n    {\n      \"column\": \"reviews.title\",\n      \"properties\": {\n        \"dtype\": \"category\",\n        \"num_unique_values\": 10441,\n        \"samples\": [\n          \"I got these batteries for my wireless mouse, which ...\",\n          \"Hmm not sure about these\",\n          \"You Get What You Pay For\"\n        ],\n        \"semantic_type\": \"\",\n        \"description\": \"\"\n      }\n    }\n  ]\n}"
            }
          },
          "metadata": {},
          "execution_count": 92
        }
      ]
    },
    {
      "cell_type": "markdown",
      "source": [
        "### Checking info and dtype to get the information about the columns and see if we have correct data type"
      ],
      "metadata": {
        "id": "isyucKFjXrvQ"
      }
    },
    {
      "cell_type": "code",
      "source": [
        "amazon_reviews_rel_columns.info()"
      ],
      "metadata": {
        "colab": {
          "base_uri": "https://localhost:8080/"
        },
        "id": "XYYSGypPt4aj",
        "outputId": "46256de4-f678-439c-cc02-95d62e159449"
      },
      "execution_count": null,
      "outputs": [
        {
          "output_type": "stream",
          "name": "stdout",
          "text": [
            "<class 'pandas.core.frame.DataFrame'>\n",
            "RangeIndex: 28332 entries, 0 to 28331\n",
            "Data columns (total 3 columns):\n",
            " #   Column          Non-Null Count  Dtype \n",
            "---  ------          --------------  ----- \n",
            " 0   reviews.rating  28332 non-null  int64 \n",
            " 1   reviews.text    28332 non-null  object\n",
            " 2   reviews.title   28332 non-null  object\n",
            "dtypes: int64(1), object(2)\n",
            "memory usage: 664.2+ KB\n"
          ]
        }
      ]
    },
    {
      "cell_type": "code",
      "source": [
        "amazon_reviews_rel_columns.dtypes"
      ],
      "metadata": {
        "colab": {
          "base_uri": "https://localhost:8080/"
        },
        "id": "yjTp9U1XuAoL",
        "outputId": "84d3433e-4c18-4f25-e1d9-dbb58629ca2c"
      },
      "execution_count": null,
      "outputs": [
        {
          "output_type": "execute_result",
          "data": {
            "text/plain": [
              "reviews.rating     int64\n",
              "reviews.text      object\n",
              "reviews.title     object\n",
              "dtype: object"
            ]
          },
          "metadata": {},
          "execution_count": 94
        }
      ]
    },
    {
      "cell_type": "markdown",
      "source": [
        "## Data Cleaning"
      ],
      "metadata": {
        "id": "UAtlI3YMX3-e"
      }
    },
    {
      "cell_type": "markdown",
      "source": [
        "### Checking for NaN values in the Dataframe\n"
      ],
      "metadata": {
        "id": "df9K4czd3gEH"
      }
    },
    {
      "cell_type": "code",
      "source": [
        "amazon_reviews_rel_columns.isna().sum()"
      ],
      "metadata": {
        "colab": {
          "base_uri": "https://localhost:8080/"
        },
        "id": "2qjc0LwluciQ",
        "outputId": "250eae4c-cb62-4b7b-d11e-2b002b0e37b4"
      },
      "execution_count": null,
      "outputs": [
        {
          "output_type": "execute_result",
          "data": {
            "text/plain": [
              "reviews.rating    0\n",
              "reviews.text      0\n",
              "reviews.title     0\n",
              "dtype: int64"
            ]
          },
          "metadata": {},
          "execution_count": 95
        }
      ]
    },
    {
      "cell_type": "markdown",
      "source": [
        "### Checking for empty cells in the Dataframe.\n"
      ],
      "metadata": {
        "id": "Wry7M0bd3lUd"
      }
    },
    {
      "cell_type": "code",
      "source": [
        "amazon_reviews_rel_columns.isnull().sum()"
      ],
      "metadata": {
        "colab": {
          "base_uri": "https://localhost:8080/"
        },
        "id": "McUhdIz5u3Zg",
        "outputId": "8214ba3c-509b-4a4f-e627-d2e86f360350"
      },
      "execution_count": null,
      "outputs": [
        {
          "output_type": "execute_result",
          "data": {
            "text/plain": [
              "reviews.rating    0\n",
              "reviews.text      0\n",
              "reviews.title     0\n",
              "dtype: int64"
            ]
          },
          "metadata": {},
          "execution_count": 96
        }
      ]
    },
    {
      "cell_type": "markdown",
      "source": [
        "### Checking if any of the cells in the Dataframe is only a whitespace\n"
      ],
      "metadata": {
        "id": "HAPU7uDt3rFY"
      }
    },
    {
      "cell_type": "code",
      "source": [
        "blanks = []\n",
        "\n",
        "# Using itertuples(), it returns a tuple with the index as the first element,\n",
        "# followed by the row values in following indexes.\n",
        "# Iterate through each row using itertuples\n",
        "for row in amazon_reviews_rel_columns.itertuples():\n",
        "    ## Iterate through each cell in the row\n",
        "    for cell in row[1:]:  # Skip the first element which is the index\n",
        "        if str(cell).isspace():  # Convert cell to string and check if it contains only whitespace\n",
        "            blanks.append(row.Index)  # Append index of the row with whitespace to the blanks list\n",
        "\n",
        "print(blanks)  # Printing the results to see all index position which has whitespaces."
      ],
      "metadata": {
        "colab": {
          "base_uri": "https://localhost:8080/"
        },
        "id": "FLZPiKAjvFdp",
        "outputId": "cb41abe1-ae91-43f6-ad07-eb28428a75c2"
      },
      "execution_count": null,
      "outputs": [
        {
          "output_type": "stream",
          "name": "stdout",
          "text": [
            "[]\n"
          ]
        }
      ]
    },
    {
      "cell_type": "markdown",
      "source": [
        "As we can see there are no NaN values, empty cells or cells with just white spaces in our selected columns. Therefore, we are ready to proceed."
      ],
      "metadata": {
        "id": "7A2fk7YiYBQA"
      }
    },
    {
      "cell_type": "code",
      "source": [
        "# Making sure that the review rating column has only 5 unique values for 5 category of ratings (1 to 5)\n",
        "amazon_reviews_rel_columns['reviews.rating'].nunique()"
      ],
      "metadata": {
        "colab": {
          "base_uri": "https://localhost:8080/"
        },
        "id": "--s0Ft1om5VH",
        "outputId": "30072c64-ec0d-484e-f883-47f67fb95507"
      },
      "execution_count": null,
      "outputs": [
        {
          "output_type": "execute_result",
          "data": {
            "text/plain": [
              "5"
            ]
          },
          "metadata": {},
          "execution_count": 98
        }
      ]
    },
    {
      "cell_type": "code",
      "source": [
        "# Finding out statistics about the reviews rating column.\n",
        "amazon_reviews_rel_columns.describe()"
      ],
      "metadata": {
        "colab": {
          "base_uri": "https://localhost:8080/",
          "height": 300
        },
        "id": "Dusj8Pi9nu7e",
        "outputId": "cca4cd98-24bc-4f7a-f695-2e18139e8271"
      },
      "execution_count": null,
      "outputs": [
        {
          "output_type": "execute_result",
          "data": {
            "text/plain": [
              "       reviews.rating\n",
              "count    28332.000000\n",
              "mean         4.514048\n",
              "std          0.934957\n",
              "min          1.000000\n",
              "25%          4.000000\n",
              "50%          5.000000\n",
              "75%          5.000000\n",
              "max          5.000000"
            ],
            "text/html": [
              "\n",
              "  <div id=\"df-7656b0dc-2046-428c-aad4-2abf79585e00\" class=\"colab-df-container\">\n",
              "    <div>\n",
              "<style scoped>\n",
              "    .dataframe tbody tr th:only-of-type {\n",
              "        vertical-align: middle;\n",
              "    }\n",
              "\n",
              "    .dataframe tbody tr th {\n",
              "        vertical-align: top;\n",
              "    }\n",
              "\n",
              "    .dataframe thead th {\n",
              "        text-align: right;\n",
              "    }\n",
              "</style>\n",
              "<table border=\"1\" class=\"dataframe\">\n",
              "  <thead>\n",
              "    <tr style=\"text-align: right;\">\n",
              "      <th></th>\n",
              "      <th>reviews.rating</th>\n",
              "    </tr>\n",
              "  </thead>\n",
              "  <tbody>\n",
              "    <tr>\n",
              "      <th>count</th>\n",
              "      <td>28332.000000</td>\n",
              "    </tr>\n",
              "    <tr>\n",
              "      <th>mean</th>\n",
              "      <td>4.514048</td>\n",
              "    </tr>\n",
              "    <tr>\n",
              "      <th>std</th>\n",
              "      <td>0.934957</td>\n",
              "    </tr>\n",
              "    <tr>\n",
              "      <th>min</th>\n",
              "      <td>1.000000</td>\n",
              "    </tr>\n",
              "    <tr>\n",
              "      <th>25%</th>\n",
              "      <td>4.000000</td>\n",
              "    </tr>\n",
              "    <tr>\n",
              "      <th>50%</th>\n",
              "      <td>5.000000</td>\n",
              "    </tr>\n",
              "    <tr>\n",
              "      <th>75%</th>\n",
              "      <td>5.000000</td>\n",
              "    </tr>\n",
              "    <tr>\n",
              "      <th>max</th>\n",
              "      <td>5.000000</td>\n",
              "    </tr>\n",
              "  </tbody>\n",
              "</table>\n",
              "</div>\n",
              "    <div class=\"colab-df-buttons\">\n",
              "\n",
              "  <div class=\"colab-df-container\">\n",
              "    <button class=\"colab-df-convert\" onclick=\"convertToInteractive('df-7656b0dc-2046-428c-aad4-2abf79585e00')\"\n",
              "            title=\"Convert this dataframe to an interactive table.\"\n",
              "            style=\"display:none;\">\n",
              "\n",
              "  <svg xmlns=\"http://www.w3.org/2000/svg\" height=\"24px\" viewBox=\"0 -960 960 960\">\n",
              "    <path d=\"M120-120v-720h720v720H120Zm60-500h600v-160H180v160Zm220 220h160v-160H400v160Zm0 220h160v-160H400v160ZM180-400h160v-160H180v160Zm440 0h160v-160H620v160ZM180-180h160v-160H180v160Zm440 0h160v-160H620v160Z\"/>\n",
              "  </svg>\n",
              "    </button>\n",
              "\n",
              "  <style>\n",
              "    .colab-df-container {\n",
              "      display:flex;\n",
              "      gap: 12px;\n",
              "    }\n",
              "\n",
              "    .colab-df-convert {\n",
              "      background-color: #E8F0FE;\n",
              "      border: none;\n",
              "      border-radius: 50%;\n",
              "      cursor: pointer;\n",
              "      display: none;\n",
              "      fill: #1967D2;\n",
              "      height: 32px;\n",
              "      padding: 0 0 0 0;\n",
              "      width: 32px;\n",
              "    }\n",
              "\n",
              "    .colab-df-convert:hover {\n",
              "      background-color: #E2EBFA;\n",
              "      box-shadow: 0px 1px 2px rgba(60, 64, 67, 0.3), 0px 1px 3px 1px rgba(60, 64, 67, 0.15);\n",
              "      fill: #174EA6;\n",
              "    }\n",
              "\n",
              "    .colab-df-buttons div {\n",
              "      margin-bottom: 4px;\n",
              "    }\n",
              "\n",
              "    [theme=dark] .colab-df-convert {\n",
              "      background-color: #3B4455;\n",
              "      fill: #D2E3FC;\n",
              "    }\n",
              "\n",
              "    [theme=dark] .colab-df-convert:hover {\n",
              "      background-color: #434B5C;\n",
              "      box-shadow: 0px 1px 3px 1px rgba(0, 0, 0, 0.15);\n",
              "      filter: drop-shadow(0px 1px 2px rgba(0, 0, 0, 0.3));\n",
              "      fill: #FFFFFF;\n",
              "    }\n",
              "  </style>\n",
              "\n",
              "    <script>\n",
              "      const buttonEl =\n",
              "        document.querySelector('#df-7656b0dc-2046-428c-aad4-2abf79585e00 button.colab-df-convert');\n",
              "      buttonEl.style.display =\n",
              "        google.colab.kernel.accessAllowed ? 'block' : 'none';\n",
              "\n",
              "      async function convertToInteractive(key) {\n",
              "        const element = document.querySelector('#df-7656b0dc-2046-428c-aad4-2abf79585e00');\n",
              "        const dataTable =\n",
              "          await google.colab.kernel.invokeFunction('convertToInteractive',\n",
              "                                                    [key], {});\n",
              "        if (!dataTable) return;\n",
              "\n",
              "        const docLinkHtml = 'Like what you see? Visit the ' +\n",
              "          '<a target=\"_blank\" href=https://colab.research.google.com/notebooks/data_table.ipynb>data table notebook</a>'\n",
              "          + ' to learn more about interactive tables.';\n",
              "        element.innerHTML = '';\n",
              "        dataTable['output_type'] = 'display_data';\n",
              "        await google.colab.output.renderOutput(dataTable, element);\n",
              "        const docLink = document.createElement('div');\n",
              "        docLink.innerHTML = docLinkHtml;\n",
              "        element.appendChild(docLink);\n",
              "      }\n",
              "    </script>\n",
              "  </div>\n",
              "\n",
              "\n",
              "<div id=\"df-319ae470-a8bf-4e18-8bd3-d251a65c6c97\">\n",
              "  <button class=\"colab-df-quickchart\" onclick=\"quickchart('df-319ae470-a8bf-4e18-8bd3-d251a65c6c97')\"\n",
              "            title=\"Suggest charts\"\n",
              "            style=\"display:none;\">\n",
              "\n",
              "<svg xmlns=\"http://www.w3.org/2000/svg\" height=\"24px\"viewBox=\"0 0 24 24\"\n",
              "     width=\"24px\">\n",
              "    <g>\n",
              "        <path d=\"M19 3H5c-1.1 0-2 .9-2 2v14c0 1.1.9 2 2 2h14c1.1 0 2-.9 2-2V5c0-1.1-.9-2-2-2zM9 17H7v-7h2v7zm4 0h-2V7h2v10zm4 0h-2v-4h2v4z\"/>\n",
              "    </g>\n",
              "</svg>\n",
              "  </button>\n",
              "\n",
              "<style>\n",
              "  .colab-df-quickchart {\n",
              "      --bg-color: #E8F0FE;\n",
              "      --fill-color: #1967D2;\n",
              "      --hover-bg-color: #E2EBFA;\n",
              "      --hover-fill-color: #174EA6;\n",
              "      --disabled-fill-color: #AAA;\n",
              "      --disabled-bg-color: #DDD;\n",
              "  }\n",
              "\n",
              "  [theme=dark] .colab-df-quickchart {\n",
              "      --bg-color: #3B4455;\n",
              "      --fill-color: #D2E3FC;\n",
              "      --hover-bg-color: #434B5C;\n",
              "      --hover-fill-color: #FFFFFF;\n",
              "      --disabled-bg-color: #3B4455;\n",
              "      --disabled-fill-color: #666;\n",
              "  }\n",
              "\n",
              "  .colab-df-quickchart {\n",
              "    background-color: var(--bg-color);\n",
              "    border: none;\n",
              "    border-radius: 50%;\n",
              "    cursor: pointer;\n",
              "    display: none;\n",
              "    fill: var(--fill-color);\n",
              "    height: 32px;\n",
              "    padding: 0;\n",
              "    width: 32px;\n",
              "  }\n",
              "\n",
              "  .colab-df-quickchart:hover {\n",
              "    background-color: var(--hover-bg-color);\n",
              "    box-shadow: 0 1px 2px rgba(60, 64, 67, 0.3), 0 1px 3px 1px rgba(60, 64, 67, 0.15);\n",
              "    fill: var(--button-hover-fill-color);\n",
              "  }\n",
              "\n",
              "  .colab-df-quickchart-complete:disabled,\n",
              "  .colab-df-quickchart-complete:disabled:hover {\n",
              "    background-color: var(--disabled-bg-color);\n",
              "    fill: var(--disabled-fill-color);\n",
              "    box-shadow: none;\n",
              "  }\n",
              "\n",
              "  .colab-df-spinner {\n",
              "    border: 2px solid var(--fill-color);\n",
              "    border-color: transparent;\n",
              "    border-bottom-color: var(--fill-color);\n",
              "    animation:\n",
              "      spin 1s steps(1) infinite;\n",
              "  }\n",
              "\n",
              "  @keyframes spin {\n",
              "    0% {\n",
              "      border-color: transparent;\n",
              "      border-bottom-color: var(--fill-color);\n",
              "      border-left-color: var(--fill-color);\n",
              "    }\n",
              "    20% {\n",
              "      border-color: transparent;\n",
              "      border-left-color: var(--fill-color);\n",
              "      border-top-color: var(--fill-color);\n",
              "    }\n",
              "    30% {\n",
              "      border-color: transparent;\n",
              "      border-left-color: var(--fill-color);\n",
              "      border-top-color: var(--fill-color);\n",
              "      border-right-color: var(--fill-color);\n",
              "    }\n",
              "    40% {\n",
              "      border-color: transparent;\n",
              "      border-right-color: var(--fill-color);\n",
              "      border-top-color: var(--fill-color);\n",
              "    }\n",
              "    60% {\n",
              "      border-color: transparent;\n",
              "      border-right-color: var(--fill-color);\n",
              "    }\n",
              "    80% {\n",
              "      border-color: transparent;\n",
              "      border-right-color: var(--fill-color);\n",
              "      border-bottom-color: var(--fill-color);\n",
              "    }\n",
              "    90% {\n",
              "      border-color: transparent;\n",
              "      border-bottom-color: var(--fill-color);\n",
              "    }\n",
              "  }\n",
              "</style>\n",
              "\n",
              "  <script>\n",
              "    async function quickchart(key) {\n",
              "      const quickchartButtonEl =\n",
              "        document.querySelector('#' + key + ' button');\n",
              "      quickchartButtonEl.disabled = true;  // To prevent multiple clicks.\n",
              "      quickchartButtonEl.classList.add('colab-df-spinner');\n",
              "      try {\n",
              "        const charts = await google.colab.kernel.invokeFunction(\n",
              "            'suggestCharts', [key], {});\n",
              "      } catch (error) {\n",
              "        console.error('Error during call to suggestCharts:', error);\n",
              "      }\n",
              "      quickchartButtonEl.classList.remove('colab-df-spinner');\n",
              "      quickchartButtonEl.classList.add('colab-df-quickchart-complete');\n",
              "    }\n",
              "    (() => {\n",
              "      let quickchartButtonEl =\n",
              "        document.querySelector('#df-319ae470-a8bf-4e18-8bd3-d251a65c6c97 button');\n",
              "      quickchartButtonEl.style.display =\n",
              "        google.colab.kernel.accessAllowed ? 'block' : 'none';\n",
              "    })();\n",
              "  </script>\n",
              "</div>\n",
              "    </div>\n",
              "  </div>\n"
            ],
            "application/vnd.google.colaboratory.intrinsic+json": {
              "type": "dataframe",
              "summary": "{\n  \"name\": \"amazon_reviews_rel_columns\",\n  \"rows\": 8,\n  \"fields\": [\n    {\n      \"column\": \"reviews.rating\",\n      \"properties\": {\n        \"dtype\": \"number\",\n        \"std\": 10015.589441261594,\n        \"min\": 0.934957350642142,\n        \"max\": 28332.0,\n        \"num_unique_values\": 6,\n        \"samples\": [\n          28332.0,\n          4.514047719892701,\n          5.0\n        ],\n        \"semantic_type\": \"\",\n        \"description\": \"\"\n      }\n    }\n  ]\n}"
            }
          },
          "metadata": {},
          "execution_count": 99
        }
      ]
    },
    {
      "cell_type": "markdown",
      "source": [
        "We see from above that our rating column has lowest value of 1 and highest of 5 which matches our requirement."
      ],
      "metadata": {
        "id": "6gKiiS7cYnPT"
      }
    },
    {
      "cell_type": "markdown",
      "source": [
        "## Creating NLP model.\n",
        "\n",
        "Loading English library and analysing a polarity of a single review cell just to test our model.\n",
        "\n",
        "***Important:*** Please note that I have already submitted the task using small English library. However, for this submission I am using the medium English library for more accuracy."
      ],
      "metadata": {
        "id": "Q4jDrJs7ZCGy"
      }
    },
    {
      "cell_type": "code",
      "source": [
        "# Loading the spaCy model\n",
        "nlp = spacy.load(\"en_core_web_md\")\n",
        "\n",
        "blob = TextBlob(amazon_reviews_rel_columns['reviews.text'][0])\n",
        "polarity = blob.sentiment.polarity\n",
        "\n",
        "polarity"
      ],
      "metadata": {
        "colab": {
          "base_uri": "https://localhost:8080/"
        },
        "id": "Mc__zaoH996i",
        "outputId": "4cab0599-21fa-4d57-b211-034267a58cd7"
      },
      "execution_count": null,
      "outputs": [
        {
          "output_type": "execute_result",
          "data": {
            "text/plain": [
              "-0.44999999999999996"
            ]
          },
          "metadata": {},
          "execution_count": 100
        }
      ]
    },
    {
      "cell_type": "code",
      "source": [
        "amazon_reviews_rel_columns['reviews.text'][0]"
      ],
      "metadata": {
        "colab": {
          "base_uri": "https://localhost:8080/",
          "height": 35
        },
        "id": "_NZYR6kCZci4",
        "outputId": "721a66eb-7deb-45f0-af19-53644fa56780"
      },
      "execution_count": null,
      "outputs": [
        {
          "output_type": "execute_result",
          "data": {
            "text/plain": [
              "'I order 3 of them and one of the item is bad quality. Is missing backup spring so I have to put a pcs of aluminum to make the battery work.'"
            ],
            "application/vnd.google.colaboratory.intrinsic+json": {
              "type": "string"
            }
          },
          "metadata": {},
          "execution_count": 101
        }
      ]
    },
    {
      "cell_type": "markdown",
      "source": [
        "For the first cell in the review text column, we first find the polarity of  \n",
        " -0.45 and then we see from the text that indeed that it is a negative review."
      ],
      "metadata": {
        "id": "qKG1tNnfaSje"
      }
    },
    {
      "cell_type": "markdown",
      "source": [
        "## Creating a function (polarity analysis):\n",
        "\n",
        "This function will take the text in each cell and then convert it to tokens by using Spacy library and then concert those tokens to string before we use TextBlob to understand the polarity of the text.\n",
        "\n",
        "We will initialise 2 list (polarity_scores and sentiment_analysis) to store the results of polarity scores and a sentiment analysis (based on polarity score) in each iteration."
      ],
      "metadata": {
        "id": "V2fNiwO1amsc"
      }
    },
    {
      "cell_type": "code",
      "source": [
        "\n",
        "\n",
        "def get_polarity_and_sentiment(review_text):\n",
        "\n",
        "  # Intializing two list to store polarity scores and sentiments in each iteration.\n",
        "  polarity_scores = []\n",
        "  sentiment_analysis = []\n",
        "\n",
        "  # With a for loop, we will iterate through all cells of a column and then store\n",
        "  # polarity scores and sentiments in each iteration.\n",
        "\n",
        "  for sentences in review_text:\n",
        "\n",
        "      # Creating unicode string from our original string through Spacy to retrieve tokens\n",
        "      review = nlp(sentences)\n",
        "      # Getting lemmetization of tokens and only including words which are not stop words and not non alpha values.\n",
        "      tokens = [token.lemma_.lower().strip() for token in review if not token.is_stop and token.is_alpha]\n",
        "      # Converting tokens back to string and fitting it in TextBlob\n",
        "      blob = TextBlob(str(tokens))\n",
        "      polarity = blob.sentiment.polarity # Getting polarity of the text.\n",
        "      polarity_scores.append(polarity) # Appending polarity_scores list with the current polarity score.\n",
        "\n",
        "      # Using if and elif to convert the polarity scores to Positive, Negative and Neutral (sentiments)\n",
        "      # based on if the score is more than, equal to or less than zero respectively.\n",
        "      # Adding the sentiments to a list on each iteration.\n",
        "      if polarity > 0:\n",
        "        sentiment_analysis.append(\"Positive\")\n",
        "      elif polarity < 0:\n",
        "        sentiment_analysis.append(\"Negative\")\n",
        "      elif polarity == 0:\n",
        "        sentiment_analysis.append(\"Neutral\")\n",
        "\n",
        "  # Returning the polarity_scores and sentiment analysis list.\n",
        "  return polarity_scores, sentiment_analysis\n"
      ],
      "metadata": {
        "id": "IwMBsF1r-oQo"
      },
      "execution_count": null,
      "outputs": []
    },
    {
      "cell_type": "markdown",
      "source": [
        "Now that we have got our polarity score and sentiment analysis list, and they are of the same shape as each of our selected columns (as there were no NaN, empty and whitespace cells in these columns) therefore these two list are good to be joined to our Dataframe as additional columns."
      ],
      "metadata": {
        "id": "QiVqiDGydA3O"
      }
    },
    {
      "cell_type": "code",
      "source": [
        "polarity_scores, sentiment_analysis = get_polarity_and_sentiment(amazon_reviews_rel_columns['reviews.text'])\n",
        "amazon_reviews_rel_columns['polarity_scores'] = polarity_scores\n",
        "amazon_reviews_rel_columns['sentiment_analysis'] = sentiment_analysis"
      ],
      "metadata": {
        "colab": {
          "base_uri": "https://localhost:8080/"
        },
        "id": "eMfEKwHcBSja",
        "outputId": "e5923891-4267-4bf0-dea0-a11b65e3662f"
      },
      "execution_count": null,
      "outputs": [
        {
          "output_type": "stream",
          "name": "stderr",
          "text": [
            "<ipython-input-103-c15e9ba32fa6>:2: SettingWithCopyWarning: \n",
            "A value is trying to be set on a copy of a slice from a DataFrame.\n",
            "Try using .loc[row_indexer,col_indexer] = value instead\n",
            "\n",
            "See the caveats in the documentation: https://pandas.pydata.org/pandas-docs/stable/user_guide/indexing.html#returning-a-view-versus-a-copy\n",
            "  amazon_reviews_rel_columns['polarity_scores'] = polarity_scores\n",
            "<ipython-input-103-c15e9ba32fa6>:3: SettingWithCopyWarning: \n",
            "A value is trying to be set on a copy of a slice from a DataFrame.\n",
            "Try using .loc[row_indexer,col_indexer] = value instead\n",
            "\n",
            "See the caveats in the documentation: https://pandas.pydata.org/pandas-docs/stable/user_guide/indexing.html#returning-a-view-versus-a-copy\n",
            "  amazon_reviews_rel_columns['sentiment_analysis'] = sentiment_analysis\n"
          ]
        }
      ]
    },
    {
      "cell_type": "markdown",
      "source": [
        "We will check out the first 5 rows of our data now along with the newly genetated columns for polarity scores and sentiment."
      ],
      "metadata": {
        "id": "HN2deFYQifGf"
      }
    },
    {
      "cell_type": "code",
      "source": [
        "amazon_reviews_rel_columns.head()"
      ],
      "metadata": {
        "colab": {
          "base_uri": "https://localhost:8080/",
          "height": 206
        },
        "id": "MCUbGCH1HhEr",
        "outputId": "47b8a9f0-12c8-49b9-c20a-6eea96cd58a3"
      },
      "execution_count": null,
      "outputs": [
        {
          "output_type": "execute_result",
          "data": {
            "text/plain": [
              "   reviews.rating                                       reviews.text  \\\n",
              "0               3  I order 3 of them and one of the item is bad q...   \n",
              "1               4  Bulk is always the less expensive way to go fo...   \n",
              "2               5  Well they are not Duracell but for the price i...   \n",
              "3               5  Seem to work as well as name brand batteries a...   \n",
              "4               5  These batteries are very long lasting the pric...   \n",
              "\n",
              "                                       reviews.title  polarity_scores  \\\n",
              "0  ... 3 of them and one of the item is bad quali...            -0.70   \n",
              "1  ... always the less expensive way to go for pr...            -0.50   \n",
              "2  ... are not Duracell but for the price i am ha...             0.80   \n",
              "3  ... as well as name brand batteries at a much ...             0.00   \n",
              "4  ... batteries are very long lasting the price ...             0.25   \n",
              "\n",
              "  sentiment_analysis  \n",
              "0           Negative  \n",
              "1           Negative  \n",
              "2           Positive  \n",
              "3            Neutral  \n",
              "4           Positive  "
            ],
            "text/html": [
              "\n",
              "  <div id=\"df-ca26d3df-7f8a-4c3d-bfed-4eec57a2b887\" class=\"colab-df-container\">\n",
              "    <div>\n",
              "<style scoped>\n",
              "    .dataframe tbody tr th:only-of-type {\n",
              "        vertical-align: middle;\n",
              "    }\n",
              "\n",
              "    .dataframe tbody tr th {\n",
              "        vertical-align: top;\n",
              "    }\n",
              "\n",
              "    .dataframe thead th {\n",
              "        text-align: right;\n",
              "    }\n",
              "</style>\n",
              "<table border=\"1\" class=\"dataframe\">\n",
              "  <thead>\n",
              "    <tr style=\"text-align: right;\">\n",
              "      <th></th>\n",
              "      <th>reviews.rating</th>\n",
              "      <th>reviews.text</th>\n",
              "      <th>reviews.title</th>\n",
              "      <th>polarity_scores</th>\n",
              "      <th>sentiment_analysis</th>\n",
              "    </tr>\n",
              "  </thead>\n",
              "  <tbody>\n",
              "    <tr>\n",
              "      <th>0</th>\n",
              "      <td>3</td>\n",
              "      <td>I order 3 of them and one of the item is bad q...</td>\n",
              "      <td>... 3 of them and one of the item is bad quali...</td>\n",
              "      <td>-0.70</td>\n",
              "      <td>Negative</td>\n",
              "    </tr>\n",
              "    <tr>\n",
              "      <th>1</th>\n",
              "      <td>4</td>\n",
              "      <td>Bulk is always the less expensive way to go fo...</td>\n",
              "      <td>... always the less expensive way to go for pr...</td>\n",
              "      <td>-0.50</td>\n",
              "      <td>Negative</td>\n",
              "    </tr>\n",
              "    <tr>\n",
              "      <th>2</th>\n",
              "      <td>5</td>\n",
              "      <td>Well they are not Duracell but for the price i...</td>\n",
              "      <td>... are not Duracell but for the price i am ha...</td>\n",
              "      <td>0.80</td>\n",
              "      <td>Positive</td>\n",
              "    </tr>\n",
              "    <tr>\n",
              "      <th>3</th>\n",
              "      <td>5</td>\n",
              "      <td>Seem to work as well as name brand batteries a...</td>\n",
              "      <td>... as well as name brand batteries at a much ...</td>\n",
              "      <td>0.00</td>\n",
              "      <td>Neutral</td>\n",
              "    </tr>\n",
              "    <tr>\n",
              "      <th>4</th>\n",
              "      <td>5</td>\n",
              "      <td>These batteries are very long lasting the pric...</td>\n",
              "      <td>... batteries are very long lasting the price ...</td>\n",
              "      <td>0.25</td>\n",
              "      <td>Positive</td>\n",
              "    </tr>\n",
              "  </tbody>\n",
              "</table>\n",
              "</div>\n",
              "    <div class=\"colab-df-buttons\">\n",
              "\n",
              "  <div class=\"colab-df-container\">\n",
              "    <button class=\"colab-df-convert\" onclick=\"convertToInteractive('df-ca26d3df-7f8a-4c3d-bfed-4eec57a2b887')\"\n",
              "            title=\"Convert this dataframe to an interactive table.\"\n",
              "            style=\"display:none;\">\n",
              "\n",
              "  <svg xmlns=\"http://www.w3.org/2000/svg\" height=\"24px\" viewBox=\"0 -960 960 960\">\n",
              "    <path d=\"M120-120v-720h720v720H120Zm60-500h600v-160H180v160Zm220 220h160v-160H400v160Zm0 220h160v-160H400v160ZM180-400h160v-160H180v160Zm440 0h160v-160H620v160ZM180-180h160v-160H180v160Zm440 0h160v-160H620v160Z\"/>\n",
              "  </svg>\n",
              "    </button>\n",
              "\n",
              "  <style>\n",
              "    .colab-df-container {\n",
              "      display:flex;\n",
              "      gap: 12px;\n",
              "    }\n",
              "\n",
              "    .colab-df-convert {\n",
              "      background-color: #E8F0FE;\n",
              "      border: none;\n",
              "      border-radius: 50%;\n",
              "      cursor: pointer;\n",
              "      display: none;\n",
              "      fill: #1967D2;\n",
              "      height: 32px;\n",
              "      padding: 0 0 0 0;\n",
              "      width: 32px;\n",
              "    }\n",
              "\n",
              "    .colab-df-convert:hover {\n",
              "      background-color: #E2EBFA;\n",
              "      box-shadow: 0px 1px 2px rgba(60, 64, 67, 0.3), 0px 1px 3px 1px rgba(60, 64, 67, 0.15);\n",
              "      fill: #174EA6;\n",
              "    }\n",
              "\n",
              "    .colab-df-buttons div {\n",
              "      margin-bottom: 4px;\n",
              "    }\n",
              "\n",
              "    [theme=dark] .colab-df-convert {\n",
              "      background-color: #3B4455;\n",
              "      fill: #D2E3FC;\n",
              "    }\n",
              "\n",
              "    [theme=dark] .colab-df-convert:hover {\n",
              "      background-color: #434B5C;\n",
              "      box-shadow: 0px 1px 3px 1px rgba(0, 0, 0, 0.15);\n",
              "      filter: drop-shadow(0px 1px 2px rgba(0, 0, 0, 0.3));\n",
              "      fill: #FFFFFF;\n",
              "    }\n",
              "  </style>\n",
              "\n",
              "    <script>\n",
              "      const buttonEl =\n",
              "        document.querySelector('#df-ca26d3df-7f8a-4c3d-bfed-4eec57a2b887 button.colab-df-convert');\n",
              "      buttonEl.style.display =\n",
              "        google.colab.kernel.accessAllowed ? 'block' : 'none';\n",
              "\n",
              "      async function convertToInteractive(key) {\n",
              "        const element = document.querySelector('#df-ca26d3df-7f8a-4c3d-bfed-4eec57a2b887');\n",
              "        const dataTable =\n",
              "          await google.colab.kernel.invokeFunction('convertToInteractive',\n",
              "                                                    [key], {});\n",
              "        if (!dataTable) return;\n",
              "\n",
              "        const docLinkHtml = 'Like what you see? Visit the ' +\n",
              "          '<a target=\"_blank\" href=https://colab.research.google.com/notebooks/data_table.ipynb>data table notebook</a>'\n",
              "          + ' to learn more about interactive tables.';\n",
              "        element.innerHTML = '';\n",
              "        dataTable['output_type'] = 'display_data';\n",
              "        await google.colab.output.renderOutput(dataTable, element);\n",
              "        const docLink = document.createElement('div');\n",
              "        docLink.innerHTML = docLinkHtml;\n",
              "        element.appendChild(docLink);\n",
              "      }\n",
              "    </script>\n",
              "  </div>\n",
              "\n",
              "\n",
              "<div id=\"df-f5a58493-8624-4f78-8c7a-970e7faf2840\">\n",
              "  <button class=\"colab-df-quickchart\" onclick=\"quickchart('df-f5a58493-8624-4f78-8c7a-970e7faf2840')\"\n",
              "            title=\"Suggest charts\"\n",
              "            style=\"display:none;\">\n",
              "\n",
              "<svg xmlns=\"http://www.w3.org/2000/svg\" height=\"24px\"viewBox=\"0 0 24 24\"\n",
              "     width=\"24px\">\n",
              "    <g>\n",
              "        <path d=\"M19 3H5c-1.1 0-2 .9-2 2v14c0 1.1.9 2 2 2h14c1.1 0 2-.9 2-2V5c0-1.1-.9-2-2-2zM9 17H7v-7h2v7zm4 0h-2V7h2v10zm4 0h-2v-4h2v4z\"/>\n",
              "    </g>\n",
              "</svg>\n",
              "  </button>\n",
              "\n",
              "<style>\n",
              "  .colab-df-quickchart {\n",
              "      --bg-color: #E8F0FE;\n",
              "      --fill-color: #1967D2;\n",
              "      --hover-bg-color: #E2EBFA;\n",
              "      --hover-fill-color: #174EA6;\n",
              "      --disabled-fill-color: #AAA;\n",
              "      --disabled-bg-color: #DDD;\n",
              "  }\n",
              "\n",
              "  [theme=dark] .colab-df-quickchart {\n",
              "      --bg-color: #3B4455;\n",
              "      --fill-color: #D2E3FC;\n",
              "      --hover-bg-color: #434B5C;\n",
              "      --hover-fill-color: #FFFFFF;\n",
              "      --disabled-bg-color: #3B4455;\n",
              "      --disabled-fill-color: #666;\n",
              "  }\n",
              "\n",
              "  .colab-df-quickchart {\n",
              "    background-color: var(--bg-color);\n",
              "    border: none;\n",
              "    border-radius: 50%;\n",
              "    cursor: pointer;\n",
              "    display: none;\n",
              "    fill: var(--fill-color);\n",
              "    height: 32px;\n",
              "    padding: 0;\n",
              "    width: 32px;\n",
              "  }\n",
              "\n",
              "  .colab-df-quickchart:hover {\n",
              "    background-color: var(--hover-bg-color);\n",
              "    box-shadow: 0 1px 2px rgba(60, 64, 67, 0.3), 0 1px 3px 1px rgba(60, 64, 67, 0.15);\n",
              "    fill: var(--button-hover-fill-color);\n",
              "  }\n",
              "\n",
              "  .colab-df-quickchart-complete:disabled,\n",
              "  .colab-df-quickchart-complete:disabled:hover {\n",
              "    background-color: var(--disabled-bg-color);\n",
              "    fill: var(--disabled-fill-color);\n",
              "    box-shadow: none;\n",
              "  }\n",
              "\n",
              "  .colab-df-spinner {\n",
              "    border: 2px solid var(--fill-color);\n",
              "    border-color: transparent;\n",
              "    border-bottom-color: var(--fill-color);\n",
              "    animation:\n",
              "      spin 1s steps(1) infinite;\n",
              "  }\n",
              "\n",
              "  @keyframes spin {\n",
              "    0% {\n",
              "      border-color: transparent;\n",
              "      border-bottom-color: var(--fill-color);\n",
              "      border-left-color: var(--fill-color);\n",
              "    }\n",
              "    20% {\n",
              "      border-color: transparent;\n",
              "      border-left-color: var(--fill-color);\n",
              "      border-top-color: var(--fill-color);\n",
              "    }\n",
              "    30% {\n",
              "      border-color: transparent;\n",
              "      border-left-color: var(--fill-color);\n",
              "      border-top-color: var(--fill-color);\n",
              "      border-right-color: var(--fill-color);\n",
              "    }\n",
              "    40% {\n",
              "      border-color: transparent;\n",
              "      border-right-color: var(--fill-color);\n",
              "      border-top-color: var(--fill-color);\n",
              "    }\n",
              "    60% {\n",
              "      border-color: transparent;\n",
              "      border-right-color: var(--fill-color);\n",
              "    }\n",
              "    80% {\n",
              "      border-color: transparent;\n",
              "      border-right-color: var(--fill-color);\n",
              "      border-bottom-color: var(--fill-color);\n",
              "    }\n",
              "    90% {\n",
              "      border-color: transparent;\n",
              "      border-bottom-color: var(--fill-color);\n",
              "    }\n",
              "  }\n",
              "</style>\n",
              "\n",
              "  <script>\n",
              "    async function quickchart(key) {\n",
              "      const quickchartButtonEl =\n",
              "        document.querySelector('#' + key + ' button');\n",
              "      quickchartButtonEl.disabled = true;  // To prevent multiple clicks.\n",
              "      quickchartButtonEl.classList.add('colab-df-spinner');\n",
              "      try {\n",
              "        const charts = await google.colab.kernel.invokeFunction(\n",
              "            'suggestCharts', [key], {});\n",
              "      } catch (error) {\n",
              "        console.error('Error during call to suggestCharts:', error);\n",
              "      }\n",
              "      quickchartButtonEl.classList.remove('colab-df-spinner');\n",
              "      quickchartButtonEl.classList.add('colab-df-quickchart-complete');\n",
              "    }\n",
              "    (() => {\n",
              "      let quickchartButtonEl =\n",
              "        document.querySelector('#df-f5a58493-8624-4f78-8c7a-970e7faf2840 button');\n",
              "      quickchartButtonEl.style.display =\n",
              "        google.colab.kernel.accessAllowed ? 'block' : 'none';\n",
              "    })();\n",
              "  </script>\n",
              "</div>\n",
              "    </div>\n",
              "  </div>\n"
            ],
            "application/vnd.google.colaboratory.intrinsic+json": {
              "type": "dataframe",
              "variable_name": "amazon_reviews_rel_columns",
              "summary": "{\n  \"name\": \"amazon_reviews_rel_columns\",\n  \"rows\": 28332,\n  \"fields\": [\n    {\n      \"column\": \"reviews.rating\",\n      \"properties\": {\n        \"dtype\": \"number\",\n        \"std\": 0,\n        \"min\": 1,\n        \"max\": 5,\n        \"num_unique_values\": 5,\n        \"samples\": [\n          4,\n          2,\n          5\n        ],\n        \"semantic_type\": \"\",\n        \"description\": \"\"\n      }\n    },\n    {\n      \"column\": \"reviews.text\",\n      \"properties\": {\n        \"dtype\": \"string\",\n        \"num_unique_values\": 18168,\n        \"samples\": [\n          \"Lets see how long the last. If they don't last long, I will lower the rating.\",\n          \"I am never buying brand name batteries again.\",\n          \"My second amazon fire 8 collection and I love it. Always wait for black Friday on this deals.\"\n        ],\n        \"semantic_type\": \"\",\n        \"description\": \"\"\n      }\n    },\n    {\n      \"column\": \"reviews.title\",\n      \"properties\": {\n        \"dtype\": \"category\",\n        \"num_unique_values\": 10441,\n        \"samples\": [\n          \"I got these batteries for my wireless mouse, which ...\",\n          \"Hmm not sure about these\",\n          \"You Get What You Pay For\"\n        ],\n        \"semantic_type\": \"\",\n        \"description\": \"\"\n      }\n    },\n    {\n      \"column\": \"polarity_scores\",\n      \"properties\": {\n        \"dtype\": \"number\",\n        \"std\": 0.2987466490486586,\n        \"min\": -1.0,\n        \"max\": 1.0,\n        \"num_unique_values\": 3227,\n        \"samples\": [\n          0.18409090909090908,\n          0.36,\n          0.06212121212121211\n        ],\n        \"semantic_type\": \"\",\n        \"description\": \"\"\n      }\n    },\n    {\n      \"column\": \"sentiment_analysis\",\n      \"properties\": {\n        \"dtype\": \"category\",\n        \"num_unique_values\": 3,\n        \"samples\": [\n          \"Negative\",\n          \"Positive\",\n          \"Neutral\"\n        ],\n        \"semantic_type\": \"\",\n        \"description\": \"\"\n      }\n    }\n  ]\n}"
            }
          },
          "metadata": {},
          "execution_count": 104
        }
      ]
    },
    {
      "cell_type": "markdown",
      "source": [
        "From above, by just comparing the polarity scores and sentiment analysis to the review ratings, we see that the model did well on most of the rows. The polarity scores and sentiment analysis does gives little indication what the ratings would be. However, we also see that on index 3 the model predicted a neutral score but actually the rating was a 5. To evaluate more, we will look at index 3 of review text column."
      ],
      "metadata": {
        "id": "FqmLVJF_iqhK"
      }
    },
    {
      "cell_type": "code",
      "source": [
        "amazon_reviews_rel_columns['reviews.text'][3]"
      ],
      "metadata": {
        "colab": {
          "base_uri": "https://localhost:8080/",
          "height": 35
        },
        "id": "1I07B_lcjVU8",
        "outputId": "e639c554-d8b4-4d79-c697-3ba8398dfb24"
      },
      "execution_count": null,
      "outputs": [
        {
          "output_type": "execute_result",
          "data": {
            "text/plain": [
              "'Seem to work as well as name brand batteries at a much better price'"
            ],
            "application/vnd.google.colaboratory.intrinsic+json": {
              "type": "string"
            }
          },
          "metadata": {},
          "execution_count": 105
        }
      ]
    },
    {
      "cell_type": "markdown",
      "source": [
        "Indeed we see that our assumption made above is true for this cell. We have a very neutral review but actually the customer has rated the product as 5. we will check row 10 to 20 to understand if we find any more anomalies."
      ],
      "metadata": {
        "id": "8fCz0qcHjn8M"
      }
    },
    {
      "cell_type": "code",
      "source": [
        "amazon_reviews_rel_columns[['reviews.text', 'reviews.rating', 'polarity_scores', 'sentiment_analysis']].loc[10:20]"
      ],
      "metadata": {
        "colab": {
          "base_uri": "https://localhost:8080/",
          "height": 394
        },
        "id": "YP851-QEVQVd",
        "outputId": "cb283db5-b116-479d-f60f-de47690778f9"
      },
      "execution_count": null,
      "outputs": [
        {
          "output_type": "execute_result",
          "data": {
            "text/plain": [
              "                                         reviews.text  reviews.rating  \\\n",
              "10  I find amazon basics batteries to be equal if ...               5   \n",
              "11  When I first started getting the Amazon basic ...               3   \n",
              "12  Use it for my fish tank's light at night and w...               5   \n",
              "13  just got em so I can't really comment on how g...               5   \n",
              "14  we have many things that need aa battery they ...               5   \n",
              "15  Thankful that I was able to find on Amazon for...               5   \n",
              "16  I don't know if I would buy thus brand again s...               1   \n",
              "17  In my opinion these did not last anywhere near...               2   \n",
              "18  They don't last as long as the brand name but ...               4   \n",
              "19  Bought these batteries for my Christmas gifts ...               3   \n",
              "20  This my second order and they seem to work as ...               4   \n",
              "\n",
              "    polarity_scores sentiment_analysis  \n",
              "10         0.342857           Positive  \n",
              "11        -0.056944           Negative  \n",
              "12         0.533333           Positive  \n",
              "13         0.577778           Positive  \n",
              "14         0.800000           Positive  \n",
              "15         0.670000           Positive  \n",
              "16        -0.050000           Negative  \n",
              "17        -0.022619           Negative  \n",
              "18         0.350000           Positive  \n",
              "19        -0.050000           Negative  \n",
              "20         0.350000           Positive  "
            ],
            "text/html": [
              "\n",
              "  <div id=\"df-cc0bea16-25c6-42b3-bc90-eba2fe0b17ca\" class=\"colab-df-container\">\n",
              "    <div>\n",
              "<style scoped>\n",
              "    .dataframe tbody tr th:only-of-type {\n",
              "        vertical-align: middle;\n",
              "    }\n",
              "\n",
              "    .dataframe tbody tr th {\n",
              "        vertical-align: top;\n",
              "    }\n",
              "\n",
              "    .dataframe thead th {\n",
              "        text-align: right;\n",
              "    }\n",
              "</style>\n",
              "<table border=\"1\" class=\"dataframe\">\n",
              "  <thead>\n",
              "    <tr style=\"text-align: right;\">\n",
              "      <th></th>\n",
              "      <th>reviews.text</th>\n",
              "      <th>reviews.rating</th>\n",
              "      <th>polarity_scores</th>\n",
              "      <th>sentiment_analysis</th>\n",
              "    </tr>\n",
              "  </thead>\n",
              "  <tbody>\n",
              "    <tr>\n",
              "      <th>10</th>\n",
              "      <td>I find amazon basics batteries to be equal if ...</td>\n",
              "      <td>5</td>\n",
              "      <td>0.342857</td>\n",
              "      <td>Positive</td>\n",
              "    </tr>\n",
              "    <tr>\n",
              "      <th>11</th>\n",
              "      <td>When I first started getting the Amazon basic ...</td>\n",
              "      <td>3</td>\n",
              "      <td>-0.056944</td>\n",
              "      <td>Negative</td>\n",
              "    </tr>\n",
              "    <tr>\n",
              "      <th>12</th>\n",
              "      <td>Use it for my fish tank's light at night and w...</td>\n",
              "      <td>5</td>\n",
              "      <td>0.533333</td>\n",
              "      <td>Positive</td>\n",
              "    </tr>\n",
              "    <tr>\n",
              "      <th>13</th>\n",
              "      <td>just got em so I can't really comment on how g...</td>\n",
              "      <td>5</td>\n",
              "      <td>0.577778</td>\n",
              "      <td>Positive</td>\n",
              "    </tr>\n",
              "    <tr>\n",
              "      <th>14</th>\n",
              "      <td>we have many things that need aa battery they ...</td>\n",
              "      <td>5</td>\n",
              "      <td>0.800000</td>\n",
              "      <td>Positive</td>\n",
              "    </tr>\n",
              "    <tr>\n",
              "      <th>15</th>\n",
              "      <td>Thankful that I was able to find on Amazon for...</td>\n",
              "      <td>5</td>\n",
              "      <td>0.670000</td>\n",
              "      <td>Positive</td>\n",
              "    </tr>\n",
              "    <tr>\n",
              "      <th>16</th>\n",
              "      <td>I don't know if I would buy thus brand again s...</td>\n",
              "      <td>1</td>\n",
              "      <td>-0.050000</td>\n",
              "      <td>Negative</td>\n",
              "    </tr>\n",
              "    <tr>\n",
              "      <th>17</th>\n",
              "      <td>In my opinion these did not last anywhere near...</td>\n",
              "      <td>2</td>\n",
              "      <td>-0.022619</td>\n",
              "      <td>Negative</td>\n",
              "    </tr>\n",
              "    <tr>\n",
              "      <th>18</th>\n",
              "      <td>They don't last as long as the brand name but ...</td>\n",
              "      <td>4</td>\n",
              "      <td>0.350000</td>\n",
              "      <td>Positive</td>\n",
              "    </tr>\n",
              "    <tr>\n",
              "      <th>19</th>\n",
              "      <td>Bought these batteries for my Christmas gifts ...</td>\n",
              "      <td>3</td>\n",
              "      <td>-0.050000</td>\n",
              "      <td>Negative</td>\n",
              "    </tr>\n",
              "    <tr>\n",
              "      <th>20</th>\n",
              "      <td>This my second order and they seem to work as ...</td>\n",
              "      <td>4</td>\n",
              "      <td>0.350000</td>\n",
              "      <td>Positive</td>\n",
              "    </tr>\n",
              "  </tbody>\n",
              "</table>\n",
              "</div>\n",
              "    <div class=\"colab-df-buttons\">\n",
              "\n",
              "  <div class=\"colab-df-container\">\n",
              "    <button class=\"colab-df-convert\" onclick=\"convertToInteractive('df-cc0bea16-25c6-42b3-bc90-eba2fe0b17ca')\"\n",
              "            title=\"Convert this dataframe to an interactive table.\"\n",
              "            style=\"display:none;\">\n",
              "\n",
              "  <svg xmlns=\"http://www.w3.org/2000/svg\" height=\"24px\" viewBox=\"0 -960 960 960\">\n",
              "    <path d=\"M120-120v-720h720v720H120Zm60-500h600v-160H180v160Zm220 220h160v-160H400v160Zm0 220h160v-160H400v160ZM180-400h160v-160H180v160Zm440 0h160v-160H620v160ZM180-180h160v-160H180v160Zm440 0h160v-160H620v160Z\"/>\n",
              "  </svg>\n",
              "    </button>\n",
              "\n",
              "  <style>\n",
              "    .colab-df-container {\n",
              "      display:flex;\n",
              "      gap: 12px;\n",
              "    }\n",
              "\n",
              "    .colab-df-convert {\n",
              "      background-color: #E8F0FE;\n",
              "      border: none;\n",
              "      border-radius: 50%;\n",
              "      cursor: pointer;\n",
              "      display: none;\n",
              "      fill: #1967D2;\n",
              "      height: 32px;\n",
              "      padding: 0 0 0 0;\n",
              "      width: 32px;\n",
              "    }\n",
              "\n",
              "    .colab-df-convert:hover {\n",
              "      background-color: #E2EBFA;\n",
              "      box-shadow: 0px 1px 2px rgba(60, 64, 67, 0.3), 0px 1px 3px 1px rgba(60, 64, 67, 0.15);\n",
              "      fill: #174EA6;\n",
              "    }\n",
              "\n",
              "    .colab-df-buttons div {\n",
              "      margin-bottom: 4px;\n",
              "    }\n",
              "\n",
              "    [theme=dark] .colab-df-convert {\n",
              "      background-color: #3B4455;\n",
              "      fill: #D2E3FC;\n",
              "    }\n",
              "\n",
              "    [theme=dark] .colab-df-convert:hover {\n",
              "      background-color: #434B5C;\n",
              "      box-shadow: 0px 1px 3px 1px rgba(0, 0, 0, 0.15);\n",
              "      filter: drop-shadow(0px 1px 2px rgba(0, 0, 0, 0.3));\n",
              "      fill: #FFFFFF;\n",
              "    }\n",
              "  </style>\n",
              "\n",
              "    <script>\n",
              "      const buttonEl =\n",
              "        document.querySelector('#df-cc0bea16-25c6-42b3-bc90-eba2fe0b17ca button.colab-df-convert');\n",
              "      buttonEl.style.display =\n",
              "        google.colab.kernel.accessAllowed ? 'block' : 'none';\n",
              "\n",
              "      async function convertToInteractive(key) {\n",
              "        const element = document.querySelector('#df-cc0bea16-25c6-42b3-bc90-eba2fe0b17ca');\n",
              "        const dataTable =\n",
              "          await google.colab.kernel.invokeFunction('convertToInteractive',\n",
              "                                                    [key], {});\n",
              "        if (!dataTable) return;\n",
              "\n",
              "        const docLinkHtml = 'Like what you see? Visit the ' +\n",
              "          '<a target=\"_blank\" href=https://colab.research.google.com/notebooks/data_table.ipynb>data table notebook</a>'\n",
              "          + ' to learn more about interactive tables.';\n",
              "        element.innerHTML = '';\n",
              "        dataTable['output_type'] = 'display_data';\n",
              "        await google.colab.output.renderOutput(dataTable, element);\n",
              "        const docLink = document.createElement('div');\n",
              "        docLink.innerHTML = docLinkHtml;\n",
              "        element.appendChild(docLink);\n",
              "      }\n",
              "    </script>\n",
              "  </div>\n",
              "\n",
              "\n",
              "<div id=\"df-4e105277-fa75-4fc3-a865-f2622497bc0f\">\n",
              "  <button class=\"colab-df-quickchart\" onclick=\"quickchart('df-4e105277-fa75-4fc3-a865-f2622497bc0f')\"\n",
              "            title=\"Suggest charts\"\n",
              "            style=\"display:none;\">\n",
              "\n",
              "<svg xmlns=\"http://www.w3.org/2000/svg\" height=\"24px\"viewBox=\"0 0 24 24\"\n",
              "     width=\"24px\">\n",
              "    <g>\n",
              "        <path d=\"M19 3H5c-1.1 0-2 .9-2 2v14c0 1.1.9 2 2 2h14c1.1 0 2-.9 2-2V5c0-1.1-.9-2-2-2zM9 17H7v-7h2v7zm4 0h-2V7h2v10zm4 0h-2v-4h2v4z\"/>\n",
              "    </g>\n",
              "</svg>\n",
              "  </button>\n",
              "\n",
              "<style>\n",
              "  .colab-df-quickchart {\n",
              "      --bg-color: #E8F0FE;\n",
              "      --fill-color: #1967D2;\n",
              "      --hover-bg-color: #E2EBFA;\n",
              "      --hover-fill-color: #174EA6;\n",
              "      --disabled-fill-color: #AAA;\n",
              "      --disabled-bg-color: #DDD;\n",
              "  }\n",
              "\n",
              "  [theme=dark] .colab-df-quickchart {\n",
              "      --bg-color: #3B4455;\n",
              "      --fill-color: #D2E3FC;\n",
              "      --hover-bg-color: #434B5C;\n",
              "      --hover-fill-color: #FFFFFF;\n",
              "      --disabled-bg-color: #3B4455;\n",
              "      --disabled-fill-color: #666;\n",
              "  }\n",
              "\n",
              "  .colab-df-quickchart {\n",
              "    background-color: var(--bg-color);\n",
              "    border: none;\n",
              "    border-radius: 50%;\n",
              "    cursor: pointer;\n",
              "    display: none;\n",
              "    fill: var(--fill-color);\n",
              "    height: 32px;\n",
              "    padding: 0;\n",
              "    width: 32px;\n",
              "  }\n",
              "\n",
              "  .colab-df-quickchart:hover {\n",
              "    background-color: var(--hover-bg-color);\n",
              "    box-shadow: 0 1px 2px rgba(60, 64, 67, 0.3), 0 1px 3px 1px rgba(60, 64, 67, 0.15);\n",
              "    fill: var(--button-hover-fill-color);\n",
              "  }\n",
              "\n",
              "  .colab-df-quickchart-complete:disabled,\n",
              "  .colab-df-quickchart-complete:disabled:hover {\n",
              "    background-color: var(--disabled-bg-color);\n",
              "    fill: var(--disabled-fill-color);\n",
              "    box-shadow: none;\n",
              "  }\n",
              "\n",
              "  .colab-df-spinner {\n",
              "    border: 2px solid var(--fill-color);\n",
              "    border-color: transparent;\n",
              "    border-bottom-color: var(--fill-color);\n",
              "    animation:\n",
              "      spin 1s steps(1) infinite;\n",
              "  }\n",
              "\n",
              "  @keyframes spin {\n",
              "    0% {\n",
              "      border-color: transparent;\n",
              "      border-bottom-color: var(--fill-color);\n",
              "      border-left-color: var(--fill-color);\n",
              "    }\n",
              "    20% {\n",
              "      border-color: transparent;\n",
              "      border-left-color: var(--fill-color);\n",
              "      border-top-color: var(--fill-color);\n",
              "    }\n",
              "    30% {\n",
              "      border-color: transparent;\n",
              "      border-left-color: var(--fill-color);\n",
              "      border-top-color: var(--fill-color);\n",
              "      border-right-color: var(--fill-color);\n",
              "    }\n",
              "    40% {\n",
              "      border-color: transparent;\n",
              "      border-right-color: var(--fill-color);\n",
              "      border-top-color: var(--fill-color);\n",
              "    }\n",
              "    60% {\n",
              "      border-color: transparent;\n",
              "      border-right-color: var(--fill-color);\n",
              "    }\n",
              "    80% {\n",
              "      border-color: transparent;\n",
              "      border-right-color: var(--fill-color);\n",
              "      border-bottom-color: var(--fill-color);\n",
              "    }\n",
              "    90% {\n",
              "      border-color: transparent;\n",
              "      border-bottom-color: var(--fill-color);\n",
              "    }\n",
              "  }\n",
              "</style>\n",
              "\n",
              "  <script>\n",
              "    async function quickchart(key) {\n",
              "      const quickchartButtonEl =\n",
              "        document.querySelector('#' + key + ' button');\n",
              "      quickchartButtonEl.disabled = true;  // To prevent multiple clicks.\n",
              "      quickchartButtonEl.classList.add('colab-df-spinner');\n",
              "      try {\n",
              "        const charts = await google.colab.kernel.invokeFunction(\n",
              "            'suggestCharts', [key], {});\n",
              "      } catch (error) {\n",
              "        console.error('Error during call to suggestCharts:', error);\n",
              "      }\n",
              "      quickchartButtonEl.classList.remove('colab-df-spinner');\n",
              "      quickchartButtonEl.classList.add('colab-df-quickchart-complete');\n",
              "    }\n",
              "    (() => {\n",
              "      let quickchartButtonEl =\n",
              "        document.querySelector('#df-4e105277-fa75-4fc3-a865-f2622497bc0f button');\n",
              "      quickchartButtonEl.style.display =\n",
              "        google.colab.kernel.accessAllowed ? 'block' : 'none';\n",
              "    })();\n",
              "  </script>\n",
              "</div>\n",
              "    </div>\n",
              "  </div>\n"
            ],
            "application/vnd.google.colaboratory.intrinsic+json": {
              "type": "dataframe",
              "summary": "{\n  \"name\": \"amazon_reviews_rel_columns[['reviews\",\n  \"rows\": 11,\n  \"fields\": [\n    {\n      \"column\": \"reviews.text\",\n      \"properties\": {\n        \"dtype\": \"string\",\n        \"num_unique_values\": 11,\n        \"samples\": [\n          \"Thankful that I was able to find on Amazon for a great price and even better shipping. Arrived in perfect condition and did exactly what I needed it to. Great purchase and would purchase again.\",\n          \"I find amazon basics batteries to be equal if not superior to name brand ones. Can't believe I didn't start buying them sooner! The packages are large and the price is great too.\",\n          \"Bought these batteries for my Christmas gifts the month of (december) only lasted like 2months toys now need replacement batteries . I also used some for my doorbell and just now needs replacement batteries. Tv Remote control is still working but these batteries don't last very long...\"\n        ],\n        \"semantic_type\": \"\",\n        \"description\": \"\"\n      }\n    },\n    {\n      \"column\": \"reviews.rating\",\n      \"properties\": {\n        \"dtype\": \"number\",\n        \"std\": 1,\n        \"min\": 1,\n        \"max\": 5,\n        \"num_unique_values\": 5,\n        \"samples\": [\n          3,\n          4,\n          1\n        ],\n        \"semantic_type\": \"\",\n        \"description\": \"\"\n      }\n    },\n    {\n      \"column\": \"polarity_scores\",\n      \"properties\": {\n        \"dtype\": \"number\",\n        \"std\": 0.31621801910491004,\n        \"min\": -0.05694444444444444,\n        \"max\": 0.8,\n        \"num_unique_values\": 11,\n        \"samples\": [\n          0.6699999999999999,\n          0.34285714285714286,\n          -0.05000000000000001\n        ],\n        \"semantic_type\": \"\",\n        \"description\": \"\"\n      }\n    },\n    {\n      \"column\": \"sentiment_analysis\",\n      \"properties\": {\n        \"dtype\": \"category\",\n        \"num_unique_values\": 2,\n        \"samples\": [\n          \"Negative\",\n          \"Positive\"\n        ],\n        \"semantic_type\": \"\",\n        \"description\": \"\"\n      }\n    }\n  ]\n}"
            }
          },
          "metadata": {},
          "execution_count": 106
        }
      ]
    },
    {
      "cell_type": "markdown",
      "source": [
        "Indeed, we find more such anomalies at index 11 and 19 where the sentiment should be neutral rather than negative. Therefore, we will again investigate further by look at the individual comments at those indices."
      ],
      "metadata": {
        "id": "7bbtQPtulvCO"
      }
    },
    {
      "cell_type": "code",
      "source": [
        "amazon_reviews_rel_columns['reviews.text'][11]"
      ],
      "metadata": {
        "colab": {
          "base_uri": "https://localhost:8080/",
          "height": 70
        },
        "id": "HQ-FACkEW_Bz",
        "outputId": "5ac672fa-93aa-467b-da1c-337ec1c0d32f"
      },
      "execution_count": null,
      "outputs": [
        {
          "output_type": "execute_result",
          "data": {
            "text/plain": [
              "'When I first started getting the Amazon basic batteries I really liked them. With recent purchases, they do not seem to last like they had, or maybe a mixed-bag (inconsistent with some lasting better than others). I have not done any tests, but feel some other brands may last longer. However, the price is hard to beat.'"
            ],
            "application/vnd.google.colaboratory.intrinsic+json": {
              "type": "string"
            }
          },
          "metadata": {},
          "execution_count": 107
        }
      ]
    },
    {
      "cell_type": "markdown",
      "source": [
        "Indeed, we see that the text has properly classified as negative, based on the content of the text but the customer still choose to give a rating of 3. Perhaps due to the fact that the customer liked the price.\n",
        "\n"
      ],
      "metadata": {
        "id": "1n2BIUhOmLqI"
      }
    },
    {
      "cell_type": "code",
      "source": [
        "amazon_reviews_rel_columns['reviews.text'][19]"
      ],
      "metadata": {
        "colab": {
          "base_uri": "https://localhost:8080/",
          "height": 53
        },
        "id": "twE2JVjRmcP-",
        "outputId": "6628ffd0-ef75-4ce5-c417-c11600b345d8"
      },
      "execution_count": null,
      "outputs": [
        {
          "output_type": "execute_result",
          "data": {
            "text/plain": [
              "\"Bought these batteries for my Christmas gifts the month of (december) only lasted like 2months toys now need replacement batteries . I also used some for my doorbell and just now needs replacement batteries. Tv Remote control is still working but these batteries don't last very long...\""
            ],
            "application/vnd.google.colaboratory.intrinsic+json": {
              "type": "string"
            }
          },
          "metadata": {},
          "execution_count": 108
        }
      ]
    },
    {
      "cell_type": "markdown",
      "source": [
        "Again, we see here that the text has properly classified as negative, based on the content of the text but the customer still chooses to give a rating of 3.\n",
        "\n",
        "Due to an approximate average of 20% data being mis-rated when compared to the text, therefore we will go ahead and make a confusion matrix using the ratings column, but we might not be able to get a good accuracy score with this implementation."
      ],
      "metadata": {
        "id": "sqmSkme2mlpb"
      }
    },
    {
      "cell_type": "markdown",
      "source": [
        "## Visualising polarity of words according to their polarity scores.\n",
        "\n",
        "We will initialise three dictionary objects for positive, neutral, and negative words, where we will store the words according to their polarity."
      ],
      "metadata": {
        "id": "Oc7bPFR4yIRs"
      }
    },
    {
      "cell_type": "code",
      "execution_count": null,
      "metadata": {
        "id": "MmOdFsYAGXi9"
      },
      "outputs": [],
      "source": [
        "# Initialize dictionaries to hold positive and negative words\n",
        "positive_words = defaultdict(int)\n",
        "neutral_words = defaultdict(int)\n",
        "negative_words = defaultdict(int)"
      ]
    },
    {
      "cell_type": "markdown",
      "source": [
        "We will use a for loop to iterate through each cell of reviews.text column and then we will change the text to unicode using SpaCy, finally we will only grab the lower case, lemmatized version of the tokens where the token is not a stop word or a non-alphabet values.\n",
        "\n",
        "Then with a nested for loop we will loop through the whole text (in the cell in current iteration), analyse polarity and with a simple if elif statements, we will store the words (changed from token to string again and then lower case) in different dictionary objects according to their polarity."
      ],
      "metadata": {
        "id": "AbxxXjjoy7dn"
      }
    },
    {
      "cell_type": "code",
      "source": [
        "for sentence in amazon_reviews_rel_columns['reviews.text']:\n",
        "    # Using SpaCy to change the text of each cell to a unicode so that we can extract tokens from it.\n",
        "    # then only grabbing tokens (lower case, lemmatized) which are not a stop word or a non alpha value\n",
        "    sentence = nlp(sentence)\n",
        "    tokens = [token.lemma_.lower().strip() for token in sentence if not token.is_stop and token.is_alpha]\n",
        "\n",
        "    # Now we will iterate through each token the in the whole text (list of tokens grabbed above)\n",
        "    # and first we will analyse polarity of each token and then store the word for each token\n",
        "    # in a dictionary object with if elif statement to segregate according to polarity score of the word.\n",
        "    for token in tokens:\n",
        "\n",
        "        blob = TextBlob(str(token))\n",
        "        polarity = blob.sentiment.polarity\n",
        "\n",
        "        if polarity > 0:\n",
        "            positive_words[str(token).lower()] += 1\n",
        "        elif polarity < 0:\n",
        "            negative_words[str(token).lower()] += 1\n",
        "        elif polarity == 0:\n",
        "            neutral_words[str(token).lower()] += 1"
      ],
      "metadata": {
        "id": "DSSucSPinWPc"
      },
      "execution_count": null,
      "outputs": []
    },
    {
      "cell_type": "markdown",
      "source": [
        "Using wordcloud to generate a word cloud visualization based on the frequencies of words provided in all three dictionaries."
      ],
      "metadata": {
        "id": "3Hx_iouW07_I"
      }
    },
    {
      "cell_type": "code",
      "source": [
        "pos_wordcloud = WordCloud(width=400, height=200, background_color ='white').generate_from_frequencies(positive_words)\n",
        "neu_wordcloud = WordCloud(width=400, height=200, background_color ='white').generate_from_frequencies(neutral_words)\n",
        "neg_wordcloud = WordCloud(width=400, height=200, background_color ='white').generate_from_frequencies(negative_words)"
      ],
      "metadata": {
        "id": "-yeppBSinXWn"
      },
      "execution_count": null,
      "outputs": []
    },
    {
      "cell_type": "markdown",
      "source": [
        "Creating 3 subplots (using the dictionaries created above) using Matplotlib"
      ],
      "metadata": {
        "id": "fkg9dlHW11jr"
      }
    },
    {
      "cell_type": "code",
      "source": [
        "fig, ax = plt.subplots(1, 3, figsize=(10, 5))\n",
        "\n",
        "ax[0].imshow(pos_wordcloud, interpolation='bilinear')\n",
        "ax[0].set_title('Positive Words')\n",
        "ax[0].axis('off')\n",
        "\n",
        "ax[1].imshow(neu_wordcloud, interpolation='bilinear')\n",
        "ax[1].set_title('Neutral Words')\n",
        "ax[1].axis('off')\n",
        "\n",
        "ax[2].imshow(neg_wordcloud, interpolation='bilinear')\n",
        "ax[2].set_title('Negative Words')\n",
        "ax[2].axis('off')\n",
        "\n",
        "plt.show()"
      ],
      "metadata": {
        "colab": {
          "base_uri": "https://localhost:8080/",
          "height": 173
        },
        "id": "W0qxe3YCnbCT",
        "outputId": "95b892f5-597c-4846-ef63-7bf4327b8a2c"
      },
      "execution_count": null,
      "outputs": [
        {
          "output_type": "display_data",
          "data": {
            "text/plain": [
              "<Figure size 1000x500 with 3 Axes>"
            ],
            "image/png": "[encoded data removed]"
          },
          "metadata": {}
        }
      ]
    },
    {
      "cell_type": "markdown",
      "source": [
        "## Evaluation\n",
        "\n",
        "We indeed see that the model has done fairly well on seperating the words according to their polarity. We have also seen the model working fairly well when we analysed each comment manually, specially the ones for which polarity scores were equal to zero. We have seen that there are not enough positive words in those text to aggregate a polarity score of more than zero. Therefore we can say that the English library has done a fairly good job. We have also seen above how the polarity of the text in the review does not necessarily relate to the review rating columns."
      ],
      "metadata": {
        "id": "IyRkHw5p2BDC"
      }
    },
    {
      "cell_type": "markdown",
      "source": [
        "## Strengths and limitations\n",
        "\n",
        "**Strengths:**\n",
        "\n",
        "We can clearly see that the libraries used in this task are really powerful in understanding the polarity of each token and hence the sentiment of the whole text. It is easy to implement and replicate.\n",
        "\n",
        "**Limitations:**\n",
        "\n",
        "We see that Positive and Neutral words are seperated properly, however the model had bit of trouble recognising the Negative words when visualised. This can be a result of the frequency of the word rather than polarity itself. This can also be a result of using the medium English library. Perhaps the large English library be able to do a better job at measuring polarity.\n",
        "\n",
        "Also, the model takes a long time to run with medium English library, perhaps will take even longer to run with the large English library."
      ],
      "metadata": {
        "id": "2Wtwr4hl5FRT"
      }
    },
    {
      "cell_type": "markdown",
      "source": [
        "## Important\n",
        "\n",
        "I am not sure why .similarity is being asked to use in the task as .similary is to understand the cosine similarity (angle) of two vector which two pieces of text will form according to the English library we load. This does not judge the polarity of the text itself. However, I have still included the code below for just in case."
      ],
      "metadata": {
        "id": "zZnr7yQh8CqL"
      }
    },
    {
      "cell_type": "code",
      "source": [
        "nlp(amazon_reviews_rel_columns['reviews.text'][12]).similarity(nlp(amazon_reviews_rel_columns['reviews.text'][13]))"
      ],
      "metadata": {
        "colab": {
          "base_uri": "https://localhost:8080/"
        },
        "id": "sz_YEqb17Lw1",
        "outputId": "b66323ab-17ff-4931-f5ca-61e191c0df68"
      },
      "execution_count": null,
      "outputs": [
        {
          "output_type": "execute_result",
          "data": {
            "text/plain": [
              "0.9139583874148344"
            ]
          },
          "metadata": {},
          "execution_count": 113
        }
      ]
    },
    {
      "cell_type": "markdown",
      "source": [
        "## Building a confusion matrix:\n",
        "\n",
        "As discussed above the review.ratings column does not directly correlates with the reviews.text. However, we will still build a confusion matrix using this column to understand the accuracy.\n",
        "\n",
        "For this, instead of categorising words to positive, neutral, and negative, we will follow a stepwise segmentation of words according to polarity. Here we create a function which provides a stepwise (5 intervals between -1 and 1) polarity score to each text with a for loop."
      ],
      "metadata": {
        "id": "NZGjvsdPIBOw"
      }
    },
    {
      "cell_type": "code",
      "source": [
        "def get_stepwise_polarity(review_text):\n",
        "\n",
        "  # Initializing two lists to store stepwise polarity scores.\n",
        "  stepwise_polarity_scores = []\n",
        "\n",
        "\n",
        "  # With a for loop, we will iterate through each cell of a column and then store\n",
        "  # stepwise polarity scores in each iteration.\n",
        "\n",
        "  for sentences in review_text:\n",
        "\n",
        "      # Creating unicode string from our original string through Spacy to retrieve tokens\n",
        "      review = nlp(sentences)\n",
        "      # Getting lemmatized and lower version of tokens and only including words which are not stop words and not non alpha values.\n",
        "      tokens = [token.lemma_.lower().strip() for token in review if not token.is_stop and token.is_alpha]\n",
        "      # Converting tokens back to string and fitting it in TextBlob\n",
        "      blob = TextBlob(str(tokens))\n",
        "      polarity = blob.sentiment.polarity # Getting polarity of the text.\n",
        "\n",
        "      # Using if and elif to convert the polarity scores to values between -1 and 1\n",
        "      if polarity >= -1 and polarity < -0.6:\n",
        "        stepwise_polarity_scores.append(1)\n",
        "      elif polarity >= -0.6 and polarity < -0.2:\n",
        "        stepwise_polarity_scores.append(2)\n",
        "      elif polarity >= -0.2 and polarity < 0.2:\n",
        "        stepwise_polarity_scores.append(3)\n",
        "      elif polarity >= 0.2 and polarity < 0.6:\n",
        "        stepwise_polarity_scores.append(4)\n",
        "      elif polarity >= 0.6 and polarity <= 1:\n",
        "        stepwise_polarity_scores.append(5)\n",
        "\n",
        "  # Returning the stepwise_polarity_scores.\n",
        "  return stepwise_polarity_scores"
      ],
      "metadata": {
        "id": "ndOKcmoJusQj"
      },
      "execution_count": null,
      "outputs": []
    },
    {
      "cell_type": "code",
      "source": [
        "# Retrieving stepwise_polarity_scores\n",
        "stepwise_polarity_scores = get_stepwise_polarity(amazon_reviews_rel_columns['reviews.text'])"
      ],
      "metadata": {
        "id": "7PPwHzq3xqtX"
      },
      "execution_count": null,
      "outputs": []
    },
    {
      "cell_type": "markdown",
      "source": [
        "Creating a new column with the stepwise_polarity_scores"
      ],
      "metadata": {
        "id": "vsUSONlRJ1n1"
      }
    },
    {
      "cell_type": "code",
      "source": [
        "amazon_reviews_rel_columns['stepwise_polarity_scores'] = stepwise_polarity_scores"
      ],
      "metadata": {
        "colab": {
          "base_uri": "https://localhost:8080/"
        },
        "id": "xFfyZZkV095A",
        "outputId": "720ea9be-c3d7-4ad9-b8ee-01b5cfdb3368"
      },
      "execution_count": null,
      "outputs": [
        {
          "output_type": "stream",
          "name": "stderr",
          "text": [
            "<ipython-input-116-a9b3a1a10240>:1: SettingWithCopyWarning: \n",
            "A value is trying to be set on a copy of a slice from a DataFrame.\n",
            "Try using .loc[row_indexer,col_indexer] = value instead\n",
            "\n",
            "See the caveats in the documentation: https://pandas.pydata.org/pandas-docs/stable/user_guide/indexing.html#returning-a-view-versus-a-copy\n",
            "  amazon_reviews_rel_columns['stepwise_polarity_scores'] = stepwise_polarity_scores\n"
          ]
        }
      ]
    },
    {
      "cell_type": "code",
      "source": [
        "# Looking at our Dataframe with the new columns.\n",
        "amazon_reviews_rel_columns.head()"
      ],
      "metadata": {
        "colab": {
          "base_uri": "https://localhost:8080/",
          "height": 293
        },
        "id": "yY5GNJL91L43",
        "outputId": "e43ae015-0208-410f-a4bf-ffad041f0b90"
      },
      "execution_count": null,
      "outputs": [
        {
          "output_type": "execute_result",
          "data": {
            "text/plain": [
              "   reviews.rating                                       reviews.text  \\\n",
              "0               3  I order 3 of them and one of the item is bad q...   \n",
              "1               4  Bulk is always the less expensive way to go fo...   \n",
              "2               5  Well they are not Duracell but for the price i...   \n",
              "3               5  Seem to work as well as name brand batteries a...   \n",
              "4               5  These batteries are very long lasting the pric...   \n",
              "\n",
              "                                       reviews.title  polarity_scores  \\\n",
              "0  ... 3 of them and one of the item is bad quali...            -0.70   \n",
              "1  ... always the less expensive way to go for pr...            -0.50   \n",
              "2  ... are not Duracell but for the price i am ha...             0.80   \n",
              "3  ... as well as name brand batteries at a much ...             0.00   \n",
              "4  ... batteries are very long lasting the price ...             0.25   \n",
              "\n",
              "  sentiment_analysis  stepwise_polarity_scores  \n",
              "0           Negative                         1  \n",
              "1           Negative                         2  \n",
              "2           Positive                         5  \n",
              "3            Neutral                         3  \n",
              "4           Positive                         4  "
            ],
            "text/html": [
              "\n",
              "  <div id=\"df-9f88e227-474d-4b1a-8e91-082eadecf54f\" class=\"colab-df-container\">\n",
              "    <div>\n",
              "<style scoped>\n",
              "    .dataframe tbody tr th:only-of-type {\n",
              "        vertical-align: middle;\n",
              "    }\n",
              "\n",
              "    .dataframe tbody tr th {\n",
              "        vertical-align: top;\n",
              "    }\n",
              "\n",
              "    .dataframe thead th {\n",
              "        text-align: right;\n",
              "    }\n",
              "</style>\n",
              "<table border=\"1\" class=\"dataframe\">\n",
              "  <thead>\n",
              "    <tr style=\"text-align: right;\">\n",
              "      <th></th>\n",
              "      <th>reviews.rating</th>\n",
              "      <th>reviews.text</th>\n",
              "      <th>reviews.title</th>\n",
              "      <th>polarity_scores</th>\n",
              "      <th>sentiment_analysis</th>\n",
              "      <th>stepwise_polarity_scores</th>\n",
              "    </tr>\n",
              "  </thead>\n",
              "  <tbody>\n",
              "    <tr>\n",
              "      <th>0</th>\n",
              "      <td>3</td>\n",
              "      <td>I order 3 of them and one of the item is bad q...</td>\n",
              "      <td>... 3 of them and one of the item is bad quali...</td>\n",
              "      <td>-0.70</td>\n",
              "      <td>Negative</td>\n",
              "      <td>1</td>\n",
              "    </tr>\n",
              "    <tr>\n",
              "      <th>1</th>\n",
              "      <td>4</td>\n",
              "      <td>Bulk is always the less expensive way to go fo...</td>\n",
              "      <td>... always the less expensive way to go for pr...</td>\n",
              "      <td>-0.50</td>\n",
              "      <td>Negative</td>\n",
              "      <td>2</td>\n",
              "    </tr>\n",
              "    <tr>\n",
              "      <th>2</th>\n",
              "      <td>5</td>\n",
              "      <td>Well they are not Duracell but for the price i...</td>\n",
              "      <td>... are not Duracell but for the price i am ha...</td>\n",
              "      <td>0.80</td>\n",
              "      <td>Positive</td>\n",
              "      <td>5</td>\n",
              "    </tr>\n",
              "    <tr>\n",
              "      <th>3</th>\n",
              "      <td>5</td>\n",
              "      <td>Seem to work as well as name brand batteries a...</td>\n",
              "      <td>... as well as name brand batteries at a much ...</td>\n",
              "      <td>0.00</td>\n",
              "      <td>Neutral</td>\n",
              "      <td>3</td>\n",
              "    </tr>\n",
              "    <tr>\n",
              "      <th>4</th>\n",
              "      <td>5</td>\n",
              "      <td>These batteries are very long lasting the pric...</td>\n",
              "      <td>... batteries are very long lasting the price ...</td>\n",
              "      <td>0.25</td>\n",
              "      <td>Positive</td>\n",
              "      <td>4</td>\n",
              "    </tr>\n",
              "  </tbody>\n",
              "</table>\n",
              "</div>\n",
              "    <div class=\"colab-df-buttons\">\n",
              "\n",
              "  <div class=\"colab-df-container\">\n",
              "    <button class=\"colab-df-convert\" onclick=\"convertToInteractive('df-9f88e227-474d-4b1a-8e91-082eadecf54f')\"\n",
              "            title=\"Convert this dataframe to an interactive table.\"\n",
              "            style=\"display:none;\">\n",
              "\n",
              "  <svg xmlns=\"http://www.w3.org/2000/svg\" height=\"24px\" viewBox=\"0 -960 960 960\">\n",
              "    <path d=\"M120-120v-720h720v720H120Zm60-500h600v-160H180v160Zm220 220h160v-160H400v160Zm0 220h160v-160H400v160ZM180-400h160v-160H180v160Zm440 0h160v-160H620v160ZM180-180h160v-160H180v160Zm440 0h160v-160H620v160Z\"/>\n",
              "  </svg>\n",
              "    </button>\n",
              "\n",
              "  <style>\n",
              "    .colab-df-container {\n",
              "      display:flex;\n",
              "      gap: 12px;\n",
              "    }\n",
              "\n",
              "    .colab-df-convert {\n",
              "      background-color: #E8F0FE;\n",
              "      border: none;\n",
              "      border-radius: 50%;\n",
              "      cursor: pointer;\n",
              "      display: none;\n",
              "      fill: #1967D2;\n",
              "      height: 32px;\n",
              "      padding: 0 0 0 0;\n",
              "      width: 32px;\n",
              "    }\n",
              "\n",
              "    .colab-df-convert:hover {\n",
              "      background-color: #E2EBFA;\n",
              "      box-shadow: 0px 1px 2px rgba(60, 64, 67, 0.3), 0px 1px 3px 1px rgba(60, 64, 67, 0.15);\n",
              "      fill: #174EA6;\n",
              "    }\n",
              "\n",
              "    .colab-df-buttons div {\n",
              "      margin-bottom: 4px;\n",
              "    }\n",
              "\n",
              "    [theme=dark] .colab-df-convert {\n",
              "      background-color: #3B4455;\n",
              "      fill: #D2E3FC;\n",
              "    }\n",
              "\n",
              "    [theme=dark] .colab-df-convert:hover {\n",
              "      background-color: #434B5C;\n",
              "      box-shadow: 0px 1px 3px 1px rgba(0, 0, 0, 0.15);\n",
              "      filter: drop-shadow(0px 1px 2px rgba(0, 0, 0, 0.3));\n",
              "      fill: #FFFFFF;\n",
              "    }\n",
              "  </style>\n",
              "\n",
              "    <script>\n",
              "      const buttonEl =\n",
              "        document.querySelector('#df-9f88e227-474d-4b1a-8e91-082eadecf54f button.colab-df-convert');\n",
              "      buttonEl.style.display =\n",
              "        google.colab.kernel.accessAllowed ? 'block' : 'none';\n",
              "\n",
              "      async function convertToInteractive(key) {\n",
              "        const element = document.querySelector('#df-9f88e227-474d-4b1a-8e91-082eadecf54f');\n",
              "        const dataTable =\n",
              "          await google.colab.kernel.invokeFunction('convertToInteractive',\n",
              "                                                    [key], {});\n",
              "        if (!dataTable) return;\n",
              "\n",
              "        const docLinkHtml = 'Like what you see? Visit the ' +\n",
              "          '<a target=\"_blank\" href=https://colab.research.google.com/notebooks/data_table.ipynb>data table notebook</a>'\n",
              "          + ' to learn more about interactive tables.';\n",
              "        element.innerHTML = '';\n",
              "        dataTable['output_type'] = 'display_data';\n",
              "        await google.colab.output.renderOutput(dataTable, element);\n",
              "        const docLink = document.createElement('div');\n",
              "        docLink.innerHTML = docLinkHtml;\n",
              "        element.appendChild(docLink);\n",
              "      }\n",
              "    </script>\n",
              "  </div>\n",
              "\n",
              "\n",
              "<div id=\"df-841e0db6-f241-45a1-8054-d66785f6b991\">\n",
              "  <button class=\"colab-df-quickchart\" onclick=\"quickchart('df-841e0db6-f241-45a1-8054-d66785f6b991')\"\n",
              "            title=\"Suggest charts\"\n",
              "            style=\"display:none;\">\n",
              "\n",
              "<svg xmlns=\"http://www.w3.org/2000/svg\" height=\"24px\"viewBox=\"0 0 24 24\"\n",
              "     width=\"24px\">\n",
              "    <g>\n",
              "        <path d=\"M19 3H5c-1.1 0-2 .9-2 2v14c0 1.1.9 2 2 2h14c1.1 0 2-.9 2-2V5c0-1.1-.9-2-2-2zM9 17H7v-7h2v7zm4 0h-2V7h2v10zm4 0h-2v-4h2v4z\"/>\n",
              "    </g>\n",
              "</svg>\n",
              "  </button>\n",
              "\n",
              "<style>\n",
              "  .colab-df-quickchart {\n",
              "      --bg-color: #E8F0FE;\n",
              "      --fill-color: #1967D2;\n",
              "      --hover-bg-color: #E2EBFA;\n",
              "      --hover-fill-color: #174EA6;\n",
              "      --disabled-fill-color: #AAA;\n",
              "      --disabled-bg-color: #DDD;\n",
              "  }\n",
              "\n",
              "  [theme=dark] .colab-df-quickchart {\n",
              "      --bg-color: #3B4455;\n",
              "      --fill-color: #D2E3FC;\n",
              "      --hover-bg-color: #434B5C;\n",
              "      --hover-fill-color: #FFFFFF;\n",
              "      --disabled-bg-color: #3B4455;\n",
              "      --disabled-fill-color: #666;\n",
              "  }\n",
              "\n",
              "  .colab-df-quickchart {\n",
              "    background-color: var(--bg-color);\n",
              "    border: none;\n",
              "    border-radius: 50%;\n",
              "    cursor: pointer;\n",
              "    display: none;\n",
              "    fill: var(--fill-color);\n",
              "    height: 32px;\n",
              "    padding: 0;\n",
              "    width: 32px;\n",
              "  }\n",
              "\n",
              "  .colab-df-quickchart:hover {\n",
              "    background-color: var(--hover-bg-color);\n",
              "    box-shadow: 0 1px 2px rgba(60, 64, 67, 0.3), 0 1px 3px 1px rgba(60, 64, 67, 0.15);\n",
              "    fill: var(--button-hover-fill-color);\n",
              "  }\n",
              "\n",
              "  .colab-df-quickchart-complete:disabled,\n",
              "  .colab-df-quickchart-complete:disabled:hover {\n",
              "    background-color: var(--disabled-bg-color);\n",
              "    fill: var(--disabled-fill-color);\n",
              "    box-shadow: none;\n",
              "  }\n",
              "\n",
              "  .colab-df-spinner {\n",
              "    border: 2px solid var(--fill-color);\n",
              "    border-color: transparent;\n",
              "    border-bottom-color: var(--fill-color);\n",
              "    animation:\n",
              "      spin 1s steps(1) infinite;\n",
              "  }\n",
              "\n",
              "  @keyframes spin {\n",
              "    0% {\n",
              "      border-color: transparent;\n",
              "      border-bottom-color: var(--fill-color);\n",
              "      border-left-color: var(--fill-color);\n",
              "    }\n",
              "    20% {\n",
              "      border-color: transparent;\n",
              "      border-left-color: var(--fill-color);\n",
              "      border-top-color: var(--fill-color);\n",
              "    }\n",
              "    30% {\n",
              "      border-color: transparent;\n",
              "      border-left-color: var(--fill-color);\n",
              "      border-top-color: var(--fill-color);\n",
              "      border-right-color: var(--fill-color);\n",
              "    }\n",
              "    40% {\n",
              "      border-color: transparent;\n",
              "      border-right-color: var(--fill-color);\n",
              "      border-top-color: var(--fill-color);\n",
              "    }\n",
              "    60% {\n",
              "      border-color: transparent;\n",
              "      border-right-color: var(--fill-color);\n",
              "    }\n",
              "    80% {\n",
              "      border-color: transparent;\n",
              "      border-right-color: var(--fill-color);\n",
              "      border-bottom-color: var(--fill-color);\n",
              "    }\n",
              "    90% {\n",
              "      border-color: transparent;\n",
              "      border-bottom-color: var(--fill-color);\n",
              "    }\n",
              "  }\n",
              "</style>\n",
              "\n",
              "  <script>\n",
              "    async function quickchart(key) {\n",
              "      const quickchartButtonEl =\n",
              "        document.querySelector('#' + key + ' button');\n",
              "      quickchartButtonEl.disabled = true;  // To prevent multiple clicks.\n",
              "      quickchartButtonEl.classList.add('colab-df-spinner');\n",
              "      try {\n",
              "        const charts = await google.colab.kernel.invokeFunction(\n",
              "            'suggestCharts', [key], {});\n",
              "      } catch (error) {\n",
              "        console.error('Error during call to suggestCharts:', error);\n",
              "      }\n",
              "      quickchartButtonEl.classList.remove('colab-df-spinner');\n",
              "      quickchartButtonEl.classList.add('colab-df-quickchart-complete');\n",
              "    }\n",
              "    (() => {\n",
              "      let quickchartButtonEl =\n",
              "        document.querySelector('#df-841e0db6-f241-45a1-8054-d66785f6b991 button');\n",
              "      quickchartButtonEl.style.display =\n",
              "        google.colab.kernel.accessAllowed ? 'block' : 'none';\n",
              "    })();\n",
              "  </script>\n",
              "</div>\n",
              "    </div>\n",
              "  </div>\n"
            ],
            "application/vnd.google.colaboratory.intrinsic+json": {
              "type": "dataframe",
              "variable_name": "amazon_reviews_rel_columns",
              "summary": "{\n  \"name\": \"amazon_reviews_rel_columns\",\n  \"rows\": 28332,\n  \"fields\": [\n    {\n      \"column\": \"reviews.rating\",\n      \"properties\": {\n        \"dtype\": \"number\",\n        \"std\": 0,\n        \"min\": 1,\n        \"max\": 5,\n        \"num_unique_values\": 5,\n        \"samples\": [\n          4,\n          2,\n          5\n        ],\n        \"semantic_type\": \"\",\n        \"description\": \"\"\n      }\n    },\n    {\n      \"column\": \"reviews.text\",\n      \"properties\": {\n        \"dtype\": \"string\",\n        \"num_unique_values\": 18168,\n        \"samples\": [\n          \"Lets see how long the last. If they don't last long, I will lower the rating.\",\n          \"I am never buying brand name batteries again.\",\n          \"My second amazon fire 8 collection and I love it. Always wait for black Friday on this deals.\"\n        ],\n        \"semantic_type\": \"\",\n        \"description\": \"\"\n      }\n    },\n    {\n      \"column\": \"reviews.title\",\n      \"properties\": {\n        \"dtype\": \"category\",\n        \"num_unique_values\": 10441,\n        \"samples\": [\n          \"I got these batteries for my wireless mouse, which ...\",\n          \"Hmm not sure about these\",\n          \"You Get What You Pay For\"\n        ],\n        \"semantic_type\": \"\",\n        \"description\": \"\"\n      }\n    },\n    {\n      \"column\": \"polarity_scores\",\n      \"properties\": {\n        \"dtype\": \"number\",\n        \"std\": 0.2987466490486586,\n        \"min\": -1.0,\n        \"max\": 1.0,\n        \"num_unique_values\": 3227,\n        \"samples\": [\n          0.18409090909090908,\n          0.36,\n          0.06212121212121211\n        ],\n        \"semantic_type\": \"\",\n        \"description\": \"\"\n      }\n    },\n    {\n      \"column\": \"sentiment_analysis\",\n      \"properties\": {\n        \"dtype\": \"category\",\n        \"num_unique_values\": 3,\n        \"samples\": [\n          \"Negative\",\n          \"Positive\",\n          \"Neutral\"\n        ],\n        \"semantic_type\": \"\",\n        \"description\": \"\"\n      }\n    },\n    {\n      \"column\": \"stepwise_polarity_scores\",\n      \"properties\": {\n        \"dtype\": \"number\",\n        \"std\": 0,\n        \"min\": 1,\n        \"max\": 5,\n        \"num_unique_values\": 5,\n        \"samples\": [\n          2,\n          4,\n          5\n        ],\n        \"semantic_type\": \"\",\n        \"description\": \"\"\n      }\n    }\n  ]\n}"
            }
          },
          "metadata": {},
          "execution_count": 117
        }
      ]
    },
    {
      "cell_type": "markdown",
      "source": [
        "### Confusion Matrix\n",
        "\n",
        "Creating a confusion matrix with sklearn"
      ],
      "metadata": {
        "id": "ixWO21anKU9j"
      }
    },
    {
      "cell_type": "code",
      "source": [
        "rating_labels = [1, 2, 3, 4, 5]\n",
        "conf_matrix = confusion_matrix(amazon_reviews_rel_columns['reviews.rating'],amazon_reviews_rel_columns['stepwise_polarity_scores'], labels=rating_labels)\n",
        "\n",
        "# Creating a Dataframe of our confusion matrix for better understanding.\n",
        "conf_df = pd.DataFrame(conf_matrix, index=rating_labels, columns=rating_labels)\n",
        "\n",
        "print(conf_df)"
      ],
      "metadata": {
        "colab": {
          "base_uri": "https://localhost:8080/"
        },
        "id": "BIJM4Uql1gx5",
        "outputId": "4ec289bf-31db-430c-8593-f6ed064a3cc9"
      },
      "execution_count": null,
      "outputs": [
        {
          "output_type": "stream",
          "name": "stdout",
          "text": [
            "    1    2     3     4     5\n",
            "1  40  138   637   129    21\n",
            "2   7   40   400   141    28\n",
            "3   5   66   599   452    84\n",
            "4  10  114  1632  2821  1071\n",
            "5  15  208  4707  9345  5622\n"
          ]
        }
      ]
    },
    {
      "cell_type": "markdown",
      "source": [
        "Calculating accuracy score of our matrix based on the reviews.ratings column"
      ],
      "metadata": {
        "id": "UH1Uafi7Kwfr"
      }
    },
    {
      "cell_type": "code",
      "source": [
        "accuracy_score(amazon_reviews_rel_columns['reviews.rating'],amazon_reviews_rel_columns['stepwise_polarity_scores'])"
      ],
      "metadata": {
        "colab": {
          "base_uri": "https://localhost:8080/"
        },
        "id": "5KViGwWaCyGa",
        "outputId": "a5b7f0de-e577-434a-cc7e-beff8ae87127"
      },
      "execution_count": null,
      "outputs": [
        {
          "output_type": "execute_result",
          "data": {
            "text/plain": [
              "0.32196809261612314"
            ]
          },
          "metadata": {},
          "execution_count": 122
        }
      ]
    },
    {
      "cell_type": "code",
      "source": [
        "## Displaying Confusion Matrix in a nice plot using ConfusionMartixDisplay.\n",
        "confused = ConfusionMatrixDisplay(confusion_matrix=conf_matrix, display_labels=rating_labels)\n",
        "confused.plot(cmap='Blues')\n",
        "plt.show()"
      ],
      "metadata": {
        "colab": {
          "base_uri": "https://localhost:8080/",
          "height": 449
        },
        "id": "XSXspDcPC6rn",
        "outputId": "48972277-e9c7-40a9-c68e-2361fe6fd65c"
      },
      "execution_count": null,
      "outputs": [
        {
          "output_type": "display_data",
          "data": {
            "text/plain": [
              "<Figure size 640x480 with 2 Axes>"
            ],
            "image/png": "[encoded data removed]"
          },
          "metadata": {}
        }
      ]
    },
    {
      "cell_type": "markdown",
      "source": [
        "## Confusion Matrix Evaluation:\n",
        "\n",
        "We see from above that our assumptions made earlier was actually correct. The model did horribly when the polarity scores of the text was compared to the ratings.\n",
        "\n",
        "We see that the model gave an accuracy of 32% which is very bad. We also see from the confusion matrix that there were a lot of wrong predictions. For example, Category 1 and 2 did the worse with only 40 correct predictions. Category 4 and 5 were the best among all with category 5 leading at 5622 correct predictions.\n",
        "\n",
        "Therefore, we prove that our assumption (i.e. review text does not directly corelate to the review ratings) is indeed correct.\n",
        "\n",
        "Now we will proceed analysing our reviews with NLTK."
      ],
      "metadata": {
        "id": "9wZiTqF7TFbG"
      }
    },
    {
      "cell_type": "markdown",
      "source": [
        "# Sentiment Analysis with NLTK\n",
        "\n",
        "This is a program to analyse polarity of text (understanding if the sentiment of the text is positive, neutral, or negative) using NLTK and VADER.\n",
        "\n",
        "For this purpose, we are using Amazon consumer reviews of products for Kaggle.com."
      ],
      "metadata": {
        "id": "dwztaaDjEKsO"
      }
    },
    {
      "cell_type": "markdown",
      "source": [
        "### Importing a trained NLTK lexicon *VADER* and VADER's SentimentIntensityAnalyzer()\n"
      ],
      "metadata": {
        "id": "LXcDiVVSU9CP"
      }
    },
    {
      "cell_type": "code",
      "source": [
        "import nltk\n",
        "nltk.download('vader_lexicon')"
      ],
      "metadata": {
        "colab": {
          "base_uri": "https://localhost:8080/"
        },
        "id": "fmQ_vPNEENVQ",
        "outputId": "75674bfe-5310-484b-a9be-d7b52c22e375"
      },
      "execution_count": null,
      "outputs": [
        {
          "output_type": "stream",
          "name": "stderr",
          "text": [
            "[nltk_data] Downloading package vader_lexicon to /root/nltk_data...\n",
            "[nltk_data]   Package vader_lexicon is already up-to-date!\n"
          ]
        },
        {
          "output_type": "execute_result",
          "data": {
            "text/plain": [
              "True"
            ]
          },
          "metadata": {},
          "execution_count": 138
        }
      ]
    },
    {
      "cell_type": "code",
      "source": [
        "from nltk.sentiment.vader import SentimentIntensityAnalyzer\n",
        "\n",
        "# Creating an instance in SintimentIntensityAnalyzer\n",
        "sid = SentimentIntensityAnalyzer()"
      ],
      "metadata": {
        "id": "kE1s14SKESle"
      },
      "execution_count": null,
      "outputs": []
    },
    {
      "cell_type": "markdown",
      "source": [
        "Reviewing text of a single cell in reviews.text column to see how the model works in determining polarity."
      ],
      "metadata": {
        "id": "zvpoIPEsVZ1s"
      }
    },
    {
      "cell_type": "markdown",
      "source": [
        "Reviewing text of the same cell manually to see if the model did a good job."
      ],
      "metadata": {
        "id": "cP7P674YV6GC"
      }
    },
    {
      "cell_type": "code",
      "source": [
        "sid.polarity_scores(amazon_reviews_rel_columns.loc[0]['reviews.text'])"
      ],
      "metadata": {
        "colab": {
          "base_uri": "https://localhost:8080/"
        },
        "id": "Xin8JpRTEVmm",
        "outputId": "6d231cfb-531c-4bf8-dd43-5ed20f07c1c8"
      },
      "execution_count": null,
      "outputs": [
        {
          "output_type": "execute_result",
          "data": {
            "text/plain": [
              "{'neg': 0.186, 'neu': 0.814, 'pos': 0.0, 'compound': -0.6908}"
            ]
          },
          "metadata": {},
          "execution_count": 134
        }
      ]
    },
    {
      "cell_type": "code",
      "source": [
        "amazon_reviews_rel_columns.loc[0]['reviews.text']"
      ],
      "metadata": {
        "colab": {
          "base_uri": "https://localhost:8080/",
          "height": 35
        },
        "id": "7EYDvj9ZE3sw",
        "outputId": "2f59cc0e-85f7-4497-cc2a-aa347437d5bd"
      },
      "execution_count": null,
      "outputs": [
        {
          "output_type": "execute_result",
          "data": {
            "text/plain": [
              "'I order 3 of them and one of the item is bad quality. Is missing backup spring so I have to put a pcs of aluminum to make the battery work.'"
            ],
            "application/vnd.google.colaboratory.intrinsic+json": {
              "type": "string"
            }
          },
          "metadata": {},
          "execution_count": 130
        }
      ]
    },
    {
      "cell_type": "markdown",
      "source": [
        "We see that the model has performed well on a single cell as from reading the text manually we see that the review was negative, and the model predicted it as negative as well."
      ],
      "metadata": {
        "id": "tTGsbYjDWAS7"
      }
    },
    {
      "cell_type": "markdown",
      "source": [
        "We will checkout another review in the same manner to see if the model works well."
      ],
      "metadata": {
        "id": "Mvs1YZE_WVJA"
      }
    },
    {
      "cell_type": "code",
      "source": [
        "sid.polarity_scores(amazon_reviews_rel_columns.loc[13]['reviews.text'])"
      ],
      "metadata": {
        "colab": {
          "base_uri": "https://localhost:8080/"
        },
        "id": "iNH3VZs-FeRk",
        "outputId": "68ab2585-087e-40e7-945d-b68ab73fc479"
      },
      "execution_count": null,
      "outputs": [
        {
          "output_type": "execute_result",
          "data": {
            "text/plain": [
              "{'neg': 0.0, 'neu': 0.911, 'pos': 0.089, 'compound': 0.4404}"
            ]
          },
          "metadata": {},
          "execution_count": 131
        }
      ]
    },
    {
      "cell_type": "code",
      "source": [
        "amazon_reviews_rel_columns.loc[13]['reviews.text']"
      ],
      "metadata": {
        "colab": {
          "base_uri": "https://localhost:8080/",
          "height": 53
        },
        "id": "j32gbUQMFhe6",
        "outputId": "37360be0-d2df-4a43-9c8c-150240377163"
      },
      "execution_count": null,
      "outputs": [
        {
          "output_type": "execute_result",
          "data": {
            "text/plain": [
              "\"just got em so I can't really comment on how good the do the job, good price, quick delivery but have only put two into one of my keyboards but they can go up to a year so who can say after three days\""
            ],
            "application/vnd.google.colaboratory.intrinsic+json": {
              "type": "string"
            }
          },
          "metadata": {},
          "execution_count": 132
        }
      ]
    },
    {
      "cell_type": "markdown",
      "source": [
        "We see that the model has performed well on this cell as well, as from reading the text manually we see that the review was positive, and the model predicted it as positive as well."
      ],
      "metadata": {
        "id": "ViyanxI6WbYB"
      }
    },
    {
      "cell_type": "markdown",
      "source": [
        "## Creating a function to analyse polarity of each cell in the reviews.text column."
      ],
      "metadata": {
        "id": "Al67d-7cWoMd"
      }
    },
    {
      "cell_type": "code",
      "source": [
        "def get_nltk_polarity_and_sentiment(review_text):\n",
        "\n",
        "  # First we will create 3 empty lists to store polarity scores, compound scores and sentiment based on compound scores.\n",
        "  nltk_pol_scores = []\n",
        "  nltk_comp_scores = []\n",
        "  nltk_sentiment_analysis = []\n",
        "\n",
        "  # We will then iterate through each cell and find out polarity scores of each review text\n",
        "  # using nltk and we will store the results of polarity scores and compound scores with each iteration.\n",
        "  for sentences in review_text:\n",
        "\n",
        "      nltk_polarity = sid.polarity_scores(sentences)\n",
        "      nltk_pol_scores.append(nltk_polarity)\n",
        "      nltk_comp_scores.append(nltk_polarity['compound'])\n",
        "\n",
        "      compound_score = nltk_polarity['compound']\n",
        "\n",
        "      # Then based on the compound score (less than, equal to or more than 0) we will label the\n",
        "      # review texts Positive, Negative and Neutral in an empty list for sentiment analysis.\n",
        "      if compound_score > 0:\n",
        "        nltk_sentiment_analysis.append(\"Positive\")\n",
        "      elif compound_score < 0:\n",
        "        nltk_sentiment_analysis.append(\"Negative\")\n",
        "      elif compound_score == 0:\n",
        "        nltk_sentiment_analysis.append(\"Neutral\")\n",
        "\n",
        "  return nltk_pol_scores, nltk_comp_scores, nltk_sentiment_analysis"
      ],
      "metadata": {
        "id": "GKpMFWk-FqP8"
      },
      "execution_count": null,
      "outputs": []
    },
    {
      "cell_type": "markdown",
      "source": [
        "Retrieving polarity scores, compound scores and sentiment analysis labels and creating columns for each of these lists."
      ],
      "metadata": {
        "id": "Q7lYPFnCYIsb"
      }
    },
    {
      "cell_type": "code",
      "source": [
        "nltk_pol_scores, nltk_comp_scores, nltk_sentiment_analysis = get_nltk_polarity_and_sentiment(amazon_reviews_rel_columns['reviews.text'])\n",
        "amazon_reviews_rel_columns['nltk_pol_scores'] = nltk_pol_scores\n",
        "amazon_reviews_rel_columns['nltk_comp_scores'] = nltk_comp_scores\n",
        "amazon_reviews_rel_columns['nltk_sentiment_analysis'] = nltk_sentiment_analysis"
      ],
      "metadata": {
        "colab": {
          "base_uri": "https://localhost:8080/"
        },
        "id": "ImwfvVyxOFMs",
        "outputId": "3acd4a90-0435-4f30-838c-736402d56b62"
      },
      "execution_count": null,
      "outputs": [
        {
          "output_type": "stream",
          "name": "stderr",
          "text": [
            "<ipython-input-147-fac19383e937>:2: SettingWithCopyWarning: \n",
            "A value is trying to be set on a copy of a slice from a DataFrame.\n",
            "Try using .loc[row_indexer,col_indexer] = value instead\n",
            "\n",
            "See the caveats in the documentation: https://pandas.pydata.org/pandas-docs/stable/user_guide/indexing.html#returning-a-view-versus-a-copy\n",
            "  amazon_reviews_rel_columns['nltk_pol_scores'] = nltk_pol_scores\n",
            "<ipython-input-147-fac19383e937>:3: SettingWithCopyWarning: \n",
            "A value is trying to be set on a copy of a slice from a DataFrame.\n",
            "Try using .loc[row_indexer,col_indexer] = value instead\n",
            "\n",
            "See the caveats in the documentation: https://pandas.pydata.org/pandas-docs/stable/user_guide/indexing.html#returning-a-view-versus-a-copy\n",
            "  amazon_reviews_rel_columns['nltk_comp_scores'] = nltk_comp_scores\n",
            "<ipython-input-147-fac19383e937>:4: SettingWithCopyWarning: \n",
            "A value is trying to be set on a copy of a slice from a DataFrame.\n",
            "Try using .loc[row_indexer,col_indexer] = value instead\n",
            "\n",
            "See the caveats in the documentation: https://pandas.pydata.org/pandas-docs/stable/user_guide/indexing.html#returning-a-view-versus-a-copy\n",
            "  amazon_reviews_rel_columns['nltk_sentiment_analysis'] = nltk_sentiment_analysis\n"
          ]
        }
      ]
    },
    {
      "cell_type": "code",
      "source": [
        "# Getting a first look of our relevant columns with newly added ones.\n",
        "amazon_reviews_rel_columns[['reviews.text', 'nltk_pol_scores', 'reviews.rating', 'nltk_sentiment_analysis', 'nltk_comp_scores']].loc[40:50]"
      ],
      "metadata": {
        "colab": {
          "base_uri": "https://localhost:8080/",
          "height": 394
        },
        "id": "dsjUjVYqRmmN",
        "outputId": "dd8affd3-dbfb-4f42-9e91-32fb1e47e005"
      },
      "execution_count": null,
      "outputs": [
        {
          "output_type": "execute_result",
          "data": {
            "text/plain": [
              "                                         reviews.text  \\\n",
              "40  3rd purchase of these AA from Amazon, all have...   \n",
              "41  I am 100 satisfied with my purchase of these b...   \n",
              "42  I put these batteries in 10 of the 12 window c...   \n",
              "43  First time I bought these they worked well and...   \n",
              "44           Seem to work very well at a great price.   \n",
              "45  These batteries don't last even in a simple di...   \n",
              "46  I buy AAA and AA batteries about 4 - 6 times a...   \n",
              "47  Date on the back of these were 1992. Yeah, 199...   \n",
              "48  GOT THE 48 PACK, I USEDD THEM UP FASTER THAN I...   \n",
              "49  The 48 packs are the lowest price per AA batte...   \n",
              "50  I definitely love the price and quantity.. My ...   \n",
              "\n",
              "                                      nltk_pol_scores  reviews.rating  \\\n",
              "40  {'neg': 0.0, 'neu': 0.928, 'pos': 0.072, 'comp...               5   \n",
              "41  {'neg': 0.0, 'neu': 0.741, 'pos': 0.259, 'comp...               5   \n",
              "42  {'neg': 0.0, 'neu': 0.969, 'pos': 0.031, 'comp...               3   \n",
              "43  {'neg': 0.056, 'neu': 0.882, 'pos': 0.062, 'co...               1   \n",
              "44  {'neg': 0.0, 'neu': 0.47, 'pos': 0.53, 'compou...               5   \n",
              "45  {'neg': 0.0, 'neu': 0.724, 'pos': 0.276, 'comp...               1   \n",
              "46  {'neg': 0.0, 'neu': 0.927, 'pos': 0.073, 'comp...               5   \n",
              "47  {'neg': 0.0, 'neu': 0.82, 'pos': 0.18, 'compou...               1   \n",
              "48  {'neg': 0.0, 'neu': 1.0, 'pos': 0.0, 'compound...               4   \n",
              "49  {'neg': 0.025, 'neu': 0.901, 'pos': 0.074, 'co...               5   \n",
              "50  {'neg': 0.0, 'neu': 0.711, 'pos': 0.289, 'comp...               5   \n",
              "\n",
              "   nltk_sentiment_analysis  nltk_comp_scores  \n",
              "40                Positive            0.1779  \n",
              "41                Positive            0.4215  \n",
              "42                Positive            0.1779  \n",
              "43                Positive            0.0498  \n",
              "44                Positive            0.7755  \n",
              "45                Positive            0.6369  \n",
              "46                Positive            0.2263  \n",
              "47                Positive            0.2960  \n",
              "48                 Neutral            0.0000  \n",
              "49                Positive            0.5326  \n",
              "50                Positive            0.7845  "
            ],
            "text/html": [
              "\n",
              "  <div id=\"df-7ae4a6bf-dbca-4374-a9ca-afdc83921696\" class=\"colab-df-container\">\n",
              "    <div>\n",
              "<style scoped>\n",
              "    .dataframe tbody tr th:only-of-type {\n",
              "        vertical-align: middle;\n",
              "    }\n",
              "\n",
              "    .dataframe tbody tr th {\n",
              "        vertical-align: top;\n",
              "    }\n",
              "\n",
              "    .dataframe thead th {\n",
              "        text-align: right;\n",
              "    }\n",
              "</style>\n",
              "<table border=\"1\" class=\"dataframe\">\n",
              "  <thead>\n",
              "    <tr style=\"text-align: right;\">\n",
              "      <th></th>\n",
              "      <th>reviews.text</th>\n",
              "      <th>nltk_pol_scores</th>\n",
              "      <th>reviews.rating</th>\n",
              "      <th>nltk_sentiment_analysis</th>\n",
              "      <th>nltk_comp_scores</th>\n",
              "    </tr>\n",
              "  </thead>\n",
              "  <tbody>\n",
              "    <tr>\n",
              "      <th>40</th>\n",
              "      <td>3rd purchase of these AA from Amazon, all have...</td>\n",
              "      <td>{'neg': 0.0, 'neu': 0.928, 'pos': 0.072, 'comp...</td>\n",
              "      <td>5</td>\n",
              "      <td>Positive</td>\n",
              "      <td>0.1779</td>\n",
              "    </tr>\n",
              "    <tr>\n",
              "      <th>41</th>\n",
              "      <td>I am 100 satisfied with my purchase of these b...</td>\n",
              "      <td>{'neg': 0.0, 'neu': 0.741, 'pos': 0.259, 'comp...</td>\n",
              "      <td>5</td>\n",
              "      <td>Positive</td>\n",
              "      <td>0.4215</td>\n",
              "    </tr>\n",
              "    <tr>\n",
              "      <th>42</th>\n",
              "      <td>I put these batteries in 10 of the 12 window c...</td>\n",
              "      <td>{'neg': 0.0, 'neu': 0.969, 'pos': 0.031, 'comp...</td>\n",
              "      <td>3</td>\n",
              "      <td>Positive</td>\n",
              "      <td>0.1779</td>\n",
              "    </tr>\n",
              "    <tr>\n",
              "      <th>43</th>\n",
              "      <td>First time I bought these they worked well and...</td>\n",
              "      <td>{'neg': 0.056, 'neu': 0.882, 'pos': 0.062, 'co...</td>\n",
              "      <td>1</td>\n",
              "      <td>Positive</td>\n",
              "      <td>0.0498</td>\n",
              "    </tr>\n",
              "    <tr>\n",
              "      <th>44</th>\n",
              "      <td>Seem to work very well at a great price.</td>\n",
              "      <td>{'neg': 0.0, 'neu': 0.47, 'pos': 0.53, 'compou...</td>\n",
              "      <td>5</td>\n",
              "      <td>Positive</td>\n",
              "      <td>0.7755</td>\n",
              "    </tr>\n",
              "    <tr>\n",
              "      <th>45</th>\n",
              "      <td>These batteries don't last even in a simple di...</td>\n",
              "      <td>{'neg': 0.0, 'neu': 0.724, 'pos': 0.276, 'comp...</td>\n",
              "      <td>1</td>\n",
              "      <td>Positive</td>\n",
              "      <td>0.6369</td>\n",
              "    </tr>\n",
              "    <tr>\n",
              "      <th>46</th>\n",
              "      <td>I buy AAA and AA batteries about 4 - 6 times a...</td>\n",
              "      <td>{'neg': 0.0, 'neu': 0.927, 'pos': 0.073, 'comp...</td>\n",
              "      <td>5</td>\n",
              "      <td>Positive</td>\n",
              "      <td>0.2263</td>\n",
              "    </tr>\n",
              "    <tr>\n",
              "      <th>47</th>\n",
              "      <td>Date on the back of these were 1992. Yeah, 199...</td>\n",
              "      <td>{'neg': 0.0, 'neu': 0.82, 'pos': 0.18, 'compou...</td>\n",
              "      <td>1</td>\n",
              "      <td>Positive</td>\n",
              "      <td>0.2960</td>\n",
              "    </tr>\n",
              "    <tr>\n",
              "      <th>48</th>\n",
              "      <td>GOT THE 48 PACK, I USEDD THEM UP FASTER THAN I...</td>\n",
              "      <td>{'neg': 0.0, 'neu': 1.0, 'pos': 0.0, 'compound...</td>\n",
              "      <td>4</td>\n",
              "      <td>Neutral</td>\n",
              "      <td>0.0000</td>\n",
              "    </tr>\n",
              "    <tr>\n",
              "      <th>49</th>\n",
              "      <td>The 48 packs are the lowest price per AA batte...</td>\n",
              "      <td>{'neg': 0.025, 'neu': 0.901, 'pos': 0.074, 'co...</td>\n",
              "      <td>5</td>\n",
              "      <td>Positive</td>\n",
              "      <td>0.5326</td>\n",
              "    </tr>\n",
              "    <tr>\n",
              "      <th>50</th>\n",
              "      <td>I definitely love the price and quantity.. My ...</td>\n",
              "      <td>{'neg': 0.0, 'neu': 0.711, 'pos': 0.289, 'comp...</td>\n",
              "      <td>5</td>\n",
              "      <td>Positive</td>\n",
              "      <td>0.7845</td>\n",
              "    </tr>\n",
              "  </tbody>\n",
              "</table>\n",
              "</div>\n",
              "    <div class=\"colab-df-buttons\">\n",
              "\n",
              "  <div class=\"colab-df-container\">\n",
              "    <button class=\"colab-df-convert\" onclick=\"convertToInteractive('df-7ae4a6bf-dbca-4374-a9ca-afdc83921696')\"\n",
              "            title=\"Convert this dataframe to an interactive table.\"\n",
              "            style=\"display:none;\">\n",
              "\n",
              "  <svg xmlns=\"http://www.w3.org/2000/svg\" height=\"24px\" viewBox=\"0 -960 960 960\">\n",
              "    <path d=\"M120-120v-720h720v720H120Zm60-500h600v-160H180v160Zm220 220h160v-160H400v160Zm0 220h160v-160H400v160ZM180-400h160v-160H180v160Zm440 0h160v-160H620v160ZM180-180h160v-160H180v160Zm440 0h160v-160H620v160Z\"/>\n",
              "  </svg>\n",
              "    </button>\n",
              "\n",
              "  <style>\n",
              "    .colab-df-container {\n",
              "      display:flex;\n",
              "      gap: 12px;\n",
              "    }\n",
              "\n",
              "    .colab-df-convert {\n",
              "      background-color: #E8F0FE;\n",
              "      border: none;\n",
              "      border-radius: 50%;\n",
              "      cursor: pointer;\n",
              "      display: none;\n",
              "      fill: #1967D2;\n",
              "      height: 32px;\n",
              "      padding: 0 0 0 0;\n",
              "      width: 32px;\n",
              "    }\n",
              "\n",
              "    .colab-df-convert:hover {\n",
              "      background-color: #E2EBFA;\n",
              "      box-shadow: 0px 1px 2px rgba(60, 64, 67, 0.3), 0px 1px 3px 1px rgba(60, 64, 67, 0.15);\n",
              "      fill: #174EA6;\n",
              "    }\n",
              "\n",
              "    .colab-df-buttons div {\n",
              "      margin-bottom: 4px;\n",
              "    }\n",
              "\n",
              "    [theme=dark] .colab-df-convert {\n",
              "      background-color: #3B4455;\n",
              "      fill: #D2E3FC;\n",
              "    }\n",
              "\n",
              "    [theme=dark] .colab-df-convert:hover {\n",
              "      background-color: #434B5C;\n",
              "      box-shadow: 0px 1px 3px 1px rgba(0, 0, 0, 0.15);\n",
              "      filter: drop-shadow(0px 1px 2px rgba(0, 0, 0, 0.3));\n",
              "      fill: #FFFFFF;\n",
              "    }\n",
              "  </style>\n",
              "\n",
              "    <script>\n",
              "      const buttonEl =\n",
              "        document.querySelector('#df-7ae4a6bf-dbca-4374-a9ca-afdc83921696 button.colab-df-convert');\n",
              "      buttonEl.style.display =\n",
              "        google.colab.kernel.accessAllowed ? 'block' : 'none';\n",
              "\n",
              "      async function convertToInteractive(key) {\n",
              "        const element = document.querySelector('#df-7ae4a6bf-dbca-4374-a9ca-afdc83921696');\n",
              "        const dataTable =\n",
              "          await google.colab.kernel.invokeFunction('convertToInteractive',\n",
              "                                                    [key], {});\n",
              "        if (!dataTable) return;\n",
              "\n",
              "        const docLinkHtml = 'Like what you see? Visit the ' +\n",
              "          '<a target=\"_blank\" href=https://colab.research.google.com/notebooks/data_table.ipynb>data table notebook</a>'\n",
              "          + ' to learn more about interactive tables.';\n",
              "        element.innerHTML = '';\n",
              "        dataTable['output_type'] = 'display_data';\n",
              "        await google.colab.output.renderOutput(dataTable, element);\n",
              "        const docLink = document.createElement('div');\n",
              "        docLink.innerHTML = docLinkHtml;\n",
              "        element.appendChild(docLink);\n",
              "      }\n",
              "    </script>\n",
              "  </div>\n",
              "\n",
              "\n",
              "<div id=\"df-3041e8dc-e4ef-4ade-b7bc-1059647f6f8b\">\n",
              "  <button class=\"colab-df-quickchart\" onclick=\"quickchart('df-3041e8dc-e4ef-4ade-b7bc-1059647f6f8b')\"\n",
              "            title=\"Suggest charts\"\n",
              "            style=\"display:none;\">\n",
              "\n",
              "<svg xmlns=\"http://www.w3.org/2000/svg\" height=\"24px\"viewBox=\"0 0 24 24\"\n",
              "     width=\"24px\">\n",
              "    <g>\n",
              "        <path d=\"M19 3H5c-1.1 0-2 .9-2 2v14c0 1.1.9 2 2 2h14c1.1 0 2-.9 2-2V5c0-1.1-.9-2-2-2zM9 17H7v-7h2v7zm4 0h-2V7h2v10zm4 0h-2v-4h2v4z\"/>\n",
              "    </g>\n",
              "</svg>\n",
              "  </button>\n",
              "\n",
              "<style>\n",
              "  .colab-df-quickchart {\n",
              "      --bg-color: #E8F0FE;\n",
              "      --fill-color: #1967D2;\n",
              "      --hover-bg-color: #E2EBFA;\n",
              "      --hover-fill-color: #174EA6;\n",
              "      --disabled-fill-color: #AAA;\n",
              "      --disabled-bg-color: #DDD;\n",
              "  }\n",
              "\n",
              "  [theme=dark] .colab-df-quickchart {\n",
              "      --bg-color: #3B4455;\n",
              "      --fill-color: #D2E3FC;\n",
              "      --hover-bg-color: #434B5C;\n",
              "      --hover-fill-color: #FFFFFF;\n",
              "      --disabled-bg-color: #3B4455;\n",
              "      --disabled-fill-color: #666;\n",
              "  }\n",
              "\n",
              "  .colab-df-quickchart {\n",
              "    background-color: var(--bg-color);\n",
              "    border: none;\n",
              "    border-radius: 50%;\n",
              "    cursor: pointer;\n",
              "    display: none;\n",
              "    fill: var(--fill-color);\n",
              "    height: 32px;\n",
              "    padding: 0;\n",
              "    width: 32px;\n",
              "  }\n",
              "\n",
              "  .colab-df-quickchart:hover {\n",
              "    background-color: var(--hover-bg-color);\n",
              "    box-shadow: 0 1px 2px rgba(60, 64, 67, 0.3), 0 1px 3px 1px rgba(60, 64, 67, 0.15);\n",
              "    fill: var(--button-hover-fill-color);\n",
              "  }\n",
              "\n",
              "  .colab-df-quickchart-complete:disabled,\n",
              "  .colab-df-quickchart-complete:disabled:hover {\n",
              "    background-color: var(--disabled-bg-color);\n",
              "    fill: var(--disabled-fill-color);\n",
              "    box-shadow: none;\n",
              "  }\n",
              "\n",
              "  .colab-df-spinner {\n",
              "    border: 2px solid var(--fill-color);\n",
              "    border-color: transparent;\n",
              "    border-bottom-color: var(--fill-color);\n",
              "    animation:\n",
              "      spin 1s steps(1) infinite;\n",
              "  }\n",
              "\n",
              "  @keyframes spin {\n",
              "    0% {\n",
              "      border-color: transparent;\n",
              "      border-bottom-color: var(--fill-color);\n",
              "      border-left-color: var(--fill-color);\n",
              "    }\n",
              "    20% {\n",
              "      border-color: transparent;\n",
              "      border-left-color: var(--fill-color);\n",
              "      border-top-color: var(--fill-color);\n",
              "    }\n",
              "    30% {\n",
              "      border-color: transparent;\n",
              "      border-left-color: var(--fill-color);\n",
              "      border-top-color: var(--fill-color);\n",
              "      border-right-color: var(--fill-color);\n",
              "    }\n",
              "    40% {\n",
              "      border-color: transparent;\n",
              "      border-right-color: var(--fill-color);\n",
              "      border-top-color: var(--fill-color);\n",
              "    }\n",
              "    60% {\n",
              "      border-color: transparent;\n",
              "      border-right-color: var(--fill-color);\n",
              "    }\n",
              "    80% {\n",
              "      border-color: transparent;\n",
              "      border-right-color: var(--fill-color);\n",
              "      border-bottom-color: var(--fill-color);\n",
              "    }\n",
              "    90% {\n",
              "      border-color: transparent;\n",
              "      border-bottom-color: var(--fill-color);\n",
              "    }\n",
              "  }\n",
              "</style>\n",
              "\n",
              "  <script>\n",
              "    async function quickchart(key) {\n",
              "      const quickchartButtonEl =\n",
              "        document.querySelector('#' + key + ' button');\n",
              "      quickchartButtonEl.disabled = true;  // To prevent multiple clicks.\n",
              "      quickchartButtonEl.classList.add('colab-df-spinner');\n",
              "      try {\n",
              "        const charts = await google.colab.kernel.invokeFunction(\n",
              "            'suggestCharts', [key], {});\n",
              "      } catch (error) {\n",
              "        console.error('Error during call to suggestCharts:', error);\n",
              "      }\n",
              "      quickchartButtonEl.classList.remove('colab-df-spinner');\n",
              "      quickchartButtonEl.classList.add('colab-df-quickchart-complete');\n",
              "    }\n",
              "    (() => {\n",
              "      let quickchartButtonEl =\n",
              "        document.querySelector('#df-3041e8dc-e4ef-4ade-b7bc-1059647f6f8b button');\n",
              "      quickchartButtonEl.style.display =\n",
              "        google.colab.kernel.accessAllowed ? 'block' : 'none';\n",
              "    })();\n",
              "  </script>\n",
              "</div>\n",
              "    </div>\n",
              "  </div>\n"
            ],
            "application/vnd.google.colaboratory.intrinsic+json": {
              "type": "dataframe",
              "summary": "{\n  \"name\": \"amazon_reviews_rel_columns[['reviews\",\n  \"rows\": 11,\n  \"fields\": [\n    {\n      \"column\": \"reviews.text\",\n      \"properties\": {\n        \"dtype\": \"string\",\n        \"num_unique_values\": 11,\n        \"samples\": [\n          \"These batteries don't last even in a simple digital clock. 2 weeks at best.\",\n          \"3rd purchase of these AA from Amazon, all have expiration of 2027. Ones I've used thus far last as Long as name brands\",\n          \"The 48 packs are the lowest price per AA battery you will find anywhere. I have a device I use for work that needs 8 new AA batteries every working day. These batteries get me through a 12 hour day the same as the expensive batteries. I could switch to rechargeable batteries but the simplicity of just putting in new batteries and not fooling with recharging every night is worth it to me.\"\n        ],\n        \"semantic_type\": \"\",\n        \"description\": \"\"\n      }\n    },\n    {\n      \"column\": \"nltk_pol_scores\",\n      \"properties\": {\n        \"dtype\": \"object\",\n        \"semantic_type\": \"\",\n        \"description\": \"\"\n      }\n    },\n    {\n      \"column\": \"reviews.rating\",\n      \"properties\": {\n        \"dtype\": \"number\",\n        \"std\": 1,\n        \"min\": 1,\n        \"max\": 5,\n        \"num_unique_values\": 4,\n        \"samples\": [\n          3,\n          4,\n          5\n        ],\n        \"semantic_type\": \"\",\n        \"description\": \"\"\n      }\n    },\n    {\n      \"column\": \"nltk_sentiment_analysis\",\n      \"properties\": {\n        \"dtype\": \"category\",\n        \"num_unique_values\": 2,\n        \"samples\": [\n          \"Neutral\",\n          \"Positive\"\n        ],\n        \"semantic_type\": \"\",\n        \"description\": \"\"\n      }\n    },\n    {\n      \"column\": \"nltk_comp_scores\",\n      \"properties\": {\n        \"dtype\": \"number\",\n        \"std\": 0.27855313121394076,\n        \"min\": 0.0,\n        \"max\": 0.7845,\n        \"num_unique_values\": 10,\n        \"samples\": [\n          0.5326,\n          0.4215\n        ],\n        \"semantic_type\": \"\",\n        \"description\": \"\"\n      }\n    }\n  ]\n}"
            }
          },
          "metadata": {},
          "execution_count": 164
        }
      ]
    },
    {
      "cell_type": "markdown",
      "source": [
        "Right off the back we see some discrepancy when compared the sentiments with the ratings (for eg: index 24), giving an indication of poor performance. Therefore we will look at the review manually to understand the sentiment."
      ],
      "metadata": {
        "id": "YLm8RlU6YlF2"
      }
    },
    {
      "cell_type": "code",
      "source": [
        "amazon_reviews_rel_columns['reviews.text'][24]"
      ],
      "metadata": {
        "colab": {
          "base_uri": "https://localhost:8080/",
          "height": 35
        },
        "id": "bxA8GA7LT_A7",
        "outputId": "e7582ae7-d304-4152-8ad8-2172c94aa05b"
      },
      "execution_count": null,
      "outputs": [
        {
          "output_type": "execute_result",
          "data": {
            "text/plain": [
              "'These do not last long at all very cheap batteries no happy'"
            ],
            "application/vnd.google.colaboratory.intrinsic+json": {
              "type": "string"
            }
          },
          "metadata": {},
          "execution_count": 157
        }
      ]
    },
    {
      "cell_type": "code",
      "source": [
        "amazon_reviews_rel_columns['nltk_sentiment_analysis'][24]"
      ],
      "metadata": {
        "colab": {
          "base_uri": "https://localhost:8080/",
          "height": 35
        },
        "id": "XB7VUjrxU9qV",
        "outputId": "27bb5ed2-fb39-4c19-ab81-d34014036fc7"
      },
      "execution_count": null,
      "outputs": [
        {
          "output_type": "execute_result",
          "data": {
            "text/plain": [
              "'Positive'"
            ],
            "application/vnd.google.colaboratory.intrinsic+json": {
              "type": "string"
            }
          },
          "metadata": {},
          "execution_count": 159
        }
      ]
    },
    {
      "cell_type": "markdown",
      "source": [
        "Indeed, we see that the review was actually negative but the model categorised it to be positive."
      ],
      "metadata": {
        "id": "XVfM0SfoY8Uh"
      }
    },
    {
      "cell_type": "markdown",
      "source": [
        "In the same way we will manually review the text on few other cells which we found to have discrepancies by looking at the whole Dataframe above."
      ],
      "metadata": {
        "id": "MLSw7PK6ZIvn"
      }
    },
    {
      "cell_type": "code",
      "source": [
        "amazon_reviews_rel_columns['reviews.text'][29]"
      ],
      "metadata": {
        "colab": {
          "base_uri": "https://localhost:8080/",
          "height": 53
        },
        "id": "BSR4LU9kU1ta",
        "outputId": "e289ab64-52c6-41ac-c4d7-5761dc00ad63"
      },
      "execution_count": null,
      "outputs": [
        {
          "output_type": "execute_result",
          "data": {
            "text/plain": [
              "'these were under a light we thought they were there to fit the light when they arrived and nice company they were not the batteries we needed it should have been aa but that is ok,it was our fault not knowing this. thanks..'"
            ],
            "application/vnd.google.colaboratory.intrinsic+json": {
              "type": "string"
            }
          },
          "metadata": {},
          "execution_count": 158
        }
      ]
    },
    {
      "cell_type": "code",
      "source": [
        "amazon_reviews_rel_columns['nltk_sentiment_analysis'][29]"
      ],
      "metadata": {
        "colab": {
          "base_uri": "https://localhost:8080/",
          "height": 35
        },
        "id": "9qQ0AJCqVGUP",
        "outputId": "7739d753-5719-4087-e4b3-2988c493f9e2"
      },
      "execution_count": null,
      "outputs": [
        {
          "output_type": "execute_result",
          "data": {
            "text/plain": [
              "'Negative'"
            ],
            "application/vnd.google.colaboratory.intrinsic+json": {
              "type": "string"
            }
          },
          "metadata": {},
          "execution_count": 160
        }
      ]
    },
    {
      "cell_type": "code",
      "source": [
        "amazon_reviews_rel_columns['reviews.text'][43]"
      ],
      "metadata": {
        "colab": {
          "base_uri": "https://localhost:8080/",
          "height": 53
        },
        "id": "49JnzePLVqNR",
        "outputId": "ec259ac9-60f6-4690-d0fd-b251a03ea1a4"
      },
      "execution_count": null,
      "outputs": [
        {
          "output_type": "execute_result",
          "data": {
            "text/plain": [
              "'First time I bought these they worked well and lasted almost as long as the name brands. Not the same this time around, almost no charge - 4-6 hours of run time - Junk batteries.'"
            ],
            "application/vnd.google.colaboratory.intrinsic+json": {
              "type": "string"
            }
          },
          "metadata": {},
          "execution_count": 165
        }
      ]
    },
    {
      "cell_type": "code",
      "source": [
        "amazon_reviews_rel_columns['nltk_sentiment_analysis'][43]"
      ],
      "metadata": {
        "colab": {
          "base_uri": "https://localhost:8080/",
          "height": 35
        },
        "id": "CMwRQkxHVryU",
        "outputId": "0c9ad6ef-9eb5-4bba-b17a-9df1b9e14af0"
      },
      "execution_count": null,
      "outputs": [
        {
          "output_type": "execute_result",
          "data": {
            "text/plain": [
              "'Positive'"
            ],
            "application/vnd.google.colaboratory.intrinsic+json": {
              "type": "string"
            }
          },
          "metadata": {},
          "execution_count": 166
        }
      ]
    },
    {
      "cell_type": "code",
      "source": [
        "amazon_reviews_rel_columns['reviews.text'][45]"
      ],
      "metadata": {
        "colab": {
          "base_uri": "https://localhost:8080/",
          "height": 35
        },
        "id": "MoOrP748WAps",
        "outputId": "f85d961b-fb38-4e61-d050-25d30515ea47"
      },
      "execution_count": null,
      "outputs": [
        {
          "output_type": "execute_result",
          "data": {
            "text/plain": [
              "\"These batteries don't last even in a simple digital clock. 2 weeks at best.\""
            ],
            "application/vnd.google.colaboratory.intrinsic+json": {
              "type": "string"
            }
          },
          "metadata": {},
          "execution_count": 167
        }
      ]
    },
    {
      "cell_type": "code",
      "source": [
        "amazon_reviews_rel_columns['nltk_sentiment_analysis'][45]"
      ],
      "metadata": {
        "colab": {
          "base_uri": "https://localhost:8080/",
          "height": 35
        },
        "id": "0v4brplKWBjv",
        "outputId": "8580e082-b2e7-4dbe-d88c-64b50c42dff5"
      },
      "execution_count": null,
      "outputs": [
        {
          "output_type": "execute_result",
          "data": {
            "text/plain": [
              "'Positive'"
            ],
            "application/vnd.google.colaboratory.intrinsic+json": {
              "type": "string"
            }
          },
          "metadata": {},
          "execution_count": 168
        }
      ]
    },
    {
      "cell_type": "code",
      "source": [
        "amazon_reviews_rel_columns['reviews.text'][47]"
      ],
      "metadata": {
        "colab": {
          "base_uri": "https://localhost:8080/",
          "height": 35
        },
        "id": "WZ8TfE4CWB38",
        "outputId": "1c3d8d2a-2cb7-46fa-809a-43d742ee8272"
      },
      "execution_count": null,
      "outputs": [
        {
          "output_type": "execute_result",
          "data": {
            "text/plain": [
              "'Date on the back of these were 1992. Yeah, 1992. Inedible.'"
            ],
            "application/vnd.google.colaboratory.intrinsic+json": {
              "type": "string"
            }
          },
          "metadata": {},
          "execution_count": 170
        }
      ]
    },
    {
      "cell_type": "code",
      "source": [
        "amazon_reviews_rel_columns['nltk_sentiment_analysis'][47]"
      ],
      "metadata": {
        "colab": {
          "base_uri": "https://localhost:8080/",
          "height": 35
        },
        "id": "LTGSfXwZWC0e",
        "outputId": "917f9c97-d2cb-4acb-c7f4-f5be6ae873a0"
      },
      "execution_count": null,
      "outputs": [
        {
          "output_type": "execute_result",
          "data": {
            "text/plain": [
              "'Positive'"
            ],
            "application/vnd.google.colaboratory.intrinsic+json": {
              "type": "string"
            }
          },
          "metadata": {},
          "execution_count": 171
        }
      ]
    },
    {
      "cell_type": "markdown",
      "source": [
        "We see that a sample set of cells scrutinized above, failed to categorise the sentiment of the text properly. By manually reading all cells above (at indices 29, 43, 45 and 47) and comparing it with the sentiment label the model has provided, we see that in all these instances the model failed to predict the sentiment of the text correctly."
      ],
      "metadata": {
        "id": "3nE3k4nSZgqU"
      }
    },
    {
      "cell_type": "markdown",
      "source": [
        "## Visualising polarity of words according to their polarity scores.\n",
        "\n",
        "We will initialise three dictionary objects for positive, neutral, and negative words, where we will store the words according to their polarity."
      ],
      "metadata": {
        "id": "3MzGiyizaXjy"
      }
    },
    {
      "cell_type": "code",
      "source": [
        "# Initialize dictionaries to hold positive and negative words\n",
        "nltk_positive_words = defaultdict(int)\n",
        "nltk_neutral_words = defaultdict(int)\n",
        "nltk_negative_words = defaultdict(int)"
      ],
      "metadata": {
        "id": "viRJM-4HWT1s"
      },
      "execution_count": null,
      "outputs": []
    },
    {
      "cell_type": "markdown",
      "source": [
        "Then we will use a for loop to iterate through all cells of the reviews.text column, changing the string to a Unicode using SpaCy. Then we will grab only those tokens (lemmatized and lower case) which are not stop words and not non alpha words. Then we will iterate through each token and store the word (converted to string from token) in a dictionary (one out of 3 defined above) according to its polarity score."
      ],
      "metadata": {
        "id": "A0faYADlashi"
      }
    },
    {
      "cell_type": "code",
      "source": [
        "for sentence in amazon_reviews_rel_columns['reviews.text']:\n",
        "\n",
        "  sentence = nlp(sentence)\n",
        "  tokens = [token.lemma_.lower().strip() for token in sentence if not token.is_stop and token.is_alpha]\n",
        "\n",
        "  for word in tokens:\n",
        "    nltk_polarity = sid.polarity_scores(str(word))\n",
        "    nltk_compound = nltk_polarity['compound']\n",
        "\n",
        "    if nltk_compound > 0:\n",
        "      nltk_positive_words[word] += 1\n",
        "    elif nltk_compound < 0:\n",
        "      nltk_negative_words[word] += 1\n",
        "    elif nltk_compound == 0:\n",
        "      nltk_neutral_words[word] += 1"
      ],
      "metadata": {
        "id": "9ogksfrepD32"
      },
      "execution_count": null,
      "outputs": []
    },
    {
      "cell_type": "markdown",
      "source": [
        "Using wordcloud to generate a word cloud visualization based on the frequencies of words provided in all three dictionaries."
      ],
      "metadata": {
        "id": "834caIVNb0i9"
      }
    },
    {
      "cell_type": "code",
      "source": [
        "nltk_pos_word_cloud = WordCloud(width=400, height=200, background_color ='white').generate_from_frequencies(nltk_positive_words)\n",
        "nltk_neu_word_cloud = WordCloud(width=400, height=200, background_color ='white').generate_from_frequencies(nltk_neutral_words)\n",
        "nltk_neg_word_cloud = WordCloud(width=400, height=200, background_color ='white').generate_from_frequencies(nltk_negative_words)"
      ],
      "metadata": {
        "id": "yDrdg7qiX5Rj"
      },
      "execution_count": null,
      "outputs": []
    },
    {
      "cell_type": "markdown",
      "source": [
        "Creating 3 subplots (using the dictionaries created above) using Matplotlib."
      ],
      "metadata": {
        "id": "k3eJrVdwb4k8"
      }
    },
    {
      "cell_type": "code",
      "source": [
        "fig, ax = plt.subplots(1, 3, figsize=(15, 10))\n",
        "\n",
        "ax[0].imshow(nltk_pos_word_cloud, interpolation='bilinear')\n",
        "ax[0].set_title('Positive Words')\n",
        "ax[0].axis('off')\n",
        "\n",
        "ax[1].imshow(nltk_neu_word_cloud, interpolation='bilinear')\n",
        "ax[1].set_title('Neutral Words')\n",
        "ax[1].axis('off')\n",
        "\n",
        "ax[2].imshow(nltk_neg_word_cloud, interpolation='bilinear')\n",
        "ax[2].set_title('Negative Words')\n",
        "ax[2].axis('off')\n",
        "\n",
        "plt.show()"
      ],
      "metadata": {
        "colab": {
          "base_uri": "https://localhost:8080/",
          "height": 230
        },
        "id": "R4OyvuqnX-b8",
        "outputId": "d849d1e4-131d-43bd-e6ea-f090d06e4a0e"
      },
      "execution_count": null,
      "outputs": [
        {
          "output_type": "display_data",
          "data": {
            "text/plain": [
              "<Figure size 1500x1000 with 3 Axes>"
            ],
            "image/png": "[encoded data removed]"
          },
          "metadata": {}
        }
      ]
    },
    {
      "cell_type": "markdown",
      "source": [
        "## Evaluation\n",
        "\n",
        "From the visualization of word cloud we can clearly see that this model (with NLTK) has done better than the SpaCy model, especially on the negative words. Although both Positive and Neutral words are similar to the SpaCy model, we see that it has interpreted Negative words more effectively.\n",
        "\n",
        "Although when analysing a sample set of cells manually, we have noticed that there were some cells which for which sentiment was analysed incorrectly but this was the same situation with SpaCy model well. However, from the word could we can say with some relative certainty that this model has performed better than the last one."
      ],
      "metadata": {
        "id": "hWj-Q2VAcPQg"
      }
    },
    {
      "cell_type": "markdown",
      "source": [
        "## Conclusion:\n",
        "\n",
        "We see that both SpaCy (when used with TextBlob) and NLTK (when used with VADER) are both powerful tools to analyse polarity. However it seems that NLTK is slightly better in this case. It should be also taken into consideration that SpaCy was used with medium English library and the results might improve with the large English library."
      ],
      "metadata": {
        "id": "PzyeLf8EdW8w"
      }
    }
  ]
}